{
 "cells": [
  {
   "cell_type": "code",
   "execution_count": 231,
   "metadata": {},
   "outputs": [],
   "source": [
    "import numpy as np"
   ]
  },
  {
   "cell_type": "markdown",
   "metadata": {},
   "source": [
    "777: 200 руб.\n",
    "999: 100 руб.\n",
    "555: 50 руб.\n",
    "333: 15 руб.\n",
    "111: 10 руб.\n",
    "*77: 5 руб.\n",
    "**7: 3 руб.\n",
    "*00: 2 руб.\n",
    "**0: 1 руб."
   ]
  },
  {
   "cell_type": "code",
   "execution_count": 237,
   "metadata": {},
   "outputs": [],
   "source": [
    "def checking_the_number(number):\n",
    "    if number == 777:\n",
    "        return 200, 777\n",
    "    elif number == 999:\n",
    "        return 100, 999\n",
    "    elif number == 555:\n",
    "        return 50, 555\n",
    "    elif number == 333:\n",
    "        return 15, 333\n",
    "    elif number == 111:\n",
    "        return 10, 111\n",
    "    elif (number % 100) == 77:\n",
    "        return 5, 77\n",
    "    elif (number % 10) == 7:\n",
    "        return 3, 7\n",
    "    elif (number % 100) == 0:\n",
    "        return 2, 2\n",
    "    elif (number % 10) == 0:\n",
    "        return 1, 1\n",
    "    else:\n",
    "        return 0, 0"
   ]
  },
  {
   "cell_type": "code",
   "execution_count": 240,
   "metadata": {},
   "outputs": [
    {
     "name": "stdout",
     "output_type": "stream",
     "text": [
      "Потрачено всего: 10000000.00 рублей\n",
      "Выиграл всего: 8042524.00 рублей\n",
      "Доход: -1957476.00 рублей\n",
      "В среднем приобретает или теряет игрок за одну игру (модель/теория): -0.20 рублей / -0.20\n",
      "Частота успехов всего (модель/теория): 0.204054 / 0.204000\n",
      "Частота проигрыша (модель/теория): 0.795946 / 0.796000\n",
      "\n",
      "Количество успехов для 777: 10185, частота модель/теория: 0.001019 / 0.001000, сумма выиграша: 2037000 рублей\n",
      "Количество успехов для 999: 10053, частота модель/теория: 0.001005 / 0.001000, сумма выиграша: 1005300 рублей\n",
      "Количество успехов для 555: 9943, частота модель/теория: 0.000994 / 0.001000, сумма выиграша: 497150 рублей\n",
      "Количество успехов для 333: 9951, частота модель/теория: 0.000995 / 0.001000, сумма выиграша: 149265 рублей\n",
      "Количество успехов для 111: 10050, частота модель/теория: 0.001005 / 0.001000, сумма выиграша: 100500 рублей\n",
      "Количество успехов для *77: 89823, частота модель/теория: 0.008982 / 0.009000, сумма выиграша: 449115 рублей\n",
      "Количество успехов для **7: 901659, частота модель/теория: 0.090166 / 0.090000, сумма выиграша: 2704977 рублей\n",
      "Количество успехов для *00: 100340, частота модель/теория: 0.010034 / 0.010000, сумма выиграша: 200680 рублей\n",
      "Количество успехов для **0: 898537, частота модель/теория: 0.089854 / 0.090000, сумма выиграша: 898537 рублей\n",
      "Количество успехов для остальных вариантов: 7959459, частота модель/теория: 0.795946 / 0.796000, сумма выиграша: 0 рублей\n"
     ]
    }
   ],
   "source": [
    "table_of_winnings = {777: 200, 999: 100, 555: 50, 333: 15, 111: 10, 77: 5, 7: 3, 2: 2, 1: 1, 0: 0} \n",
    "success_table =     {777: 0,   999: 0,   555: 0,  333: 0,  111: 0,  77: 0, 7: 0, 2: 0, 1: 0, 0: 0}\n",
    "translation_table = {777: '777', 999: '999', 555: '555', 333: '333', 111: '111', 77: '*77', 7: '**7', 2: '*00', 1: '**0', 0: 'остальных вариантов'} \n",
    "theory =            {777: 0,   999: 0,   555: 0,  333: 0,  111: 0,  77: 0, 7: 0, 2: 0, 1: 0, 0: 0}\n",
    "\n",
    "trials = 10000000    # Количество попыток\n",
    "won_some_money = 0    # Сколько выиграл\n",
    "successes = 0 # Количество всего успехов\n",
    "\n",
    "won_some_money_theory = 0    # Сколько выиграл теория\n",
    "successes_theory = 0 # Количество всего успехов теория\n",
    "trials_theory = 1000 # количество чисел\n",
    "\n",
    "for i in range(trials): # моделирование\n",
    "    payoff = checking_the_number(np.random.randint(0, 1000))\n",
    "    won_some_money += payoff[0] # считаем выигрыш\n",
    "    if payoff[0] > 0: successes += 1 # Количество всего успехов\n",
    "    success_table[payoff[1]] += 1 # записываем успехи\n",
    "    \n",
    "for i in range(trials_theory): # теория\n",
    "    payoff_theory = checking_the_number(i)\n",
    "    won_some_money_theory += payoff_theory[0] # считаем выигрыш\n",
    "    if payoff_theory[0] > 0: successes_theory += 1 # Количество всего успехов\n",
    "    theory[payoff_theory[1]] += 1 # записываем успехи\n",
    "    \n",
    "print('Потрачено всего: {:.2f} рублей'.format(trials))\n",
    "print('Выиграл всего: {:.2f} рублей'.format(won_some_money))\n",
    "print('Доход: {:.2f} рублей'.format(won_some_money-trials))\n",
    "print('В среднем приобретает или теряет игрок за одну игру (модель/теория): {:.2f} рублей'.format((won_some_money-trials) / trials) +\n",
    "      ' / {:.2f}'.format((won_some_money_theory-trials_theory) / trials_theory))\n",
    "print('Частота успехов всего (модель/теория): {:.6f}'.format(successes / trials) +\n",
    "      ' / {:.6f}'.format(successes_theory / trials_theory))\n",
    "print('Частота проигрыша (модель/теория): {:.6f}'.format(success_table.get(0) / trials) +\n",
    "      ' / {:.6f}'.format(theory.get(0) / trials_theory))\n",
    "print()\n",
    "for key, value in success_table.items():\n",
    "    print('Количество успехов для {:}'.format(translation_table.get(key)) +': {:.0f}'.format(value) + \n",
    "          ', частота модель/теория: {:.6f}'.format(value / trials) +\n",
    "          ' / {:.6f}'.format(theory.get(key) / trials_theory) +\n",
    "          ', сумма выиграша: {:.0f} рублей'.format(value * table_of_winnings.get(key)))\n"
   ]
  }
 ],
 "metadata": {
  "kernelspec": {
   "display_name": "Python 3",
   "language": "python",
   "name": "python3"
  },
  "language_info": {
   "codemirror_mode": {
    "name": "ipython",
    "version": 3
   },
   "file_extension": ".py",
   "mimetype": "text/x-python",
   "name": "python",
   "nbconvert_exporter": "python",
   "pygments_lexer": "ipython3",
   "version": "3.8.5"
  }
 },
 "nbformat": 4,
 "nbformat_minor": 4
}
