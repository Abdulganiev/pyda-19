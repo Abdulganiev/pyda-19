{
 "cells": [
  {
   "cell_type": "code",
   "execution_count": 1,
   "metadata": {},
   "outputs": [],
   "source": [
    "import numpy as np"
   ]
  },
  {
   "cell_type": "code",
   "execution_count": 23,
   "metadata": {},
   "outputs": [],
   "source": []
  },
  {
   "cell_type": "code",
   "execution_count": 68,
   "metadata": {},
   "outputs": [
    {
     "data": {
      "text/plain": [
       "3"
      ]
     },
     "execution_count": 68,
     "metadata": {},
     "output_type": "execute_result"
    }
   ],
   "source": [
    "# генерируем дискретную величину\n",
    "\n",
    "# можем зафиксировать состояние генератора\n",
    "# np.random.seed(42)\n",
    "np.random.randint(1, 5)"
   ]
  },
  {
   "cell_type": "code",
   "execution_count": 109,
   "metadata": {},
   "outputs": [
    {
     "data": {
      "text/plain": [
       "array([3, 3, 4, 3, 2, 2, 1, 1, 3, 1, 1, 2, 3, 1, 4, 2, 2, 2, 1, 3, 3, 1,\n",
       "       2, 2, 3, 3, 2, 2, 2, 1, 1, 2, 3, 1, 4, 4, 1, 4, 4, 2, 3, 3, 2, 2,\n",
       "       2, 4, 4, 2, 1, 2, 3, 4, 2, 3, 1, 2, 3, 4, 4, 2, 2, 3, 4, 1, 3, 2,\n",
       "       2, 2, 4, 2, 4, 1, 2, 2, 3, 4, 4, 2, 3, 4, 3, 3, 4, 3, 4, 3, 3, 2,\n",
       "       2, 1, 3, 4, 1, 4, 4, 1, 4, 2, 1, 1])"
      ]
     },
     "execution_count": 109,
     "metadata": {},
     "output_type": "execute_result"
    }
   ],
   "source": [
    "np.random.randint(1, 5, 100)"
   ]
  },
  {
   "cell_type": "code",
   "execution_count": 11,
   "metadata": {},
   "outputs": [
    {
     "data": {
      "text/plain": [
       "array([0.92948412, 0.15080661, 0.68866202, 0.62970202, 0.17328474,\n",
       "       0.83871525, 0.4391718 , 0.52653463, 0.15241286, 0.40483342,\n",
       "       0.82926945, 0.1545064 , 0.65735134, 0.63055282, 0.30945419,\n",
       "       0.92384239, 0.59689244, 0.2561755 , 0.28823782, 0.06449329,\n",
       "       0.51369644, 0.06165686, 0.24545979, 0.11520842, 0.84567189,\n",
       "       0.84948142, 0.74009547, 0.45696728, 0.81268504, 0.29194198,\n",
       "       0.91957177, 0.33782835, 0.68511703, 0.17401375, 0.53737548,\n",
       "       0.44887933, 0.46324287, 0.68701456, 0.85811208, 0.15850577,\n",
       "       0.47615862, 0.40244258, 0.1421539 , 0.48643893, 0.5099978 ,\n",
       "       0.86281205, 0.10376117, 0.05586584, 0.08665731, 0.98696334,\n",
       "       0.93017504, 0.39250329, 0.26377537, 0.52419445, 0.37152614,\n",
       "       0.94675877, 0.72078798, 0.01429009, 0.26259766, 0.6195757 ,\n",
       "       0.50219139, 0.8787467 , 0.33948238, 0.95432139, 0.97154764,\n",
       "       0.57794808, 0.83943028, 0.43693678, 0.35191615, 0.80901891,\n",
       "       0.87022381, 0.22301847, 0.21939967, 0.0971143 , 0.53711364,\n",
       "       0.72567195, 0.2643205 , 0.62606615, 0.53884614, 0.68294627,\n",
       "       0.72637691, 0.85754082, 0.38776524, 0.46745904, 0.22389558,\n",
       "       0.09834132, 0.60624972, 0.94126705, 0.22995033, 0.07879784,\n",
       "       0.62734757, 0.66194925, 0.28441899, 0.65402208, 0.37189927,\n",
       "       0.96120892, 0.42453164, 0.07700956, 0.22242895, 0.97046131])"
      ]
     },
     "execution_count": 11,
     "metadata": {},
     "output_type": "execute_result"
    }
   ],
   "source": [
    "# генерируем непрерывную величину\n",
    "np.random.random(100)"
   ]
  },
  {
   "cell_type": "code",
   "execution_count": 13,
   "metadata": {},
   "outputs": [
    {
     "data": {
      "text/plain": [
       "3.208313962747994"
      ]
     },
     "execution_count": 13,
     "metadata": {},
     "output_type": "execute_result"
    }
   ],
   "source": [
    "np.random.uniform(1, 5)"
   ]
  },
  {
   "cell_type": "code",
   "execution_count": 16,
   "metadata": {},
   "outputs": [
    {
     "data": {
      "text/plain": [
       "array([1.73768936, 4.25266358, 4.99929164, 1.99587788, 3.46204707,\n",
       "       1.72404894, 3.52132591, 1.54624869, 3.50554478, 1.11958447,\n",
       "       1.1823043 , 4.16871983, 1.78489665, 3.11468424, 3.89254719,\n",
       "       2.98121283, 4.70267793, 2.09964776, 1.16630883, 1.42603768,\n",
       "       3.96838033, 3.72680151, 2.9049923 , 1.23701405, 2.65776318,\n",
       "       3.95062539, 2.71065255, 3.61218101, 1.76929638, 3.65870185,\n",
       "       2.74137154, 2.12118062, 3.54995621, 3.92507717, 3.63833696,\n",
       "       3.99008487, 1.23913072, 1.46453262, 1.99391695, 2.45489091,\n",
       "       2.26319146, 1.03843877, 2.18433809, 3.87714458, 4.55485411,\n",
       "       2.84399897, 2.0336548 , 2.82472717, 1.06742805, 1.34655608,\n",
       "       3.58815125, 4.50391567, 1.11046701, 3.79526933, 4.23981945,\n",
       "       2.47104672, 4.63772741, 4.01063571, 1.56463296, 3.92466531,\n",
       "       4.02460305, 4.92673515, 4.84379676, 4.89616271, 1.12218899,\n",
       "       4.11868522, 1.93299912, 4.70678623, 2.12108887, 1.60110979,\n",
       "       3.79036801, 2.64739992, 3.86189535, 4.41049622, 3.79282818,\n",
       "       4.2872155 , 1.11011935, 4.32510514, 2.28205547, 4.02082384,\n",
       "       4.03822191, 4.42435297, 1.44991911, 4.84051311, 2.62523755,\n",
       "       3.41980271, 2.35578184, 4.1424477 , 3.40680183, 4.48869586,\n",
       "       3.50782015, 1.8029547 , 3.8336008 , 3.26999078, 3.11650532,\n",
       "       2.41618013, 4.11749838, 4.44986646, 1.29194341, 3.36858563])"
      ]
     },
     "execution_count": 16,
     "metadata": {},
     "output_type": "execute_result"
    }
   ],
   "source": [
    "np.random.uniform(1, 5, 100)"
   ]
  },
  {
   "cell_type": "markdown",
   "metadata": {},
   "source": [
    "**Задача 1.** Оценить вероятность того, что на игральной кости выпадет больше 4 очков. Сравнить с теоретической вероятностью."
   ]
  },
  {
   "cell_type": "code",
   "execution_count": 172,
   "metadata": {},
   "outputs": [
    {
     "name": "stdout",
     "output_type": "stream",
     "text": [
      "334005 1000000 0.334005 0.3333333333333333\n"
     ]
    }
   ],
   "source": [
    "import numpy as np\n",
    "\n",
    "trials = 100000    # Количество попыток\n",
    "successes = 0    # Количество успехов\n",
    "\n",
    "for i in range(trials):\n",
    "    random_score = np.random.randint(1, 7)    # Случайное количество очков от 1 до 6\n",
    "    if random_score > 4:\n",
    "        successes += 1\n",
    "        \n",
    "p_monte_carlo = successes / trials    # Вероятность из моделирования\n",
    "p = 2 / 6                             # Теоретическая вероятность\n",
    "\n",
    "print(successes, trials, p_monte_carlo, p)"
   ]
  },
  {
   "cell_type": "markdown",
   "metadata": {},
   "source": [
    "**Задача 1А** (опциональная). Дан квадрат, в который вписан круг (касаясь сторон квадрата). В квадрат случайным образом попадают точки. Какова вероятность, что наугад взятая точка попадёт в круг?  \n",
    "_Подсказка:_ Удобно взять квардат со стороной, равной 2, и отсчитывать координаты точек от его центра."
   ]
  },
  {
   "cell_type": "code",
   "execution_count": 186,
   "metadata": {},
   "outputs": [
    {
     "name": "stdout",
     "output_type": "stream",
     "text": [
      "0.785413\n"
     ]
    }
   ],
   "source": [
    "trials = 1000000\n",
    "successes = 0\n",
    "\n",
    "for i in range(trials):\n",
    "    x = np.random.uniform(-1, 1)\n",
    "    y = np.random.uniform(-1, 1)\n",
    "    if x**2 + y**2 < 1:\n",
    "        successes += 1\n",
    "        \n",
    "print(successes / trials)"
   ]
  },
  {
   "cell_type": "code",
   "execution_count": 187,
   "metadata": {},
   "outputs": [
    {
     "name": "stdout",
     "output_type": "stream",
     "text": [
      "3.141652\n"
     ]
    }
   ],
   "source": [
    "print(4 * successes / trials)"
   ]
  },
  {
   "cell_type": "markdown",
   "metadata": {},
   "source": [
    "**Задача 2.** Смоделировать стрельбу по мишени."
   ]
  },
  {
   "cell_type": "code",
   "execution_count": 194,
   "metadata": {},
   "outputs": [
    {
     "data": {
      "text/plain": [
       "<matplotlib.collections.PathCollection at 0x184ea7298b0>"
      ]
     },
     "execution_count": 194,
     "metadata": {},
     "output_type": "execute_result"
    },
    {
     "data": {
      "image/png": "[encoded data removed]",
      "text/plain": [
       "<Figure size 432x288 with 1 Axes>"
      ]
     },
     "metadata": {
      "needs_background": "light"
     },
     "output_type": "display_data"
    }
   ],
   "source": [
    "import matplotlib.pyplot as plt\n",
    "\n",
    "shots = 100000    # Количество выстрелов\n",
    "std_dev = 1 # Стандартное отклонение (на сколько мы в среднем будем мазать)\n",
    "\n",
    "x = np.random.normal(0, std_dev, shots) # 0 - и среднее, и мода, и медиана\n",
    "y = np.random.normal(0, std_dev, shots)\n",
    "\n",
    "\n",
    "plt.scatter(x, y)\n",
    "# почему разброс от -3 до 3?"
   ]
  },
  {
   "cell_type": "markdown",
   "metadata": {},
   "source": [
    "**Задача 3.** Графически определить распределение измеренных значений физической величины, когда измерительный прибор имеет случайную погрешность."
   ]
  },
  {
   "cell_type": "code",
   "execution_count": 196,
   "metadata": {},
   "outputs": [
    {
     "data": {
      "text/plain": [
       "count    1040.000000\n",
       "mean       -9.797112\n",
       "std         0.087958\n",
       "min       -10.030373\n",
       "25%        -9.866481\n",
       "50%        -9.800747\n",
       "75%        -9.727398\n",
       "max        -9.570811\n",
       "Name: az, dtype: float64"
      ]
     },
     "execution_count": 196,
     "metadata": {},
     "output_type": "execute_result"
    }
   ],
   "source": [
    "import pandas as pd\n",
    "\n",
    "data = pd.read_csv(\"data.log\", sep=\" \")[\"az\"]\n",
    "data.describe()"
   ]
  },
  {
   "cell_type": "code",
   "execution_count": 197,
   "metadata": {},
   "outputs": [],
   "source": [
    "uni = np.random.uniform(min(data), max(data), 10000)\n",
    "normal = np.random.normal(np.mean(data), np.std(data, ddof=1), 10000)"
   ]
  },
  {
   "cell_type": "code",
   "execution_count": 198,
   "metadata": {},
   "outputs": [
    {
     "data": {
      "text/plain": [
       "<AxesSubplot:>"
      ]
     },
     "execution_count": 198,
     "metadata": {},
     "output_type": "execute_result"
    },
    {
     "data": {
      "image/png": "[encoded data removed]",
      "text/plain": [
       "<Figure size 432x288 with 1 Axes>"
      ]
     },
     "metadata": {
      "needs_background": "light"
     },
     "output_type": "display_data"
    }
   ],
   "source": [
    "data.plot()"
   ]
  },
  {
   "cell_type": "code",
   "execution_count": 199,
   "metadata": {},
   "outputs": [
    {
     "data": {
      "image/png": "[encoded data removed]",
      "text/plain": [
       "<Figure size 432x288 with 1 Axes>"
      ]
     },
     "metadata": {
      "needs_background": "light"
     },
     "output_type": "display_data"
    },
    {
     "data": {
      "image/png": "[encoded data removed]",
      "text/plain": [
       "<Figure size 432x288 with 1 Axes>"
      ]
     },
     "metadata": {
      "needs_background": "light"
     },
     "output_type": "display_data"
    },
    {
     "data": {
      "image/png": "[encoded data removed]",
      "text/plain": [
       "<Figure size 432x288 with 1 Axes>"
      ]
     },
     "metadata": {
      "needs_background": "light"
     },
     "output_type": "display_data"
    }
   ],
   "source": [
    "plt.hist(uni, bins=11)\n",
    "plt.show()\n",
    "plt.hist(normal, bins=11)\n",
    "plt.show()\n",
    "plt.hist(data, bins=11)\n",
    "plt.show()"
   ]
  },
  {
   "cell_type": "markdown",
   "metadata": {},
   "source": [
    "**Задача 4.** Рассчитать вероятность того, что пациент заражён COVID-19, если известно, что тест дал положительный результат. Сравнить с результатом моделирования."
   ]
  },
  {
   "cell_type": "code",
   "execution_count": 204,
   "metadata": {},
   "outputs": [
    {
     "name": "stdout",
     "output_type": "stream",
     "text": [
      "0.5052083333333331\n"
     ]
    }
   ],
   "source": [
    "prev = 0.05    # Распространённость болезни\n",
    "sens = 0.97    # Чувствительность теста\n",
    "spec = 0.95    # Специфичность теста\n",
    "\n",
    "p = (sens * prev) / (sens * prev + (1 - spec) * (1 - prev))   # Теоретическая вероятность \n",
    "print(p)"
   ]
  },
  {
   "cell_type": "code",
   "execution_count": 202,
   "metadata": {},
   "outputs": [
    {
     "name": "stdout",
     "output_type": "stream",
     "text": [
      "0.5110926809040016\n"
     ]
    }
   ],
   "source": [
    "population = 100000    # Количество испытуемых\n",
    "\n",
    "true_pos = 0    # Количество больных с положительным тестом\n",
    "false_pos = 0   # Количество здоровых с положительным тестом\n",
    "\n",
    "for i in range(population):\n",
    "    # Наугад решаем, заражён ли человек\n",
    "    # для этого генерируем случайную величину от 0 до 1     \n",
    "    infected = np.random.uniform() < prev\n",
    "    \n",
    "    # Наугад решаем, дал ли тест положительный результат \n",
    "    positive = np.random.uniform() < sens if infected else np.random.uniform() < 1 - spec\n",
    "    \n",
    "    if positive:\n",
    "        if infected:\n",
    "            true_pos += 1\n",
    "        else:\n",
    "            false_pos += 1\n",
    "            \n",
    "p_monte_carlo = true_pos / (true_pos + false_pos)    # Вероятность из моделирования\n",
    "print(p_monte_carlo)"
   ]
  },
  {
   "cell_type": "code",
   "execution_count": null,
   "metadata": {},
   "outputs": [],
   "source": []
  }
 ],
 "metadata": {
  "kernelspec": {
   "display_name": "Python 3",
   "language": "python",
   "name": "python3"
  },
  "language_info": {
   "codemirror_mode": {
    "name": "ipython",
    "version": 3
   },
   "file_extension": ".py",
   "mimetype": "text/x-python",
   "name": "python",
   "nbconvert_exporter": "python",
   "pygments_lexer": "ipython3",
   "version": "3.8.5"
  }
 },
 "nbformat": 4,
 "nbformat_minor": 4
}
