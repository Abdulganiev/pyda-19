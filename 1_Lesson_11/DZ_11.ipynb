{
 "cells": [
  {
   "cell_type": "markdown",
   "metadata": {},
   "source": [
    "### Задание 1\n",
    "Печатные газеты использовали свой формат дат для каждого выпуска. Для каждой газеты из списка напишите формат указанной даты для перевода в объект datetime:\n",
    "\n",
    "- The Moscow Times - Wednesday, October 2, 2002\n",
    "- The Guardian - Friday, 11.10.13\n",
    "- Daily News - Thursday, 18 August 1977"
   ]
  },
  {
   "cell_type": "code",
   "execution_count": 2,
   "metadata": {},
   "outputs": [],
   "source": [
    "from datetime import datetime "
   ]
  },
  {
   "cell_type": "code",
   "execution_count": 26,
   "metadata": {},
   "outputs": [],
   "source": [
    "daty_sysdate = datetime.now()"
   ]
  },
  {
   "cell_type": "code",
   "execution_count": 28,
   "metadata": {},
   "outputs": [
    {
     "name": "stdout",
     "output_type": "stream",
     "text": [
      "The Moscow Times - Wednesday, October 02, 2002\n",
      "The Moscow Times - Monday, March 22, 2021\n"
     ]
    }
   ],
   "source": [
    "# 'The Moscow Times - Wednesday, October 2, 2002'\n",
    "name_newspaper1 = 'The Moscow Times'\n",
    "date_string_1 = 'Wednesday, October 2, 2002'\n",
    "date_time_1 = datetime.strptime(date_string_1, '%A, %B %d, %Y' )\n",
    "print(name_newspaper1, '-', date_time_1.strftime('%A, %B %d, %Y'))\n",
    "print(name_newspaper1, '-', daty_sysdate.strftime('%A, %B %d, %Y'))"
   ]
  },
  {
   "cell_type": "code",
   "execution_count": 29,
   "metadata": {},
   "outputs": [
    {
     "name": "stdout",
     "output_type": "stream",
     "text": [
      "The Guardian - Friday, 11.10.13\n",
      "The Guardian - Monday, 22.03.21\n"
     ]
    }
   ],
   "source": [
    "# 'The Guardian - Friday, 11.10.13'\n",
    "name_newspaper2 = 'The Guardian'\n",
    "date_string_2 = 'Friday, 11.10.13'\n",
    "date_time_2 = datetime.strptime(date_string_2, '%A, %d.%m.%y')\n",
    "print(name_newspaper2, '-', date_time_2.strftime('%A, %d.%m.%y'))\n",
    "print(name_newspaper2, '-', daty_sysdate.strftime('%A, %d.%m.%y'))"
   ]
  },
  {
   "cell_type": "code",
   "execution_count": 30,
   "metadata": {},
   "outputs": [
    {
     "name": "stdout",
     "output_type": "stream",
     "text": [
      "Daily News - Thursday, 18 August 1977\n",
      "Daily News - Monday, 22 March 2021\n"
     ]
    }
   ],
   "source": [
    "# 'Daily News - Thursday, 18 August 1977'\n",
    "name_newspaper3 = 'Daily News'\n",
    "date_string_3 = 'Thursday, 18 August 1977'\n",
    "date_time_3 = datetime.strptime(date_string_3, '%A, %d %B %Y')\n",
    "print(name_newspaper3, '-', date_time_3.strftime('%A, %d %B %Y'))\n",
    "print(name_newspaper3, '-', daty_sysdate.strftime('%A, %d %B %Y'))"
   ]
  },
  {
   "cell_type": "markdown",
   "metadata": {},
   "source": [
    "### Задание 2\n",
    "Дан поток дат в формате YYYY-MM-DD, в которых встречаются некорректные значения:\n",
    "stream = [‘2018-04-02’, ‘2018-02-29’, ‘2018-19-02’]\n",
    "\n",
    "Напишите функцию, которая проверяет эти даты на корректность. Т. е. для каждой даты возвращает True (дата корректна) или False (некорректная дата)."
   ]
  },
  {
   "cell_type": "code",
   "execution_count": 107,
   "metadata": {},
   "outputs": [
    {
     "name": "stdout",
     "output_type": "stream",
     "text": [
      "2018-04-02 True\n",
      "2018-02-29 False\n",
      "2018-19-02 False\n",
      "2018-05-02 True\n",
      "2018-05-09 True\n",
      "2018-05-32 False\n"
     ]
    }
   ],
   "source": [
    "def check_date(data_f):\n",
    "    try:\n",
    "        t = datetime.strptime(data_f, '%Y-%m-%d')\n",
    "        print(data_f,'True')\n",
    "    except:\n",
    "        print(data_f,'False')\n",
    "\n",
    "stream = ['2018-04-02', '2018-02-29', '2018-19-02','2018-05-02','2018-05-09','2018-05-32']\n",
    "for el in stream:\n",
    "    check_date(el)"
   ]
  },
  {
   "cell_type": "markdown",
   "metadata": {},
   "source": [
    "### Задание 3\n",
    "Напишите функцию date_range, которая возвращает список дат за период от start_date до end_date. Даты должны вводиться в формате YYYY-MM-DD. В случае неверного формата или при start_date > end_date должен возвращаться пустой список."
   ]
  },
  {
   "cell_type": "code",
   "execution_count": 90,
   "metadata": {},
   "outputs": [
    {
     "name": "stdout",
     "output_type": "stream",
     "text": [
      "['2021-03-01', '2021-03-02', '2021-03-03', '2021-03-04', '2021-03-05', '2021-03-06', '2021-03-07', '2021-03-08', '2021-03-09', '2021-03-10', '2021-03-11']\n"
     ]
    }
   ],
   "source": [
    "def date_range(start_date_f, end_date_f):\n",
    "    list_date = []\n",
    "    try:\n",
    "        start_date_dt = datetime.strptime(start_date_f, '%Y-%m-%d')\n",
    "        end_date_dt = datetime.strptime(end_date_f, '%Y-%m-%d')\n",
    "        current_dt = start_date_dt\n",
    "        while current_dt <= end_date_dt:\n",
    "            list_date.append(current_dt.strftime('%Y-%m-%d'))\n",
    "            current_dt += timedelta(days=1)\n",
    "    except:\n",
    "        pass\n",
    "    print(list_date)\n",
    "\n",
    "from datetime import timedelta\n",
    "\n",
    "start_date = '2021-03-01'\n",
    "end_date = '2021-03-11'\n",
    "date_range(start_date, end_date)"
   ]
  },
  {
   "cell_type": "markdown",
   "metadata": {},
   "source": [
    "### Задание 4 (бонусное)\n",
    "Ваш коллега прислал код функции:\n",
    "\n",
    "DEFAULT_USER_COUNT = 3\n",
    "\n",
    "def delete_and_return_last_user(region, default_list=[‘A100’, ‘A101’, ‘A102’]):\n",
    "\n",
    "\"\"“\n",
    "Удаляет из списка default_list последнего пользователя\n",
    "и возвращает ID нового последнего пользователя.\n",
    "”\"\"\n",
    "\n",
    "element_to_delete = default_list[-1]\n",
    "\n",
    "default_list.remove(element_to_delete)\n",
    "\n",
    "1\n",
    "return default_list[DEFAULT_USER_COUNT-2]\n",
    "\n",
    "При однократном вызове этой функции все работает корректно:\n",
    "\n",
    "delete_and_return_last_user(1)\n",
    "\n",
    "‘A101’\n",
    "\n",
    "Однако, при повторном вызове получается ошибка IndexError: list index out of range.\n",
    "\n",
    "Задание:\n",
    "\n",
    "Что значит ошибка list index out of range?\n",
    "Почему при первом запуске функция работает корректно, а при втором - нет?"
   ]
  },
  {
   "cell_type": "code",
   "execution_count": 133,
   "metadata": {},
   "outputs": [],
   "source": [
    "DEFAULT_USER_COUNT = 3\n",
    "\n",
    "def delete_and_return_last_user(region, default_list=['A100', 'A101', 'A102']):\n",
    "    element_to_delete = default_list[-1] # переменной присваивает последний элемент\n",
    "    default_list.remove(element_to_delete) # из списка удаляется последний элемент\n",
    "    #print(len(default_list))\n",
    "    return default_list[DEFAULT_USER_COUNT-2] # возвращает элемент 3-2"
   ]
  },
  {
   "cell_type": "code",
   "execution_count": 135,
   "metadata": {},
   "outputs": [
    {
     "ename": "IndexError",
     "evalue": "list index out of range",
     "output_type": "error",
     "traceback": [
      "\u001b[1;31m---------------------------------------------------------------------------\u001b[0m",
      "\u001b[1;31mIndexError\u001b[0m                                Traceback (most recent call last)",
      "\u001b[1;32m<ipython-input-135-bfb6c4f8c48e>\u001b[0m in \u001b[0;36m<module>\u001b[1;34m\u001b[0m\n\u001b[1;32m----> 1\u001b[1;33m \u001b[0mdelete_and_return_last_user\u001b[0m\u001b[1;33m(\u001b[0m\u001b[1;36m1\u001b[0m\u001b[1;33m)\u001b[0m\u001b[1;33m\u001b[0m\u001b[1;33m\u001b[0m\u001b[0m\n\u001b[0m",
      "\u001b[1;32m<ipython-input-133-aef09cc5b37d>\u001b[0m in \u001b[0;36mdelete_and_return_last_user\u001b[1;34m(region, default_list)\u001b[0m\n\u001b[0;32m      5\u001b[0m     \u001b[0mdefault_list\u001b[0m\u001b[1;33m.\u001b[0m\u001b[0mremove\u001b[0m\u001b[1;33m(\u001b[0m\u001b[0melement_to_delete\u001b[0m\u001b[1;33m)\u001b[0m \u001b[1;31m# из списка удаляется последний элемент\u001b[0m\u001b[1;33m\u001b[0m\u001b[1;33m\u001b[0m\u001b[0m\n\u001b[0;32m      6\u001b[0m     \u001b[1;31m#print(len(default_list))\u001b[0m\u001b[1;33m\u001b[0m\u001b[1;33m\u001b[0m\u001b[1;33m\u001b[0m\u001b[0m\n\u001b[1;32m----> 7\u001b[1;33m     \u001b[1;32mreturn\u001b[0m \u001b[0mdefault_list\u001b[0m\u001b[1;33m[\u001b[0m\u001b[0mDEFAULT_USER_COUNT\u001b[0m\u001b[1;33m-\u001b[0m\u001b[1;36m2\u001b[0m\u001b[1;33m]\u001b[0m \u001b[1;31m# возвращает элемент 3-2\u001b[0m\u001b[1;33m\u001b[0m\u001b[1;33m\u001b[0m\u001b[0m\n\u001b[0m",
      "\u001b[1;31mIndexError\u001b[0m: list index out of range"
     ]
    }
   ],
   "source": [
    "delete_and_return_last_user(1)"
   ]
  },
  {
   "cell_type": "code",
   "execution_count": null,
   "metadata": {},
   "outputs": [],
   "source": [
    "\"\"\" При первом запуске последний элемент удаляется, всего элементов в списке по умолчанию остается два. 3 - 2 = 1, \n",
    "    return возращает 1-ый элемент списка - A101.\n",
    "    При повторном запуске функции в списке по умолчанию осталось два элемента, \n",
    "    удаляется последний элемент, остается 1 элемент. 3 - 2 = 1. \n",
    "    return должен вернуть 1-ый элемент списка, а его нет. Индекс списка вне диапазона\"\"\""
   ]
  }
 ],
 "metadata": {
  "kernelspec": {
   "display_name": "Python 3",
   "language": "python",
   "name": "python3"
  },
  "language_info": {
   "codemirror_mode": {
    "name": "ipython",
    "version": 3
   },
   "file_extension": ".py",
   "mimetype": "text/x-python",
   "name": "python",
   "nbconvert_exporter": "python",
   "pygments_lexer": "ipython3",
   "version": "3.8.5"
  }
 },
 "nbformat": 4,
 "nbformat_minor": 4
}
