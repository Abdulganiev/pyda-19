{
 "cells": [
  {
   "cell_type": "markdown",
   "metadata": {},
   "source": [
    "## Лабораторная работа по курсу «Python для анализа данных»"
   ]
  },
  {
   "cell_type": "markdown",
   "metadata": {},
   "source": [
    "### При выполнении работы допускается использование любых внешних модулей и пакетов."
   ]
  },
  {
   "cell_type": "markdown",
   "metadata": {},
   "source": [
    "#### Задача 1"
   ]
  },
  {
   "cell_type": "markdown",
   "metadata": {},
   "source": [
    "Дана строка:"
   ]
  },
  {
   "cell_type": "code",
   "execution_count": 1,
   "metadata": {},
   "outputs": [],
   "source": [
    "string_01 = \"History is always written by the winners. When two cultures clash, the loser is obliterated, and the winner writes the history books - books which glorify their own cause and disparage the conquered foe. As Napoleon once said, 'What is history, but a fable agreed upon?'\""
   ]
  },
  {
   "cell_type": "code",
   "execution_count": 3,
   "metadata": {},
   "outputs": [],
   "source": [
    "import re"
   ]
  },
  {
   "cell_type": "markdown",
   "metadata": {},
   "source": [
    "1. Посчитайте, сколько в строке символов, исключая пробелы:"
   ]
  },
  {
   "cell_type": "code",
   "execution_count": 204,
   "metadata": {},
   "outputs": [
    {
     "data": {
      "text/plain": [
       "225"
      ]
     },
     "execution_count": 204,
     "metadata": {},
     "output_type": "execute_result"
    }
   ],
   "source": [
    "len(re.findall(r'\\S', string_01))"
   ]
  },
  {
   "cell_type": "markdown",
   "metadata": {},
   "source": [
    "2. Посчитайте, сколько в строке слов."
   ]
  },
  {
   "cell_type": "code",
   "execution_count": 207,
   "metadata": {},
   "outputs": [
    {
     "data": {
      "text/plain": [
       "45"
      ]
     },
     "execution_count": 207,
     "metadata": {},
     "output_type": "execute_result"
    }
   ],
   "source": [
    "len(re.findall(r'\\w+', string_01))"
   ]
  },
  {
   "cell_type": "markdown",
   "metadata": {},
   "source": [
    "3. Напишите функцию, которая будет принимать в качестве аргумента букву и выводить все слова из строки, начинающиеся на эту букву (например, “w”)."
   ]
  },
  {
   "cell_type": "code",
   "execution_count": 216,
   "metadata": {},
   "outputs": [
    {
     "name": "stdout",
     "output_type": "stream",
     "text": [
      "Введите первую букву слова: a\n",
      "always and and As agreed\n"
     ]
    }
   ],
   "source": [
    "def find_letter(letter_f, string_f):\n",
    "    print(' '.join(re.findall(r'\\b['+letter_f.lower()+letter_f.upper()+']\\w+', string_f)))\n",
    "    \n",
    "letter = input('Введите первую букву слова: ')    \n",
    "find_letter(letter, string_01)"
   ]
  },
  {
   "cell_type": "markdown",
   "metadata": {},
   "source": [
    "#### Задача 2"
   ]
  },
  {
   "cell_type": "markdown",
   "metadata": {},
   "source": [
    "Напишите код, который будет генерировать случайную последовательность из 6 цифр, одна из которых должна быть 3. Позиция цифры 3 должна\n",
    "определяться случайным образом. Результат должен быть строкой. Например: \"456309\" или \"330127\"."
   ]
  },
  {
   "cell_type": "code",
   "execution_count": 78,
   "metadata": {},
   "outputs": [],
   "source": [
    "import random"
   ]
  },
  {
   "cell_type": "code",
   "execution_count": 237,
   "metadata": {},
   "outputs": [
    {
     "data": {
      "text/plain": [
       "'928431'"
      ]
     },
     "execution_count": 237,
     "metadata": {},
     "output_type": "execute_result"
    }
   ],
   "source": [
    "sequence = []\n",
    "while len(sequence) != 6:\n",
    "    sequence.append(str(random.randint(0,9)))\n",
    "st1 = ''.join(sequence)\n",
    "sequence[random.randint(0,5)] = '3'\n",
    "st2 = ''.join(sequence)\n",
    "st1\n",
    "st2"
   ]
  },
  {
   "cell_type": "markdown",
   "metadata": {},
   "source": [
    "#### Задача 3"
   ]
  },
  {
   "cell_type": "markdown",
   "metadata": {},
   "source": [
    "Дан список:"
   ]
  },
  {
   "cell_type": "code",
   "execution_count": 154,
   "metadata": {},
   "outputs": [],
   "source": [
    "list_01 = [1, 1, 2, 3, 5, 8, 13, 21, 34, 55, 89, 144, 233, 377, 610, 14, 46, 273, 22, 99, 15, 1000]"
   ]
  },
  {
   "cell_type": "markdown",
   "metadata": {},
   "source": [
    "Напишите алгоритм, который выводит число, равное сумме элементов списка, которые больше 10, но меньше 100, и которые больше 200, но меньше 500."
   ]
  },
  {
   "cell_type": "code",
   "execution_count": 240,
   "metadata": {},
   "outputs": [
    {
     "name": "stdout",
     "output_type": "stream",
     "text": [
      "1291\n"
     ]
    }
   ],
   "source": [
    "sm_el = 0\n",
    "for el in list_01:\n",
    "    if (10 < el <100) or (200 < el < 500):\n",
    "        sm_el += el\n",
    "print(sm_el)"
   ]
  },
  {
   "cell_type": "code",
   "execution_count": 245,
   "metadata": {},
   "outputs": [
    {
     "data": {
      "text/plain": [
       "1291"
      ]
     },
     "execution_count": 245,
     "metadata": {},
     "output_type": "execute_result"
    }
   ],
   "source": [
    "sum([el for el in list_01 if (10 < el <100) or (200 < el < 500)])"
   ]
  },
  {
   "cell_type": "markdown",
   "metadata": {},
   "source": [
    "#### Задача 4"
   ]
  },
  {
   "cell_type": "markdown",
   "metadata": {},
   "source": [
    "Данные студентов представлены в виде списка списков:"
   ]
  },
  {
   "cell_type": "code",
   "execution_count": 156,
   "metadata": {},
   "outputs": [],
   "source": [
    "students = [\n",
    "[\"0001\", \"Антонов\", \"Антон\", \"Игоревич\", \"20.08.2009\",\"БСТ161\"],\n",
    "[\"1102\", \"Богов\", \"Артем\", \"Игоревич\", \"25.01.2010\",\"БСТ162\"],\n",
    "[\"0333\", \"Глаголева\", \"Анастасия\", \"Николаевна\", \"11.07.2009\", \"БСТ163\"],\n",
    "[\"4004\", \"Степанова\", \"Наталья\", \"Александровна\", \"13.02.2008\", \"БСТ161\"],\n",
    "[\"0045\", \"Боков\", \"Игорь\", \"Харитонович\", \"02.06.2009\", \"БСТ161\"],\n",
    "[\"0096\", \"Васильков\", \"Валентин\", \"Сергеевич\", \"20.03.2009\", \"БСТ164\"],\n",
    "[\"0607\", \"Сиропова\", \"Виолетта\", \"Эдуардовна\", \"28.05.2010\", \"БСТ162\"]\n",
    "    ]"
   ]
  },
  {
   "cell_type": "markdown",
   "metadata": {},
   "source": [
    "1. Преобразуйте данные таким образом, чтобы они были представлены в виде словаря, в котором ключами являются номера студентов, а значениями — список из других данных о студентах."
   ]
  },
  {
   "cell_type": "code",
   "execution_count": 247,
   "metadata": {},
   "outputs": [
    {
     "data": {
      "text/plain": [
       "{'0001': ['Антонов', 'Антон', 'Игоревич', '20.08.2009', 'БСТ161'],\n",
       " '1102': ['Богов', 'Артем', 'Игоревич', '25.01.2010', 'БСТ162'],\n",
       " '0333': ['Глаголева', 'Анастасия', 'Николаевна', '11.07.2009', 'БСТ163'],\n",
       " '4004': ['Степанова', 'Наталья', 'Александровна', '13.02.2008', 'БСТ161'],\n",
       " '0045': ['Боков', 'Игорь', 'Харитонович', '02.06.2009', 'БСТ161'],\n",
       " '0096': ['Васильков', 'Валентин', 'Сергеевич', '20.03.2009', 'БСТ164'],\n",
       " '0607': ['Сиропова', 'Виолетта', 'Эдуардовна', '28.05.2010', 'БСТ162']}"
      ]
     },
     "execution_count": 247,
     "metadata": {},
     "output_type": "execute_result"
    }
   ],
   "source": [
    "students_dictionary = {}\n",
    "for st in students:\n",
    "    students_dictionary[st[0]] = st[1:]\n",
    "students_dictionary"
   ]
  },
  {
   "cell_type": "markdown",
   "metadata": {},
   "source": [
    "2. Напишите функцию, которая принимает в качестве аргумента номер студента и новый номер группы и позволяет изменить номер группы этого студента на новый внутри созданного словаря."
   ]
  },
  {
   "cell_type": "code",
   "execution_count": 183,
   "metadata": {},
   "outputs": [],
   "source": [
    "def new_group(key_f, new_gr_f):\n",
    "    students_dictionary[key_f][4] = new_gr_f"
   ]
  },
  {
   "cell_type": "code",
   "execution_count": 248,
   "metadata": {},
   "outputs": [
    {
     "data": {
      "text/plain": [
       "{'0001': ['Антонов', 'Антон', 'Игоревич', '20.08.2009', 'БСТ162'],\n",
       " '1102': ['Богов', 'Артем', 'Игоревич', '25.01.2010', 'БСТ162'],\n",
       " '0333': ['Глаголева', 'Анастасия', 'Николаевна', '11.07.2009', 'БСТ163'],\n",
       " '4004': ['Степанова', 'Наталья', 'Александровна', '13.02.2008', 'БСТ161'],\n",
       " '0045': ['Боков', 'Игорь', 'Харитонович', '02.06.2009', 'БСТ161'],\n",
       " '0096': ['Васильков', 'Валентин', 'Сергеевич', '20.03.2009', 'БСТ164'],\n",
       " '0607': ['Сиропова', 'Виолетта', 'Эдуардовна', '28.05.2010', 'БСТ162']}"
      ]
     },
     "execution_count": 248,
     "metadata": {},
     "output_type": "execute_result"
    }
   ],
   "source": [
    "key = '0001'\n",
    "new_gr = 'БСТ162'\n",
    "new_group(key, new_gr)\n",
    "students_dictionary"
   ]
  },
  {
   "cell_type": "markdown",
   "metadata": {},
   "source": [
    "3. Напишите функцию, которая принимает номер группы и выводит список (фамилии, имена, отчества) всех студентов этой группы. Необходимо обращаться к словарю."
   ]
  },
  {
   "cell_type": "code",
   "execution_count": 193,
   "metadata": {},
   "outputs": [
    {
     "name": "stdout",
     "output_type": "stream",
     "text": [
      "Степанова Наталья Александровна\n",
      "Боков Игорь Харитонович\n"
     ]
    }
   ],
   "source": [
    "def print_group(group_f):\n",
    "    for value in students_dictionary.values():\n",
    "        if value[4] == group_f:\n",
    "            print(' '.join(value[0:3]))\n",
    "            \n",
    "group = 'БСТ161'\n",
    "print_group(group)"
   ]
  },
  {
   "cell_type": "markdown",
   "metadata": {},
   "source": [
    "#### Задача 5"
   ]
  },
  {
   "cell_type": "markdown",
   "metadata": {},
   "source": [
    "Дана матрица:"
   ]
  },
  {
   "cell_type": "code",
   "execution_count": 274,
   "metadata": {},
   "outputs": [],
   "source": [
    "matrix = [ \n",
    "    [0,1,2,4,8], \n",
    "    [6,2,2,1,9], \n",
    "    [3,3,3,3,3], \n",
    "    [4,6,7,1,2], \n",
    "    [5,7,3,4,0] \n",
    "]"
   ]
  },
  {
   "cell_type": "code",
   "execution_count": 275,
   "metadata": {},
   "outputs": [],
   "source": [
    "matrix2 = [ \n",
    "    [0,1,2,4,8], \n",
    "    [6,2,2,1,9], \n",
    "    [3,3,3,3,3], \n",
    "    [4,6,7,1,2], \n",
    "    [5,7,3,4,0] \n",
    "]"
   ]
  },
  {
   "cell_type": "markdown",
   "metadata": {},
   "source": [
    "1. Выведите результат сложения всех элементов матрицы."
   ]
  },
  {
   "cell_type": "code",
   "execution_count": 249,
   "metadata": {},
   "outputs": [
    {
     "name": "stdout",
     "output_type": "stream",
     "text": [
      "89\n"
     ]
    }
   ],
   "source": [
    "sm_matrix = 0\n",
    "for st in matrix:\n",
    "    sm_matrix += sum(st)\n",
    "print(sm_matrix)"
   ]
  },
  {
   "cell_type": "code",
   "execution_count": 257,
   "metadata": {},
   "outputs": [
    {
     "data": {
      "text/plain": [
       "89"
      ]
     },
     "execution_count": 257,
     "metadata": {},
     "output_type": "execute_result"
    }
   ],
   "source": [
    "sum([sum(st) for st in matrix])"
   ]
  },
  {
   "cell_type": "markdown",
   "metadata": {},
   "source": [
    "2. Напишите алгоритм вычисления максимума из сумм элементов каждого столбца."
   ]
  },
  {
   "cell_type": "code",
   "execution_count": 276,
   "metadata": {},
   "outputs": [
    {
     "name": "stdout",
     "output_type": "stream",
     "text": [
      "22\n"
     ]
    }
   ],
   "source": [
    "i = 0\n",
    "max_matrix = []\n",
    "for i in range((len(matrix[0]))):\n",
    "    matrix1 = []\n",
    "    for st in matrix:\n",
    "        matrix1.append(st[i])\n",
    "    i += 1\n",
    "    max_matrix.append(sum(matrix1))\n",
    "print(max(max_matrix))"
   ]
  },
  {
   "cell_type": "code",
   "execution_count": 281,
   "metadata": {},
   "outputs": [
    {
     "data": {
      "text/plain": [
       "[8, 9, 3, 7, 7]"
      ]
     },
     "execution_count": 281,
     "metadata": {},
     "output_type": "execute_result"
    }
   ],
   "source": [
    "i = 0\n",
    "[max(low) for low in matrix2]"
   ]
  },
  {
   "cell_type": "code",
   "execution_count": 283,
   "metadata": {},
   "outputs": [
    {
     "name": "stdout",
     "output_type": "stream",
     "text": [
      "[0, 1, 2, 4, 8] [6, 2, 2, 1, 9] [3, 3, 3, 3, 3] [4, 6, 7, 1, 2] [5, 7, 3, 4, 0]\n"
     ]
    }
   ],
   "source": [
    "print(*matrix2)\n"
   ]
  },
  {
   "cell_type": "code",
   "execution_count": 287,
   "metadata": {
    "scrolled": true
   },
   "outputs": [
    {
     "name": "stdout",
     "output_type": "stream",
     "text": [
      "[(0, 6, 3, 4, 5), (1, 2, 3, 6, 7), (2, 2, 3, 7, 3), (4, 1, 3, 1, 4), (8, 9, 3, 2, 0)]\n"
     ]
    }
   ],
   "source": [
    "print(list(zip(*matrix2)))"
   ]
  }
 ],
 "metadata": {
  "kernelspec": {
   "display_name": "Python 3",
   "language": "python",
   "name": "python3"
  },
  "language_info": {
   "codemirror_mode": {
    "name": "ipython",
    "version": 3
   },
   "file_extension": ".py",
   "mimetype": "text/x-python",
   "name": "python",
   "nbconvert_exporter": "python",
   "pygments_lexer": "ipython3",
   "version": "3.8.5"
  }
 },
 "nbformat": 4,
 "nbformat_minor": 2
}
