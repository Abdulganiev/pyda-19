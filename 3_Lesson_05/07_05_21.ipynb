{
 "cells": [
  {
   "cell_type": "code",
   "execution_count": 1,
   "metadata": {
    "id": "-ppToJrUWoJ0"
   },
   "outputs": [],
   "source": [
    "from sklearn.datasets import load_wine\n",
    "import pandas as pd\n",
    "import numpy as np\n",
    "import matplotlib.pyplot as plt\n",
    "from matplotlib import colors"
   ]
  },
  {
   "cell_type": "code",
   "execution_count": 2,
   "metadata": {
    "id": "ik4WLSx51KZY"
   },
   "outputs": [],
   "source": [
    "cmap = colors.LinearSegmentedColormap(\n",
    "    'red_blue_classes',\n",
    "    {'red': [(0, 1, 1), (1, 0.7, 0.7)],\n",
    "     'green': [(0, 0.7, 0.7), (1, 0.7, 0.7)],\n",
    "     'blue': [(0, 0.7, 0.7), (1, 1, 1)]})\n",
    "plt.cm.register_cmap(cmap=cmap)"
   ]
  },
  {
   "cell_type": "code",
   "execution_count": 3,
   "metadata": {
    "id": "cmLC9M6oW2v8"
   },
   "outputs": [],
   "source": [
    "wine = load_wine()"
   ]
  },
  {
   "cell_type": "code",
   "execution_count": 4,
   "metadata": {
    "colab": {
     "base_uri": "https://localhost:8080/",
     "height": 1000
    },
    "id": "7eptbMYNvq0S",
    "outputId": "84d1fd28-1a3a-4f31-be7a-3312114bdafb"
   },
   "outputs": [
    {
     "name": "stdout",
     "output_type": "stream",
     "text": [
      ".. _wine_dataset:\n",
      "\n",
      "Wine recognition dataset\n",
      "------------------------\n",
      "\n",
      "**Data Set Characteristics:**\n",
      "\n",
      "    :Number of Instances: 178 (50 in each of three classes)\n",
      "    :Number of Attributes: 13 numeric, predictive attributes and the class\n",
      "    :Attribute Information:\n",
      " \t\t- Alcohol\n",
      " \t\t- Malic acid\n",
      " \t\t- Ash\n",
      "\t\t- Alcalinity of ash  \n",
      " \t\t- Magnesium\n",
      "\t\t- Total phenols\n",
      " \t\t- Flavanoids\n",
      " \t\t- Nonflavanoid phenols\n",
      " \t\t- Proanthocyanins\n",
      "\t\t- Color intensity\n",
      " \t\t- Hue\n",
      " \t\t- OD280/OD315 of diluted wines\n",
      " \t\t- Proline\n",
      "\n",
      "    - class:\n",
      "            - class_0\n",
      "            - class_1\n",
      "            - class_2\n",
      "\t\t\n",
      "    :Summary Statistics:\n",
      "    \n",
      "    ============================= ==== ===== ======= =====\n",
      "                                   Min   Max   Mean     SD\n",
      "    ============================= ==== ===== ======= =====\n",
      "    Alcohol:                      11.0  14.8    13.0   0.8\n",
      "    Malic Acid:                   0.74  5.80    2.34  1.12\n",
      "    Ash:                          1.36  3.23    2.36  0.27\n",
      "    Alcalinity of Ash:            10.6  30.0    19.5   3.3\n",
      "    Magnesium:                    70.0 162.0    99.7  14.3\n",
      "    Total Phenols:                0.98  3.88    2.29  0.63\n",
      "    Flavanoids:                   0.34  5.08    2.03  1.00\n",
      "    Nonflavanoid Phenols:         0.13  0.66    0.36  0.12\n",
      "    Proanthocyanins:              0.41  3.58    1.59  0.57\n",
      "    Colour Intensity:              1.3  13.0     5.1   2.3\n",
      "    Hue:                          0.48  1.71    0.96  0.23\n",
      "    OD280/OD315 of diluted wines: 1.27  4.00    2.61  0.71\n",
      "    Proline:                       278  1680     746   315\n",
      "    ============================= ==== ===== ======= =====\n",
      "\n",
      "    :Missing Attribute Values: None\n",
      "    :Class Distribution: class_0 (59), class_1 (71), class_2 (48)\n",
      "    :Creator: R.A. Fisher\n",
      "    :Donor: Michael Marshall (MARSHALL%PLU@io.arc.nasa.gov)\n",
      "    :Date: July, 1988\n",
      "\n",
      "This is a copy of UCI ML Wine recognition datasets.\n",
      "https://archive.ics.uci.edu/ml/machine-learning-databases/wine/wine.data\n",
      "\n",
      "The data is the results of a chemical analysis of wines grown in the same\n",
      "region in Italy by three different cultivators. There are thirteen different\n",
      "measurements taken for different constituents found in the three types of\n",
      "wine.\n",
      "\n",
      "Original Owners: \n",
      "\n",
      "Forina, M. et al, PARVUS - \n",
      "An Extendible Package for Data Exploration, Classification and Correlation. \n",
      "Institute of Pharmaceutical and Food Analysis and Technologies,\n",
      "Via Brigata Salerno, 16147 Genoa, Italy.\n",
      "\n",
      "Citation:\n",
      "\n",
      "Lichman, M. (2013). UCI Machine Learning Repository\n",
      "[https://archive.ics.uci.edu/ml]. Irvine, CA: University of California,\n",
      "School of Information and Computer Science. \n",
      "\n",
      ".. topic:: References\n",
      "\n",
      "  (1) S. Aeberhard, D. Coomans and O. de Vel, \n",
      "  Comparison of Classifiers in High Dimensional Settings, \n",
      "  Tech. Rep. no. 92-02, (1992), Dept. of Computer Science and Dept. of  \n",
      "  Mathematics and Statistics, James Cook University of North Queensland. \n",
      "  (Also submitted to Technometrics). \n",
      "\n",
      "  The data was used with many others for comparing various \n",
      "  classifiers. The classes are separable, though only RDA \n",
      "  has achieved 100% correct classification. \n",
      "  (RDA : 100%, QDA 99.4%, LDA 98.9%, 1NN 96.1% (z-transformed data)) \n",
      "  (All results using the leave-one-out technique) \n",
      "\n",
      "  (2) S. Aeberhard, D. Coomans and O. de Vel, \n",
      "  \"THE CLASSIFICATION PERFORMANCE OF RDA\" \n",
      "  Tech. Rep. no. 92-01, (1992), Dept. of Computer Science and Dept. of \n",
      "  Mathematics and Statistics, James Cook University of North Queensland. \n",
      "  (Also submitted to Journal of Chemometrics).\n",
      "\n"
     ]
    }
   ],
   "source": [
    "print(wine.DESCR)"
   ]
  },
  {
   "cell_type": "code",
   "execution_count": 5,
   "metadata": {
    "id": "7rO21IhnvyIo"
   },
   "outputs": [],
   "source": [
    "# загружаем данные в датафрейм\n",
    "data = pd.DataFrame(wine.data, columns=wine.feature_names)\n",
    "data_class = wine.target"
   ]
  },
  {
   "cell_type": "code",
   "execution_count": 6,
   "metadata": {
    "colab": {
     "base_uri": "https://localhost:8080/",
     "height": 447
    },
    "id": "M92y_fa2wBjn",
    "outputId": "b0f66858-8650-4d65-a29f-b136d4f3612f"
   },
   "outputs": [
    {
     "data": {
      "text/html": [
       "<div>\n",
       "<style scoped>\n",
       "    .dataframe tbody tr th:only-of-type {\n",
       "        vertical-align: middle;\n",
       "    }\n",
       "\n",
       "    .dataframe tbody tr th {\n",
       "        vertical-align: top;\n",
       "    }\n",
       "\n",
       "    .dataframe thead th {\n",
       "        text-align: right;\n",
       "    }\n",
       "</style>\n",
       "<table border=\"1\" class=\"dataframe\">\n",
       "  <thead>\n",
       "    <tr style=\"text-align: right;\">\n",
       "      <th></th>\n",
       "      <th>alcohol</th>\n",
       "      <th>malic_acid</th>\n",
       "      <th>ash</th>\n",
       "      <th>alcalinity_of_ash</th>\n",
       "      <th>magnesium</th>\n",
       "      <th>total_phenols</th>\n",
       "      <th>flavanoids</th>\n",
       "      <th>nonflavanoid_phenols</th>\n",
       "      <th>proanthocyanins</th>\n",
       "      <th>color_intensity</th>\n",
       "      <th>hue</th>\n",
       "      <th>od280/od315_of_diluted_wines</th>\n",
       "      <th>proline</th>\n",
       "    </tr>\n",
       "  </thead>\n",
       "  <tbody>\n",
       "    <tr>\n",
       "      <th>0</th>\n",
       "      <td>14.23</td>\n",
       "      <td>1.71</td>\n",
       "      <td>2.43</td>\n",
       "      <td>15.6</td>\n",
       "      <td>127.0</td>\n",
       "      <td>2.80</td>\n",
       "      <td>3.06</td>\n",
       "      <td>0.28</td>\n",
       "      <td>2.29</td>\n",
       "      <td>5.64</td>\n",
       "      <td>1.04</td>\n",
       "      <td>3.92</td>\n",
       "      <td>1065.0</td>\n",
       "    </tr>\n",
       "    <tr>\n",
       "      <th>1</th>\n",
       "      <td>13.20</td>\n",
       "      <td>1.78</td>\n",
       "      <td>2.14</td>\n",
       "      <td>11.2</td>\n",
       "      <td>100.0</td>\n",
       "      <td>2.65</td>\n",
       "      <td>2.76</td>\n",
       "      <td>0.26</td>\n",
       "      <td>1.28</td>\n",
       "      <td>4.38</td>\n",
       "      <td>1.05</td>\n",
       "      <td>3.40</td>\n",
       "      <td>1050.0</td>\n",
       "    </tr>\n",
       "    <tr>\n",
       "      <th>2</th>\n",
       "      <td>13.16</td>\n",
       "      <td>2.36</td>\n",
       "      <td>2.67</td>\n",
       "      <td>18.6</td>\n",
       "      <td>101.0</td>\n",
       "      <td>2.80</td>\n",
       "      <td>3.24</td>\n",
       "      <td>0.30</td>\n",
       "      <td>2.81</td>\n",
       "      <td>5.68</td>\n",
       "      <td>1.03</td>\n",
       "      <td>3.17</td>\n",
       "      <td>1185.0</td>\n",
       "    </tr>\n",
       "    <tr>\n",
       "      <th>3</th>\n",
       "      <td>14.37</td>\n",
       "      <td>1.95</td>\n",
       "      <td>2.50</td>\n",
       "      <td>16.8</td>\n",
       "      <td>113.0</td>\n",
       "      <td>3.85</td>\n",
       "      <td>3.49</td>\n",
       "      <td>0.24</td>\n",
       "      <td>2.18</td>\n",
       "      <td>7.80</td>\n",
       "      <td>0.86</td>\n",
       "      <td>3.45</td>\n",
       "      <td>1480.0</td>\n",
       "    </tr>\n",
       "    <tr>\n",
       "      <th>4</th>\n",
       "      <td>13.24</td>\n",
       "      <td>2.59</td>\n",
       "      <td>2.87</td>\n",
       "      <td>21.0</td>\n",
       "      <td>118.0</td>\n",
       "      <td>2.80</td>\n",
       "      <td>2.69</td>\n",
       "      <td>0.39</td>\n",
       "      <td>1.82</td>\n",
       "      <td>4.32</td>\n",
       "      <td>1.04</td>\n",
       "      <td>2.93</td>\n",
       "      <td>735.0</td>\n",
       "    </tr>\n",
       "    <tr>\n",
       "      <th>...</th>\n",
       "      <td>...</td>\n",
       "      <td>...</td>\n",
       "      <td>...</td>\n",
       "      <td>...</td>\n",
       "      <td>...</td>\n",
       "      <td>...</td>\n",
       "      <td>...</td>\n",
       "      <td>...</td>\n",
       "      <td>...</td>\n",
       "      <td>...</td>\n",
       "      <td>...</td>\n",
       "      <td>...</td>\n",
       "      <td>...</td>\n",
       "    </tr>\n",
       "    <tr>\n",
       "      <th>173</th>\n",
       "      <td>13.71</td>\n",
       "      <td>5.65</td>\n",
       "      <td>2.45</td>\n",
       "      <td>20.5</td>\n",
       "      <td>95.0</td>\n",
       "      <td>1.68</td>\n",
       "      <td>0.61</td>\n",
       "      <td>0.52</td>\n",
       "      <td>1.06</td>\n",
       "      <td>7.70</td>\n",
       "      <td>0.64</td>\n",
       "      <td>1.74</td>\n",
       "      <td>740.0</td>\n",
       "    </tr>\n",
       "    <tr>\n",
       "      <th>174</th>\n",
       "      <td>13.40</td>\n",
       "      <td>3.91</td>\n",
       "      <td>2.48</td>\n",
       "      <td>23.0</td>\n",
       "      <td>102.0</td>\n",
       "      <td>1.80</td>\n",
       "      <td>0.75</td>\n",
       "      <td>0.43</td>\n",
       "      <td>1.41</td>\n",
       "      <td>7.30</td>\n",
       "      <td>0.70</td>\n",
       "      <td>1.56</td>\n",
       "      <td>750.0</td>\n",
       "    </tr>\n",
       "    <tr>\n",
       "      <th>175</th>\n",
       "      <td>13.27</td>\n",
       "      <td>4.28</td>\n",
       "      <td>2.26</td>\n",
       "      <td>20.0</td>\n",
       "      <td>120.0</td>\n",
       "      <td>1.59</td>\n",
       "      <td>0.69</td>\n",
       "      <td>0.43</td>\n",
       "      <td>1.35</td>\n",
       "      <td>10.20</td>\n",
       "      <td>0.59</td>\n",
       "      <td>1.56</td>\n",
       "      <td>835.0</td>\n",
       "    </tr>\n",
       "    <tr>\n",
       "      <th>176</th>\n",
       "      <td>13.17</td>\n",
       "      <td>2.59</td>\n",
       "      <td>2.37</td>\n",
       "      <td>20.0</td>\n",
       "      <td>120.0</td>\n",
       "      <td>1.65</td>\n",
       "      <td>0.68</td>\n",
       "      <td>0.53</td>\n",
       "      <td>1.46</td>\n",
       "      <td>9.30</td>\n",
       "      <td>0.60</td>\n",
       "      <td>1.62</td>\n",
       "      <td>840.0</td>\n",
       "    </tr>\n",
       "    <tr>\n",
       "      <th>177</th>\n",
       "      <td>14.13</td>\n",
       "      <td>4.10</td>\n",
       "      <td>2.74</td>\n",
       "      <td>24.5</td>\n",
       "      <td>96.0</td>\n",
       "      <td>2.05</td>\n",
       "      <td>0.76</td>\n",
       "      <td>0.56</td>\n",
       "      <td>1.35</td>\n",
       "      <td>9.20</td>\n",
       "      <td>0.61</td>\n",
       "      <td>1.60</td>\n",
       "      <td>560.0</td>\n",
       "    </tr>\n",
       "  </tbody>\n",
       "</table>\n",
       "<p>178 rows × 13 columns</p>\n",
       "</div>"
      ],
      "text/plain": [
       "     alcohol  malic_acid   ash  alcalinity_of_ash  magnesium  total_phenols  \\\n",
       "0      14.23        1.71  2.43               15.6      127.0           2.80   \n",
       "1      13.20        1.78  2.14               11.2      100.0           2.65   \n",
       "2      13.16        2.36  2.67               18.6      101.0           2.80   \n",
       "3      14.37        1.95  2.50               16.8      113.0           3.85   \n",
       "4      13.24        2.59  2.87               21.0      118.0           2.80   \n",
       "..       ...         ...   ...                ...        ...            ...   \n",
       "173    13.71        5.65  2.45               20.5       95.0           1.68   \n",
       "174    13.40        3.91  2.48               23.0      102.0           1.80   \n",
       "175    13.27        4.28  2.26               20.0      120.0           1.59   \n",
       "176    13.17        2.59  2.37               20.0      120.0           1.65   \n",
       "177    14.13        4.10  2.74               24.5       96.0           2.05   \n",
       "\n",
       "     flavanoids  nonflavanoid_phenols  proanthocyanins  color_intensity   hue  \\\n",
       "0          3.06                  0.28             2.29             5.64  1.04   \n",
       "1          2.76                  0.26             1.28             4.38  1.05   \n",
       "2          3.24                  0.30             2.81             5.68  1.03   \n",
       "3          3.49                  0.24             2.18             7.80  0.86   \n",
       "4          2.69                  0.39             1.82             4.32  1.04   \n",
       "..          ...                   ...              ...              ...   ...   \n",
       "173        0.61                  0.52             1.06             7.70  0.64   \n",
       "174        0.75                  0.43             1.41             7.30  0.70   \n",
       "175        0.69                  0.43             1.35            10.20  0.59   \n",
       "176        0.68                  0.53             1.46             9.30  0.60   \n",
       "177        0.76                  0.56             1.35             9.20  0.61   \n",
       "\n",
       "     od280/od315_of_diluted_wines  proline  \n",
       "0                            3.92   1065.0  \n",
       "1                            3.40   1050.0  \n",
       "2                            3.17   1185.0  \n",
       "3                            3.45   1480.0  \n",
       "4                            2.93    735.0  \n",
       "..                            ...      ...  \n",
       "173                          1.74    740.0  \n",
       "174                          1.56    750.0  \n",
       "175                          1.56    835.0  \n",
       "176                          1.62    840.0  \n",
       "177                          1.60    560.0  \n",
       "\n",
       "[178 rows x 13 columns]"
      ]
     },
     "execution_count": 6,
     "metadata": {},
     "output_type": "execute_result"
    }
   ],
   "source": [
    "data"
   ]
  },
  {
   "cell_type": "code",
   "execution_count": 7,
   "metadata": {},
   "outputs": [
    {
     "data": {
      "text/plain": [
       "array([0, 0, 0, 0, 0, 0, 0, 0, 0, 0, 0, 0, 0, 0, 0, 0, 0, 0, 0, 0, 0, 0,\n",
       "       0, 0, 0, 0, 0, 0, 0, 0, 0, 0, 0, 0, 0, 0, 0, 0, 0, 0, 0, 0, 0, 0,\n",
       "       0, 0, 0, 0, 0, 0, 0, 0, 0, 0, 0, 0, 0, 0, 0, 1, 1, 1, 1, 1, 1, 1,\n",
       "       1, 1, 1, 1, 1, 1, 1, 1, 1, 1, 1, 1, 1, 1, 1, 1, 1, 1, 1, 1, 1, 1,\n",
       "       1, 1, 1, 1, 1, 1, 1, 1, 1, 1, 1, 1, 1, 1, 1, 1, 1, 1, 1, 1, 1, 1,\n",
       "       1, 1, 1, 1, 1, 1, 1, 1, 1, 1, 1, 1, 1, 1, 1, 1, 1, 1, 1, 1, 2, 2,\n",
       "       2, 2, 2, 2, 2, 2, 2, 2, 2, 2, 2, 2, 2, 2, 2, 2, 2, 2, 2, 2, 2, 2,\n",
       "       2, 2, 2, 2, 2, 2, 2, 2, 2, 2, 2, 2, 2, 2, 2, 2, 2, 2, 2, 2, 2, 2,\n",
       "       2, 2])"
      ]
     },
     "execution_count": 7,
     "metadata": {},
     "output_type": "execute_result"
    }
   ],
   "source": [
    "data_class"
   ]
  },
  {
   "cell_type": "code",
   "execution_count": 10,
   "metadata": {
    "id": "lFjqjX-iwCaW"
   },
   "outputs": [],
   "source": [
    "# разделяем выборку на тренировочную и тестовую\n",
    "from sklearn.model_selection import train_test_split\n",
    "X_train, X_test, y_train, y_test = train_test_split(data, data_class, test_size=0.25)"
   ]
  },
  {
   "cell_type": "code",
   "execution_count": 9,
   "metadata": {},
   "outputs": [
    {
     "data": {
      "text/plain": [
       "45"
      ]
     },
     "execution_count": 9,
     "metadata": {},
     "output_type": "execute_result"
    }
   ],
   "source": [
    "len(y_test)"
   ]
  },
  {
   "cell_type": "code",
   "execution_count": 11,
   "metadata": {
    "id": "6HINhvLtwdZT"
   },
   "outputs": [],
   "source": [
    "# импортируем LDA-функционал\n",
    "from sklearn.discriminant_analysis import LinearDiscriminantAnalysis"
   ]
  },
  {
   "cell_type": "code",
   "execution_count": 12,
   "metadata": {
    "id": "0Us8oVotwku1"
   },
   "outputs": [],
   "source": [
    "lda = LinearDiscriminantAnalysis()"
   ]
  },
  {
   "cell_type": "code",
   "execution_count": 13,
   "metadata": {
    "colab": {
     "base_uri": "https://localhost:8080/",
     "height": 72
    },
    "id": "h5Ufc5sjwnZ3",
    "outputId": "7d6c7182-8c84-4a03-f784-e32307ab0270"
   },
   "outputs": [
    {
     "data": {
      "text/plain": [
       "LinearDiscriminantAnalysis()"
      ]
     },
     "execution_count": 13,
     "metadata": {},
     "output_type": "execute_result"
    }
   ],
   "source": [
    "# обучаем модель\n",
    "lda.fit(X_train, y_train)"
   ]
  },
  {
   "cell_type": "code",
   "execution_count": 14,
   "metadata": {
    "colab": {
     "base_uri": "https://localhost:8080/",
     "height": 72
    },
    "id": "bcZ3H-T1xSWu",
    "outputId": "b2e22b45-347b-4270-a543-63b2a9ce6378"
   },
   "outputs": [
    {
     "data": {
      "text/plain": [
       "array([1, 2, 0, 0, 2, 0, 1, 2, 1, 2, 1, 0, 2, 1, 0, 0, 0, 1, 0, 0, 1, 1,\n",
       "       0, 1, 1, 1, 1, 2, 1, 0, 1, 1, 1, 0, 0, 1, 0, 1, 1, 0, 2, 0, 2, 2,\n",
       "       1])"
      ]
     },
     "execution_count": 14,
     "metadata": {},
     "output_type": "execute_result"
    }
   ],
   "source": [
    "# делаем прогноз на тестовой выборке\n",
    "lda.predict(X_test)"
   ]
  },
  {
   "cell_type": "code",
   "execution_count": 15,
   "metadata": {
    "id": "9wGodM6OxUds"
   },
   "outputs": [],
   "source": [
    "# смотрим разницу факта и прогноза\n",
    "result = pd.DataFrame([y_test, lda.predict(X_test)]).T"
   ]
  },
  {
   "cell_type": "code",
   "execution_count": 16,
   "metadata": {
    "colab": {
     "base_uri": "https://localhost:8080/",
     "height": 1000
    },
    "id": "RK4zDP6ZxaXI",
    "outputId": "f0c457bc-4f96-47f8-fa00-0ecb66d4e555"
   },
   "outputs": [
    {
     "data": {
      "text/html": [
       "<div>\n",
       "<style scoped>\n",
       "    .dataframe tbody tr th:only-of-type {\n",
       "        vertical-align: middle;\n",
       "    }\n",
       "\n",
       "    .dataframe tbody tr th {\n",
       "        vertical-align: top;\n",
       "    }\n",
       "\n",
       "    .dataframe thead th {\n",
       "        text-align: right;\n",
       "    }\n",
       "</style>\n",
       "<table border=\"1\" class=\"dataframe\">\n",
       "  <thead>\n",
       "    <tr style=\"text-align: right;\">\n",
       "      <th></th>\n",
       "      <th>0</th>\n",
       "      <th>1</th>\n",
       "    </tr>\n",
       "  </thead>\n",
       "  <tbody>\n",
       "    <tr>\n",
       "      <th>0</th>\n",
       "      <td>1</td>\n",
       "      <td>1</td>\n",
       "    </tr>\n",
       "    <tr>\n",
       "      <th>1</th>\n",
       "      <td>2</td>\n",
       "      <td>2</td>\n",
       "    </tr>\n",
       "    <tr>\n",
       "      <th>2</th>\n",
       "      <td>0</td>\n",
       "      <td>0</td>\n",
       "    </tr>\n",
       "    <tr>\n",
       "      <th>3</th>\n",
       "      <td>0</td>\n",
       "      <td>0</td>\n",
       "    </tr>\n",
       "    <tr>\n",
       "      <th>4</th>\n",
       "      <td>2</td>\n",
       "      <td>2</td>\n",
       "    </tr>\n",
       "    <tr>\n",
       "      <th>5</th>\n",
       "      <td>0</td>\n",
       "      <td>0</td>\n",
       "    </tr>\n",
       "    <tr>\n",
       "      <th>6</th>\n",
       "      <td>1</td>\n",
       "      <td>1</td>\n",
       "    </tr>\n",
       "    <tr>\n",
       "      <th>7</th>\n",
       "      <td>2</td>\n",
       "      <td>2</td>\n",
       "    </tr>\n",
       "    <tr>\n",
       "      <th>8</th>\n",
       "      <td>1</td>\n",
       "      <td>1</td>\n",
       "    </tr>\n",
       "    <tr>\n",
       "      <th>9</th>\n",
       "      <td>2</td>\n",
       "      <td>2</td>\n",
       "    </tr>\n",
       "    <tr>\n",
       "      <th>10</th>\n",
       "      <td>1</td>\n",
       "      <td>1</td>\n",
       "    </tr>\n",
       "    <tr>\n",
       "      <th>11</th>\n",
       "      <td>0</td>\n",
       "      <td>0</td>\n",
       "    </tr>\n",
       "    <tr>\n",
       "      <th>12</th>\n",
       "      <td>2</td>\n",
       "      <td>2</td>\n",
       "    </tr>\n",
       "    <tr>\n",
       "      <th>13</th>\n",
       "      <td>1</td>\n",
       "      <td>1</td>\n",
       "    </tr>\n",
       "    <tr>\n",
       "      <th>14</th>\n",
       "      <td>0</td>\n",
       "      <td>0</td>\n",
       "    </tr>\n",
       "    <tr>\n",
       "      <th>15</th>\n",
       "      <td>0</td>\n",
       "      <td>0</td>\n",
       "    </tr>\n",
       "    <tr>\n",
       "      <th>16</th>\n",
       "      <td>0</td>\n",
       "      <td>0</td>\n",
       "    </tr>\n",
       "    <tr>\n",
       "      <th>17</th>\n",
       "      <td>1</td>\n",
       "      <td>1</td>\n",
       "    </tr>\n",
       "    <tr>\n",
       "      <th>18</th>\n",
       "      <td>0</td>\n",
       "      <td>0</td>\n",
       "    </tr>\n",
       "    <tr>\n",
       "      <th>19</th>\n",
       "      <td>0</td>\n",
       "      <td>0</td>\n",
       "    </tr>\n",
       "    <tr>\n",
       "      <th>20</th>\n",
       "      <td>1</td>\n",
       "      <td>1</td>\n",
       "    </tr>\n",
       "    <tr>\n",
       "      <th>21</th>\n",
       "      <td>1</td>\n",
       "      <td>1</td>\n",
       "    </tr>\n",
       "    <tr>\n",
       "      <th>22</th>\n",
       "      <td>0</td>\n",
       "      <td>0</td>\n",
       "    </tr>\n",
       "    <tr>\n",
       "      <th>23</th>\n",
       "      <td>1</td>\n",
       "      <td>1</td>\n",
       "    </tr>\n",
       "    <tr>\n",
       "      <th>24</th>\n",
       "      <td>1</td>\n",
       "      <td>1</td>\n",
       "    </tr>\n",
       "    <tr>\n",
       "      <th>25</th>\n",
       "      <td>1</td>\n",
       "      <td>1</td>\n",
       "    </tr>\n",
       "    <tr>\n",
       "      <th>26</th>\n",
       "      <td>1</td>\n",
       "      <td>1</td>\n",
       "    </tr>\n",
       "    <tr>\n",
       "      <th>27</th>\n",
       "      <td>2</td>\n",
       "      <td>2</td>\n",
       "    </tr>\n",
       "    <tr>\n",
       "      <th>28</th>\n",
       "      <td>1</td>\n",
       "      <td>1</td>\n",
       "    </tr>\n",
       "    <tr>\n",
       "      <th>29</th>\n",
       "      <td>0</td>\n",
       "      <td>0</td>\n",
       "    </tr>\n",
       "    <tr>\n",
       "      <th>30</th>\n",
       "      <td>1</td>\n",
       "      <td>1</td>\n",
       "    </tr>\n",
       "    <tr>\n",
       "      <th>31</th>\n",
       "      <td>1</td>\n",
       "      <td>1</td>\n",
       "    </tr>\n",
       "    <tr>\n",
       "      <th>32</th>\n",
       "      <td>1</td>\n",
       "      <td>1</td>\n",
       "    </tr>\n",
       "    <tr>\n",
       "      <th>33</th>\n",
       "      <td>0</td>\n",
       "      <td>0</td>\n",
       "    </tr>\n",
       "    <tr>\n",
       "      <th>34</th>\n",
       "      <td>0</td>\n",
       "      <td>0</td>\n",
       "    </tr>\n",
       "    <tr>\n",
       "      <th>35</th>\n",
       "      <td>1</td>\n",
       "      <td>1</td>\n",
       "    </tr>\n",
       "    <tr>\n",
       "      <th>36</th>\n",
       "      <td>0</td>\n",
       "      <td>0</td>\n",
       "    </tr>\n",
       "    <tr>\n",
       "      <th>37</th>\n",
       "      <td>1</td>\n",
       "      <td>1</td>\n",
       "    </tr>\n",
       "    <tr>\n",
       "      <th>38</th>\n",
       "      <td>1</td>\n",
       "      <td>1</td>\n",
       "    </tr>\n",
       "    <tr>\n",
       "      <th>39</th>\n",
       "      <td>0</td>\n",
       "      <td>0</td>\n",
       "    </tr>\n",
       "    <tr>\n",
       "      <th>40</th>\n",
       "      <td>2</td>\n",
       "      <td>2</td>\n",
       "    </tr>\n",
       "    <tr>\n",
       "      <th>41</th>\n",
       "      <td>0</td>\n",
       "      <td>0</td>\n",
       "    </tr>\n",
       "    <tr>\n",
       "      <th>42</th>\n",
       "      <td>2</td>\n",
       "      <td>2</td>\n",
       "    </tr>\n",
       "    <tr>\n",
       "      <th>43</th>\n",
       "      <td>2</td>\n",
       "      <td>2</td>\n",
       "    </tr>\n",
       "    <tr>\n",
       "      <th>44</th>\n",
       "      <td>1</td>\n",
       "      <td>1</td>\n",
       "    </tr>\n",
       "  </tbody>\n",
       "</table>\n",
       "</div>"
      ],
      "text/plain": [
       "    0  1\n",
       "0   1  1\n",
       "1   2  2\n",
       "2   0  0\n",
       "3   0  0\n",
       "4   2  2\n",
       "5   0  0\n",
       "6   1  1\n",
       "7   2  2\n",
       "8   1  1\n",
       "9   2  2\n",
       "10  1  1\n",
       "11  0  0\n",
       "12  2  2\n",
       "13  1  1\n",
       "14  0  0\n",
       "15  0  0\n",
       "16  0  0\n",
       "17  1  1\n",
       "18  0  0\n",
       "19  0  0\n",
       "20  1  1\n",
       "21  1  1\n",
       "22  0  0\n",
       "23  1  1\n",
       "24  1  1\n",
       "25  1  1\n",
       "26  1  1\n",
       "27  2  2\n",
       "28  1  1\n",
       "29  0  0\n",
       "30  1  1\n",
       "31  1  1\n",
       "32  1  1\n",
       "33  0  0\n",
       "34  0  0\n",
       "35  1  1\n",
       "36  0  0\n",
       "37  1  1\n",
       "38  1  1\n",
       "39  0  0\n",
       "40  2  2\n",
       "41  0  0\n",
       "42  2  2\n",
       "43  2  2\n",
       "44  1  1"
      ]
     },
     "execution_count": 16,
     "metadata": {},
     "output_type": "execute_result"
    }
   ],
   "source": [
    "result"
   ]
  },
  {
   "cell_type": "code",
   "execution_count": 17,
   "metadata": {
    "id": "B66nVhbk2Mf1"
   },
   "outputs": [],
   "source": [
    "# расчет точности - отношение верных прогнозов к общему количеству позиций\n",
    "# является хорошей метрикой для сбалансированных классов \n",
    "# (наблюдений в категориях примерно одинаковое количество)\n",
    "\n",
    "from sklearn.metrics import accuracy_score"
   ]
  },
  {
   "cell_type": "code",
   "execution_count": 18,
   "metadata": {
    "colab": {
     "base_uri": "https://localhost:8080/",
     "height": 55
    },
    "id": "2x5pYOZB2P2F",
    "outputId": "3ce07925-4c20-4911-dd19-12f48aead815"
   },
   "outputs": [
    {
     "data": {
      "text/plain": [
       "1.0"
      ]
     },
     "execution_count": 18,
     "metadata": {},
     "output_type": "execute_result"
    }
   ],
   "source": [
    "accuracy_score(y_test, lda.predict(X_test))"
   ]
  },
  {
   "cell_type": "code",
   "execution_count": 19,
   "metadata": {
    "colab": {
     "base_uri": "https://localhost:8080/",
     "height": 301
    },
    "id": "aBdqgd5ixdMh",
    "outputId": "4c410bf2-a27b-41be-9c95-c330a849f028"
   },
   "outputs": [
    {
     "data": {
      "text/plain": [
       "array([[ 2.66278634e+00,  9.96297477e-03,  6.05135884e+00,\n",
       "        -9.47998050e-01, -1.59171299e-02, -2.04314827e+00,\n",
       "         4.22372588e+00,  2.06762011e+00, -4.95995781e-01,\n",
       "        -6.80139263e-01,  1.69246458e+00,  4.56200182e+00,\n",
       "         1.38044166e-02],\n",
       "       [-1.71999593e+00, -9.57252898e-01, -6.62490079e+00,\n",
       "         4.48687996e-01,  2.77548992e-02, -1.35378671e-01,\n",
       "         1.74740758e+00,  4.72951093e+00,  9.94250890e-01,\n",
       "        -6.71022615e-01,  3.75211444e+00, -9.58731382e-02,\n",
       "        -7.80573287e-03],\n",
       "       [-6.86667188e-01,  1.24080743e+00,  1.99132076e+00,\n",
       "         4.58482779e-01, -1.87452121e-02,  2.42973558e+00,\n",
       "        -6.94199998e+00, -8.46442877e+00, -7.53307098e-01,\n",
       "         1.62738825e+00, -6.77266187e+00, -4.90452687e+00,\n",
       "        -5.01275733e-03]])"
      ]
     },
     "execution_count": 19,
     "metadata": {},
     "output_type": "execute_result"
    }
   ],
   "source": [
    "# коэффициенты дискриминатных линий\n",
    "lda.coef_"
   ]
  },
  {
   "cell_type": "code",
   "execution_count": 20,
   "metadata": {
    "colab": {
     "base_uri": "https://localhost:8080/",
     "height": 285
    },
    "id": "6fWjKgl4yLHO",
    "outputId": "a7b211e3-4835-4864-af20-fc0c5c458d1c"
   },
   "outputs": [
    {
     "data": {
      "image/png": "[encoded data removed]",
      "text/plain": [
       "<Figure size 432x288 with 1 Axes>"
      ]
     },
     "metadata": {
      "needs_background": "light"
     },
     "output_type": "display_data"
    }
   ],
   "source": [
    "# визуализируем дискриминантную линию только по 2 признакам\n",
    "plt.scatter(X_train['ash'], X_train['flavanoids'], c=y_train)\n",
    "plt.show()"
   ]
  },
  {
   "cell_type": "code",
   "execution_count": 21,
   "metadata": {
    "id": "KFSam-cJzCOG"
   },
   "outputs": [],
   "source": [
    "small_train = X_train[(y_train == 0) | (y_train == 2)]\n",
    "small_train = small_train[['ash', 'flavanoids']]\n",
    "sy_train = y_train[(y_train == 0) | (y_train == 2)]\n",
    "small_test = X_test[(y_test == 0) | (y_test == 2)]\n",
    "small_test = small_test[['ash', 'flavanoids']]\n",
    "sy_test = y_test[(y_test == 0) | (y_test == 2)]"
   ]
  },
  {
   "cell_type": "code",
   "execution_count": 22,
   "metadata": {
    "colab": {
     "base_uri": "https://localhost:8080/",
     "height": 285
    },
    "id": "SX47KNgXySEU",
    "outputId": "164c922b-8b95-4e89-8687-d3208ed3c20a"
   },
   "outputs": [
    {
     "data": {
      "image/png": "[encoded data removed]",
      "text/plain": [
       "<Figure size 432x288 with 1 Axes>"
      ]
     },
     "metadata": {
      "needs_background": "light"
     },
     "output_type": "display_data"
    }
   ],
   "source": [
    "plt.scatter(small_train['ash'], small_train['flavanoids'], c=sy_train)\n",
    "plt.show()"
   ]
  },
  {
   "cell_type": "code",
   "execution_count": 23,
   "metadata": {
    "colab": {
     "base_uri": "https://localhost:8080/",
     "height": 72
    },
    "id": "jzWXDuY7y453",
    "outputId": "a364ac48-a533-407e-c774-26c6342e77c6"
   },
   "outputs": [
    {
     "data": {
      "text/plain": [
       "LinearDiscriminantAnalysis()"
      ]
     },
     "execution_count": 23,
     "metadata": {},
     "output_type": "execute_result"
    }
   ],
   "source": [
    "lda_small = LinearDiscriminantAnalysis()\n",
    "lda_small.fit(small_train, sy_train)"
   ]
  },
  {
   "cell_type": "code",
   "execution_count": 24,
   "metadata": {
    "colab": {
     "base_uri": "https://localhost:8080/",
     "height": 72
    },
    "id": "MSo9yPBxzPYx",
    "outputId": "02ff0c93-cf22-46f4-8c40-e9be2dde039a"
   },
   "outputs": [
    {
     "data": {
      "text/plain": [
       "array([[2.45767442, 2.99046512],\n",
       "       [2.42435897, 0.73692308]])"
      ]
     },
     "execution_count": 24,
     "metadata": {},
     "output_type": "execute_result"
    }
   ],
   "source": [
    "# посмотрим на наши центроиды\n",
    "lda_small.means_"
   ]
  },
  {
   "cell_type": "code",
   "execution_count": 25,
   "metadata": {
    "colab": {
     "base_uri": "https://localhost:8080/",
     "height": 285
    },
    "id": "IrQb_JTwzREc",
    "outputId": "34e9bd73-e15c-494b-9f29-ad9584f1d217"
   },
   "outputs": [
    {
     "data": {
      "text/plain": [
       "<matplotlib.contour.QuadContourSet at 0x182606e3f70>"
      ]
     },
     "execution_count": 25,
     "metadata": {},
     "output_type": "execute_result"
    },
    {
     "data": {
      "image/png": "[encoded data removed]",
      "text/plain": [
       "<Figure size 432x288 with 1 Axes>"
      ]
     },
     "metadata": {
      "needs_background": "light"
     },
     "output_type": "display_data"
    }
   ],
   "source": [
    "# сам scatter plot\n",
    "plt.scatter(small_train['ash'], small_train['flavanoids'], c=sy_train)\n",
    "# центроиды\n",
    "plt.scatter(lda_small.means_[:, 0], lda_small.means_[:, 1], c='r', s=150, marker='*')\n",
    "\n",
    "# делаем условную \"сетку\"\n",
    "nx, ny = 200, 100\n",
    "x_min, x_max = plt.xlim()\n",
    "y_min, y_max = plt.ylim()\n",
    "xx, yy = np.meshgrid(np.linspace(x_min, x_max, nx),\n",
    "                         np.linspace(y_min, y_max, ny))\n",
    "\n",
    "# предсказываем класс каждой точки нашей сетки\n",
    "Z = lda_small.predict_proba(np.c_[xx.ravel(), yy.ravel()])\n",
    "Z = Z[:, 1].reshape(xx.shape)\n",
    "\n",
    "# закрашиваем классы разными цветами\n",
    "plt.pcolormesh(xx, yy, Z, cmap='red_blue_classes',\n",
    "                   norm=colors.Normalize(0., 1.), zorder=-1, shading='auto')\n",
    "\n",
    "# отделяем друг от друга\n",
    "plt.contour(xx, yy, Z, [0.5], linewidths=2., colors='white')"
   ]
  },
  {
   "cell_type": "code",
   "execution_count": 26,
   "metadata": {
    "colab": {
     "base_uri": "https://localhost:8080/",
     "height": 55
    },
    "id": "e4_nponj4X5a",
    "outputId": "8c6ea1c8-0f94-4ecd-9415-1c822846cdac"
   },
   "outputs": [
    {
     "data": {
      "text/plain": [
       "array([[ -2.10659758, -18.62899853]])"
      ]
     },
     "execution_count": 26,
     "metadata": {},
     "output_type": "execute_result"
    }
   ],
   "source": [
    "# второй признак в 9 раз важнее первого для кластеризации (это видно по визуализации)\n",
    "lda_small.coef_"
   ]
  },
  {
   "cell_type": "code",
   "execution_count": 27,
   "metadata": {
    "colab": {
     "base_uri": "https://localhost:8080/",
     "height": 55
    },
    "id": "fDmV457H4kz_",
    "outputId": "ae9a089e-ff63-470d-c98f-0c326fa3f748"
   },
   "outputs": [
    {
     "data": {
      "text/plain": [
       "1.0"
      ]
     },
     "execution_count": 27,
     "metadata": {},
     "output_type": "execute_result"
    }
   ],
   "source": [
    "# какая будет точность?\n",
    "accuracy_score(sy_test, lda_small.predict(small_test))"
   ]
  },
  {
   "cell_type": "code",
   "execution_count": 28,
   "metadata": {},
   "outputs": [
    {
     "data": {
      "text/html": [
       "<div>\n",
       "<style scoped>\n",
       "    .dataframe tbody tr th:only-of-type {\n",
       "        vertical-align: middle;\n",
       "    }\n",
       "\n",
       "    .dataframe tbody tr th {\n",
       "        vertical-align: top;\n",
       "    }\n",
       "\n",
       "    .dataframe thead th {\n",
       "        text-align: right;\n",
       "    }\n",
       "</style>\n",
       "<table border=\"1\" class=\"dataframe\">\n",
       "  <thead>\n",
       "    <tr style=\"text-align: right;\">\n",
       "      <th></th>\n",
       "      <th>flavanoids</th>\n",
       "      <th>ash</th>\n",
       "    </tr>\n",
       "  </thead>\n",
       "  <tbody>\n",
       "    <tr>\n",
       "      <th>flavanoids</th>\n",
       "      <td>1.000000</td>\n",
       "      <td>0.115077</td>\n",
       "    </tr>\n",
       "    <tr>\n",
       "      <th>ash</th>\n",
       "      <td>0.115077</td>\n",
       "      <td>1.000000</td>\n",
       "    </tr>\n",
       "  </tbody>\n",
       "</table>\n",
       "</div>"
      ],
      "text/plain": [
       "            flavanoids       ash\n",
       "flavanoids    1.000000  0.115077\n",
       "ash           0.115077  1.000000"
      ]
     },
     "execution_count": 28,
     "metadata": {},
     "output_type": "execute_result"
    }
   ],
   "source": [
    "data[['flavanoids', 'ash']].corr()"
   ]
  },
  {
   "cell_type": "code",
   "execution_count": 29,
   "metadata": {
    "id": "E-gchIEJ4t2d"
   },
   "outputs": [],
   "source": [
    "# заменим модель на логистическую регресиию\n",
    "# кому интересно, отличия логистической регресссии от LDA: \n",
    "# https://www.introspective-mode.org/logistic-regression-or-discriminant-function-analysis/\n",
    "# Основные моменты:\n",
    "# LR может работать с категориальными признаками \n",
    "# зависимая переменная в LR подчиняется логистической функции (изменяется от 0 до 1) и непрерывна\n",
    "from sklearn.linear_model import LogisticRegression"
   ]
  },
  {
   "cell_type": "code",
   "execution_count": 30,
   "metadata": {
    "id": "R4NDgweF41cm"
   },
   "outputs": [],
   "source": [
    "lr = LogisticRegression()"
   ]
  },
  {
   "cell_type": "code",
   "execution_count": 31,
   "metadata": {
    "colab": {
     "base_uri": "https://localhost:8080/",
     "height": 125
    },
    "id": "badyR0Tj43nx",
    "outputId": "53b815eb-53be-458c-bd4a-c4d20a0b3245"
   },
   "outputs": [
    {
     "data": {
      "text/plain": [
       "LogisticRegression()"
      ]
     },
     "execution_count": 31,
     "metadata": {},
     "output_type": "execute_result"
    }
   ],
   "source": [
    "lr.fit(small_train, sy_train)"
   ]
  },
  {
   "cell_type": "code",
   "execution_count": 32,
   "metadata": {
    "colab": {
     "base_uri": "https://localhost:8080/",
     "height": 72
    },
    "id": "NfqW9uR9481f",
    "outputId": "467e1065-de9c-47c6-8b16-82ee17b54410"
   },
   "outputs": [
    {
     "data": {
      "text/plain": [
       "array([2, 0, 0, 2, 0, 2, 2, 0, 2, 0, 0, 0, 0, 0, 0, 2, 0, 0, 0, 0, 0, 2,\n",
       "       0, 2, 2])"
      ]
     },
     "execution_count": 32,
     "metadata": {},
     "output_type": "execute_result"
    }
   ],
   "source": [
    "lr.predict(small_test)"
   ]
  },
  {
   "cell_type": "code",
   "execution_count": 33,
   "metadata": {
    "colab": {
     "base_uri": "https://localhost:8080/",
     "height": 55
    },
    "id": "qqFys9hT4_Eo",
    "outputId": "498814d0-6e8b-4943-fbea-044bd2392bd9"
   },
   "outputs": [
    {
     "data": {
      "text/plain": [
       "1.0"
      ]
     },
     "execution_count": 33,
     "metadata": {},
     "output_type": "execute_result"
    }
   ],
   "source": [
    "accuracy_score(sy_test, lr.predict(small_test))"
   ]
  },
  {
   "cell_type": "code",
   "execution_count": 34,
   "metadata": {
    "colab": {
     "base_uri": "https://localhost:8080/",
     "height": 55
    },
    "id": "1Ei0UlN55CZ_",
    "outputId": "73d548b4-a064-44bf-c925-0077561d60af"
   },
   "outputs": [
    {
     "data": {
      "text/plain": [
       "array([[-0.06501411, -3.10808142]])"
      ]
     },
     "execution_count": 34,
     "metadata": {},
     "output_type": "execute_result"
    }
   ],
   "source": [
    "lr.coef_"
   ]
  },
  {
   "cell_type": "code",
   "execution_count": 35,
   "metadata": {
    "colab": {
     "base_uri": "https://localhost:8080/",
     "height": 285
    },
    "id": "eTw2FBQh5GKr",
    "outputId": "a6cdbf48-2fd6-4a27-fcaa-166352fb7c39"
   },
   "outputs": [
    {
     "data": {
      "image/png": "[encoded data removed]",
      "text/plain": [
       "<Figure size 432x288 with 1 Axes>"
      ]
     },
     "metadata": {
      "needs_background": "light"
     },
     "output_type": "display_data"
    }
   ],
   "source": [
    "plt.scatter(small_train['ash'], small_train['flavanoids'], c=sy_train)\n",
    "\n",
    "nx, ny = 200, 100\n",
    "x_min, x_max = plt.xlim()\n",
    "y_min, y_max = plt.ylim()\n",
    "xx, yy = np.meshgrid(np.linspace(x_min, x_max, nx),\n",
    "                         np.linspace(y_min, y_max, ny))\n",
    "Z = lr.predict_proba(np.c_[xx.ravel(), yy.ravel()])\n",
    "Z = Z[:, 1].reshape(xx.shape)\n",
    "plt.pcolormesh(xx, yy, Z, cmap='red_blue_classes',\n",
    "                   norm=colors.Normalize(0., 1.), zorder=-1, shading='auto')\n",
    "plt.contour(xx, yy, Z, [0.5], linewidths=2., colors='white')\n",
    "\n",
    "plt.show()"
   ]
  },
  {
   "cell_type": "markdown",
   "metadata": {
    "id": "UJefBk-e58kX"
   },
   "source": [
    "## Кластеризация"
   ]
  },
  {
   "cell_type": "code",
   "execution_count": 36,
   "metadata": {
    "id": "ZK-UchxSXREG"
   },
   "outputs": [],
   "source": [
    "# генерируем искусвтенные данные для примера\n",
    "from sklearn.datasets import make_moons, make_blobs"
   ]
  },
  {
   "cell_type": "code",
   "execution_count": 37,
   "metadata": {
    "id": "_NxdrQ7RXSF5"
   },
   "outputs": [],
   "source": [
    "# 200 точек с 2 центрами, СКО - 2.5\n",
    "X, y = make_blobs(n_samples=200, centers=2, cluster_std=2.5)"
   ]
  },
  {
   "cell_type": "code",
   "execution_count": 38,
   "metadata": {},
   "outputs": [
    {
     "data": {
      "text/plain": [
       "array([[  4.5160326 ,  13.33565808],\n",
       "       [  3.56108664,  -9.95443332],\n",
       "       [  2.04072408,  -8.03005716],\n",
       "       [  3.09905953,  -9.75306926],\n",
       "       [  3.77182675,   6.25654631],\n",
       "       [ 10.35350273,   5.72803889],\n",
       "       [  4.01891588,   7.40142336],\n",
       "       [  3.4657592 , -11.21950438],\n",
       "       [  5.02671992,   9.73506573],\n",
       "       [  5.52914205, -13.34103886],\n",
       "       [  8.04091016,  10.77864021],\n",
       "       [  5.66578791,  11.96438505],\n",
       "       [  1.52508998,  10.23189881],\n",
       "       [  3.34719875,   7.84350318],\n",
       "       [  6.22690432,   9.58550551],\n",
       "       [  3.33457099, -13.07066228],\n",
       "       [  6.8102872 ,  -9.54401106],\n",
       "       [  6.46854894,   6.44160268],\n",
       "       [  4.0675878 ,  11.84993519],\n",
       "       [  6.22192758,   4.1629823 ],\n",
       "       [  3.73617497,  -5.27185546],\n",
       "       [ -0.44020072,  -4.89168641],\n",
       "       [  1.97317607,  -6.09772417],\n",
       "       [  5.46255726,  -7.89768031],\n",
       "       [  3.72843937,   8.61541625],\n",
       "       [  4.73880047,  -5.68863558],\n",
       "       [  1.48217327, -13.29951397],\n",
       "       [  2.91864434,  12.4640157 ],\n",
       "       [  3.29390868, -10.6326824 ],\n",
       "       [  1.45027168,   9.52441148],\n",
       "       [  4.91946245,   5.78889723],\n",
       "       [  6.68456053,   7.5648631 ],\n",
       "       [  4.34353548,   5.83986711],\n",
       "       [  8.9229474 ,  10.26201369],\n",
       "       [  6.58481648,  10.44907699],\n",
       "       [ -0.5741033 ,  -9.58979046],\n",
       "       [  6.01568376,  10.22770273],\n",
       "       [  7.53113052,  -5.3813708 ],\n",
       "       [  4.46445175,   8.13716687],\n",
       "       [  7.07720791,   4.00425043],\n",
       "       [  1.76979239,   2.09367895],\n",
       "       [  7.29158369,  -6.90432821],\n",
       "       [  1.97190399,  -9.37315661],\n",
       "       [  8.85833551,  12.45212799],\n",
       "       [  3.76286552,  -6.10977866],\n",
       "       [  2.66362008,  -7.53995061],\n",
       "       [  7.32301127,  -9.26902289],\n",
       "       [  0.86655365,   0.31990204],\n",
       "       [  7.55301417,  -4.65524603],\n",
       "       [  3.67947925,  -8.08788499],\n",
       "       [  4.70048336,  -8.48656008],\n",
       "       [  2.7006993 ,  -5.6389883 ],\n",
       "       [  1.57976739,  -2.45127072],\n",
       "       [  7.1102035 ,   9.79294602],\n",
       "       [  5.23150987,   7.80262785],\n",
       "       [  6.18689556,  12.61097842],\n",
       "       [  5.6439504 ,   9.83108831],\n",
       "       [  6.79511939,   4.16541239],\n",
       "       [  4.34907831,  -7.5389176 ],\n",
       "       [  1.71362092, -10.28579567],\n",
       "       [  1.68285079,  11.90472955],\n",
       "       [  6.11734206,   8.76700621],\n",
       "       [  2.32748449,  -4.97100718],\n",
       "       [  6.44693363, -12.03941507],\n",
       "       [  7.18820362,   7.20145541],\n",
       "       [  1.058863  ,   6.10524879],\n",
       "       [  8.63288418,  15.82722086],\n",
       "       [  6.87876385, -12.56274262],\n",
       "       [  6.98877306,  -8.12974045],\n",
       "       [  3.52894055,   5.70206041],\n",
       "       [  6.22858546,   9.6837196 ],\n",
       "       [  7.16302076,  10.04867737],\n",
       "       [  6.76627825,  -5.59626327],\n",
       "       [  5.15862079,   9.58675547],\n",
       "       [  7.61319867,  11.07492107],\n",
       "       [  7.51116591,   9.39913538],\n",
       "       [  3.01128559,  -6.48467101],\n",
       "       [  4.69832328,  12.16008073],\n",
       "       [  9.86737478,  -9.26513059],\n",
       "       [  3.27041927,  -7.13858781],\n",
       "       [  6.98577394,   7.74692364],\n",
       "       [  5.21148015, -10.79083986],\n",
       "       [  4.44761685,  -7.53168072],\n",
       "       [  5.20640273,   2.65057715],\n",
       "       [  7.29854958,  -6.98189462],\n",
       "       [  0.17054764,  -3.65097925],\n",
       "       [  2.3074092 ,  12.20487087],\n",
       "       [  5.30291014, -10.58223777],\n",
       "       [  6.52163721, -10.60931158],\n",
       "       [  6.12591228,  11.5605629 ],\n",
       "       [  3.46821973,  -8.27779635],\n",
       "       [  3.08812089,   8.59054576],\n",
       "       [  1.85927935,  -7.56128986],\n",
       "       [  5.25280752,  -9.93834269],\n",
       "       [  5.41773004, -11.8740112 ],\n",
       "       [  5.9166982 ,  -7.08952942],\n",
       "       [  7.95333309,   8.9755419 ],\n",
       "       [  7.17205435,  -8.28059201],\n",
       "       [  3.88460594,   6.10104881],\n",
       "       [  8.89932018,   7.00700252],\n",
       "       [  6.32612503,   8.48772714],\n",
       "       [  1.52404631,  -5.73826848],\n",
       "       [  6.62353913,  10.90663405],\n",
       "       [  5.19823269,   8.93060666],\n",
       "       [  6.78569546,  -9.04792598],\n",
       "       [  2.65760534,   8.70826238],\n",
       "       [  3.35563075,  -6.00494975],\n",
       "       [  4.52175824, -11.55984778],\n",
       "       [  5.39999613, -10.63757007],\n",
       "       [ -0.05583679,  -6.12566982],\n",
       "       [  6.68024175, -11.41508112],\n",
       "       [  0.60720041,  11.40074039],\n",
       "       [  3.75848811,  10.49959834],\n",
       "       [  3.5652528 ,   6.59814476],\n",
       "       [  2.41666489,   5.24488426],\n",
       "       [  1.69635131,  -9.12117374],\n",
       "       [  5.80804362,  11.51198204],\n",
       "       [  5.66780359,  13.4431038 ],\n",
       "       [  2.92014043,  -6.38560898],\n",
       "       [  1.6211906 ,  -2.81365319],\n",
       "       [  1.36672451,  -8.58559349],\n",
       "       [  7.06759993, -10.21925531],\n",
       "       [  7.89060543,   9.9202574 ],\n",
       "       [  6.38232944,   6.86420316],\n",
       "       [  3.46335229,  -8.57695992],\n",
       "       [  2.80202449,  -8.78181648],\n",
       "       [  6.12600528,   8.18145356],\n",
       "       [  3.48989224, -11.98523109],\n",
       "       [  7.92524121,  -8.14112381],\n",
       "       [  6.58455017,   8.5358279 ],\n",
       "       [  5.16074099,  -6.1355479 ],\n",
       "       [  6.07723947,  11.40452609],\n",
       "       [  7.29092805,  12.24730179],\n",
       "       [  5.34466964,   9.95995299],\n",
       "       [  2.35932818,  -7.73999226],\n",
       "       [  6.06656129,   6.73229827],\n",
       "       [  1.1173841 , -12.13750201],\n",
       "       [ 10.61651664,  -5.92891047],\n",
       "       [  6.27803553,   9.02870563],\n",
       "       [  5.8521812 , -10.20901916],\n",
       "       [  6.28313392, -11.09571014],\n",
       "       [  7.57875526,   8.82413319],\n",
       "       [  3.6676733 ,   7.80302558],\n",
       "       [  2.68058189,  -7.57843041],\n",
       "       [  6.24761361,   9.78585747],\n",
       "       [  2.85716366, -10.13204372],\n",
       "       [  9.29969506,   9.1175053 ],\n",
       "       [  6.27715545, -13.34139829],\n",
       "       [  2.67549412, -12.49277751],\n",
       "       [  3.2084028 ,  10.61645703],\n",
       "       [  3.3620649 ,   9.16083766],\n",
       "       [  1.5017041 ,  -7.39331028],\n",
       "       [  4.49220283,  10.62906289],\n",
       "       [  3.27708425,   6.78196938],\n",
       "       [  1.82575602,  -4.99786512],\n",
       "       [  9.45972037,   8.94610561],\n",
       "       [  3.43486416,  -9.2253394 ],\n",
       "       [  4.55721515,  -7.15827752],\n",
       "       [  7.05485807, -10.12786697],\n",
       "       [  2.53499011,  -6.52237126],\n",
       "       [  1.41438029,  13.2149065 ],\n",
       "       [  4.41859622,  -6.88059023],\n",
       "       [  5.99825507,  12.74692951],\n",
       "       [  5.25449581,   7.87392406],\n",
       "       [  7.04067278,  -6.73128851],\n",
       "       [  6.52189155,  -9.99135582],\n",
       "       [  2.00384311,  -7.17013497],\n",
       "       [  2.16505292,  -9.59231143],\n",
       "       [ -0.37833384,  -7.55898534],\n",
       "       [  4.40834204,   9.14602877],\n",
       "       [  4.31194861,  -8.01322311],\n",
       "       [  6.04376373, -11.00304585],\n",
       "       [  4.47487266,  -7.68239515],\n",
       "       [  0.43629093,  -6.61787202],\n",
       "       [  6.25220557,  11.01837579],\n",
       "       [  6.55008734,  -6.56789347],\n",
       "       [  6.43500807,   8.71346303],\n",
       "       [  1.94543972,  -3.70274129],\n",
       "       [  2.09927559, -14.02445604],\n",
       "       [  4.30139209,  -9.33994601],\n",
       "       [  5.18945429,  -9.67545057],\n",
       "       [  4.37737106,  11.29384893],\n",
       "       [  5.0773084 ,  11.92107478],\n",
       "       [  4.32694216,   9.93983667],\n",
       "       [  9.4446934 ,   5.65820954],\n",
       "       [  5.07371943, -11.22953724],\n",
       "       [  5.169871  ,  14.84595365],\n",
       "       [  4.28766282,   7.7958552 ],\n",
       "       [  6.38640076,  -4.30776041],\n",
       "       [  6.48523338,   8.41098789],\n",
       "       [  8.89307373,  12.00505477],\n",
       "       [  7.88467543,  -9.6858497 ],\n",
       "       [  2.64993513,   7.34898973],\n",
       "       [  7.00161438,   9.2906721 ],\n",
       "       [  7.22834515,  -9.96203613],\n",
       "       [  6.82379126,  12.56583049],\n",
       "       [  3.80293139,  -7.82636144],\n",
       "       [  4.3785991 ,   7.09008618],\n",
       "       [  5.88567158,   8.59255981],\n",
       "       [  9.06504267,   7.98090912]])"
      ]
     },
     "execution_count": 38,
     "metadata": {},
     "output_type": "execute_result"
    }
   ],
   "source": [
    "X"
   ]
  },
  {
   "cell_type": "code",
   "execution_count": 39,
   "metadata": {
    "colab": {
     "base_uri": "https://localhost:8080/",
     "height": 303
    },
    "id": "TjSYaC57XUeq",
    "outputId": "d6088ba2-3ad7-4dff-fd25-aaf5b76e44a8",
    "scrolled": true
   },
   "outputs": [
    {
     "data": {
      "text/plain": [
       "<matplotlib.collections.PathCollection at 0x18260844880>"
      ]
     },
     "execution_count": 39,
     "metadata": {},
     "output_type": "execute_result"
    },
    {
     "data": {
      "image/png": "[encoded data removed]",
      "text/plain": [
       "<Figure size 432x288 with 1 Axes>"
      ]
     },
     "metadata": {
      "needs_background": "light"
     },
     "output_type": "display_data"
    }
   ],
   "source": [
    "plt.scatter(X[:, 0], X[:, 1], cmap='autumn', s=60)"
   ]
  },
  {
   "cell_type": "code",
   "execution_count": 40,
   "metadata": {
    "id": "bWdNYOIqzzO-"
   },
   "outputs": [],
   "source": [
    "# приведем данные к единому масштабу\n",
    "from sklearn.preprocessing import StandardScaler"
   ]
  },
  {
   "cell_type": "code",
   "execution_count": 41,
   "metadata": {
    "id": "NzLJH0GBXGwQ"
   },
   "outputs": [],
   "source": [
    "scaler = StandardScaler()"
   ]
  },
  {
   "cell_type": "markdown",
   "metadata": {},
   "source": [
    "В реальных задачах при разделении выборки на train и test нужно обучать StandardScaler только на тренировочных данных (и применять уже к тестовым данным).\n"
   ]
  },
  {
   "cell_type": "code",
   "execution_count": 42,
   "metadata": {
    "id": "6UC4SNUdXIru"
   },
   "outputs": [
    {
     "data": {
      "text/plain": [
       "array([[-1.38366017e-01,  1.42524794e+00],\n",
       "       [-5.49186524e-01, -1.12410174e+00],\n",
       "       [-1.20325088e+00, -9.13458181e-01],\n",
       "       [-7.47951916e-01, -1.10206029e+00],\n",
       "       [-4.58525519e-01,  6.50363422e-01],\n",
       "       [ 2.37293048e+00,  5.92512630e-01],\n",
       "       [-3.52227061e-01,  7.75682464e-01],\n",
       "       [-5.90196663e-01, -1.26257730e+00],\n",
       "       [ 8.13331424e-02,  1.03112459e+00],\n",
       "       [ 2.97476591e-01, -1.49480195e+00],\n",
       "       [ 1.37804648e+00,  1.14535498e+00],\n",
       "       [ 3.56262034e-01,  1.27514744e+00],\n",
       "       [-1.42507816e+00,  1.08550829e+00],\n",
       "       [-6.41201710e-01,  8.24072830e-01],\n",
       "       [ 5.97655933e-01,  1.01475362e+00],\n",
       "       [-6.46634210e-01, -1.46520634e+00],\n",
       "       [ 8.48628932e-01, -1.07917663e+00],\n",
       "       [ 7.01612145e-01,  6.70619821e-01],\n",
       "       [-3.31288264e-01,  1.26261968e+00],\n",
       "       [ 5.95514928e-01,  4.21200442e-01],\n",
       "       [-4.73863018e-01, -6.11543495e-01],\n",
       "       [-2.27055189e+00, -5.69929926e-01],\n",
       "       [-1.23231023e+00, -7.01943662e-01],\n",
       "       [ 2.68831623e-01, -8.98968119e-01],\n",
       "       [-4.77190896e-01,  9.08566974e-01],\n",
       "       [-4.25306333e-02, -6.57164538e-01],\n",
       "       [-1.44354105e+00, -1.49025661e+00],\n",
       "       [-8.25567055e-01,  1.32983736e+00],\n",
       "       [-6.64127251e-01, -1.19834336e+00],\n",
       "       [-1.45726521e+00,  1.00806623e+00],\n",
       "       [ 3.51906679e-02,  5.99174227e-01],\n",
       "       [ 7.94540956e-01,  7.93572692e-01],\n",
       "       [-2.12574775e-01,  6.04753425e-01],\n",
       "       [ 1.75750144e+00,  1.08880468e+00],\n",
       "       [ 7.51630780e-01,  1.10928076e+00],\n",
       "       [-2.32815717e+00, -1.08418768e+00],\n",
       "       [ 5.06788238e-01,  1.08504898e+00],\n",
       "       [ 1.15873781e+00, -6.23531121e-01],\n",
       "       [-1.60556247e-01,  8.56217462e-01],\n",
       "       [ 9.63458990e-01,  4.03825540e-01],\n",
       "       [-1.31980648e+00,  1.94693051e-01],\n",
       "       [ 1.05568407e+00, -7.90235104e-01],\n",
       "       [-1.23285748e+00, -1.06047479e+00],\n",
       "       [ 1.72970522e+00,  1.32853612e+00],\n",
       "       [-4.62380668e-01, -7.03263154e-01],\n",
       "       [-9.35279224e-01, -8.59810776e-01],\n",
       "       [ 1.06920430e+00, -1.04907624e+00],\n",
       "       [-1.70838239e+00,  5.34189590e-04],\n",
       "       [ 1.16815222e+00, -5.44048996e-01],\n",
       "       [-4.98253680e-01, -9.19788056e-01],\n",
       "       [-5.90147657e-02, -9.63427310e-01],\n",
       "       [-9.19327638e-01, -6.51730112e-01],\n",
       "       [-1.40155578e+00, -3.02800318e-01],\n",
       "       [ 9.77653790e-01,  1.03746021e+00],\n",
       "       [ 1.69434372e-01,  8.19598588e-01],\n",
       "       [ 5.80444052e-01,  1.34592400e+00],\n",
       "       [ 3.46867476e-01,  1.04163529e+00],\n",
       "       [ 8.42103699e-01,  4.21466440e-01],\n",
       "       [-2.10190234e-01, -8.59697702e-01],\n",
       "       [-1.34397161e+00, -1.16037290e+00],\n",
       "       [-1.35720901e+00,  1.26861751e+00],\n",
       "       [ 5.50521932e-01,  9.25160117e-01],\n",
       "       [-1.07988573e+00, -5.78612432e-01],\n",
       "       [ 6.92313180e-01, -1.35232530e+00],\n",
       "       [ 1.01120967e+00,  7.53793832e-01],\n",
       "       [-1.62565035e+00,  6.33802290e-01],\n",
       "       [ 1.63271541e+00,  1.69797615e+00],\n",
       "       [ 8.78087785e-01, -1.40960910e+00],\n",
       "       [ 9.25414064e-01, -9.24369583e-01],\n",
       "       [-5.63015865e-01,  5.89669008e-01],\n",
       "       [ 5.98379166e-01,  1.02550421e+00],\n",
       "       [ 1.00037593e+00,  1.06545274e+00],\n",
       "       [ 8.29696156e-01, -6.47053401e-01],\n",
       "       [ 1.38077276e-01,  1.01489044e+00],\n",
       "       [ 1.19404376e+00,  1.17778609e+00],\n",
       "       [ 1.15014897e+00,  9.94353418e-01],\n",
       "       [-7.85712519e-01, -7.44299133e-01],\n",
       "       [-5.99440405e-02,  1.29656843e+00],\n",
       "       [ 2.16379683e+00, -1.04865018e+00],\n",
       "       [-6.74232464e-01, -8.15877323e-01],\n",
       "       [ 9.24123836e-01,  8.13501165e-01],\n",
       "       [ 1.60817525e-01, -1.21565539e+00],\n",
       "       [-1.67798669e-01, -8.58905548e-01],\n",
       "       [ 1.58633208e-01,  2.55651517e-01],\n",
       "       [ 1.05868082e+00, -7.98725577e-01],\n",
       "       [-2.00780618e+00, -4.34121252e-01],\n",
       "       [-1.08852217e+00,  1.30147119e+00],\n",
       "       [ 2.00150973e-01, -1.19282166e+00],\n",
       "       [ 7.24450873e-01, -1.19578517e+00],\n",
       "       [ 5.54208868e-01,  1.23094478e+00],\n",
       "       [-5.89138133e-01, -9.40575886e-01],\n",
       "       [-7.52657753e-01,  9.05844633e-01],\n",
       "       [-1.28130893e+00, -8.62146585e-01],\n",
       "       [ 1.78596682e-01, -1.12234045e+00],\n",
       "       [ 2.49546826e-01, -1.33422008e+00],\n",
       "       [ 4.64204368e-01, -8.10507358e-01],\n",
       "       [ 1.34037057e+00,  9.47986579e-01],\n",
       "       [ 1.00426221e+00, -9.40881901e-01],\n",
       "       [-4.10007586e-01,  6.33342557e-01],\n",
       "       [ 1.74733695e+00,  7.32508883e-01],\n",
       "       [ 6.40340972e-01,  8.94590035e-01],\n",
       "       [-1.42552715e+00, -6.62597391e-01],\n",
       "       [ 7.68289373e-01,  1.15936528e+00],\n",
       "       [ 1.55118432e-01,  9.43067937e-01],\n",
       "       [ 8.38049495e-01, -1.02487481e+00],\n",
       "       [-9.37866782e-01,  9.18729976e-01],\n",
       "       [-6.37574241e-01, -6.91788508e-01],\n",
       "       [-1.35902829e-01, -1.29983153e+00],\n",
       "       [ 2.41917644e-01, -1.19887837e+00],\n",
       "       [-2.10519742e+00, -7.05002612e-01],\n",
       "       [ 7.92683007e-01, -1.28398527e+00],\n",
       "       [-1.81995690e+00,  1.21345050e+00],\n",
       "       [-4.64263840e-01,  1.11481086e+00],\n",
       "       [-5.47394226e-01,  6.87755026e-01],\n",
       "       [-1.04152006e+00,  5.39626186e-01],\n",
       "       [-1.35140104e+00, -1.03289256e+00],\n",
       "       [ 4.17460854e-01,  1.22562709e+00],\n",
       "       [ 3.57129189e-01,  1.43700903e+00],\n",
       "       [-8.24923429e-01, -7.33455734e-01],\n",
       "       [-1.38373540e+00, -3.42466956e-01],\n",
       "       [-1.49320744e+00, -9.74267576e-01],\n",
       "       [ 9.59325611e-01, -1.15308934e+00],\n",
       "       [ 1.31338495e+00,  1.05139580e+00],\n",
       "       [ 6.64520270e-01,  7.16877966e-01],\n",
       "       [-5.91232121e-01, -9.73322540e-01],\n",
       "       [-8.75737247e-01, -9.95746282e-01],\n",
       "       [ 5.54248876e-01,  8.61065115e-01],\n",
       "       [-5.79814558e-01, -1.34639428e+00],\n",
       "       [ 1.32828536e+00, -9.25615615e-01],\n",
       "       [ 7.51516213e-01,  8.99855178e-01],\n",
       "       [ 1.38989394e-01, -7.06083873e-01],\n",
       "       [ 5.33269683e-01,  1.21386489e+00],\n",
       "       [ 1.05540201e+00,  1.30611570e+00],\n",
       "       [ 2.18116028e-01,  1.05574091e+00],\n",
       "       [-1.06618648e+00, -8.81707475e-01],\n",
       "       [ 5.28675900e-01,  7.02439564e-01],\n",
       "       [-1.60047440e+00, -1.36306197e+00],\n",
       "       [ 2.48607982e+00, -6.83465196e-01],\n",
       "       [ 6.19652729e-01,  9.53805918e-01],\n",
       "       [ 4.36448968e-01, -1.15196889e+00],\n",
       "       [ 6.21846072e-01, -1.24902670e+00],\n",
       "       [ 1.17922611e+00,  9.31413276e-01],\n",
       "       [-5.03332635e-01,  8.19642124e-01],\n",
       "       [-9.27982206e-01, -8.64022802e-01],\n",
       "       [ 6.06565133e-01,  1.03668429e+00],\n",
       "       [-8.52016218e-01, -1.14354310e+00],\n",
       "       [ 1.91957938e+00,  9.63525992e-01],\n",
       "       [ 6.19274115e-01, -1.49484129e+00],\n",
       "       [-9.30170979e-01, -1.40195067e+00],\n",
       "       [-7.00912127e-01,  1.12760230e+00],\n",
       "       [-6.34806250e-01,  9.68269183e-01],\n",
       "       [-1.43513883e+00, -8.43759423e-01],\n",
       "       [-1.48617653e-01,  1.12898214e+00],\n",
       "       [-6.71365169e-01,  7.07876598e-01],\n",
       "       [-1.29573076e+00, -5.81552321e-01],\n",
       "       [ 1.98842272e+00,  9.44764463e-01],\n",
       "       [-6.03487796e-01, -1.04429461e+00],\n",
       "       [-1.20649163e-01, -8.18032572e-01],\n",
       "       [ 9.53844025e-01, -1.14308591e+00],\n",
       "       [-9.90616208e-01, -7.48425829e-01],\n",
       "       [-1.47270579e+00,  1.41203039e+00],\n",
       "       [-1.80283425e-01, -7.87636727e-01],\n",
       "       [ 4.99290366e-01,  1.36080530e+00],\n",
       "       [ 1.79322990e-01,  8.27402720e-01],\n",
       "       [ 9.47741475e-01, -7.71294057e-01],\n",
       "       [ 7.24560293e-01, -1.12814330e+00],\n",
       "       [-1.21911718e+00, -8.19330497e-01],\n",
       "       [-1.14976426e+00, -1.08446363e+00],\n",
       "       [-2.24393658e+00, -8.61894330e-01],\n",
       "       [-1.84694804e-01,  9.66648192e-01],\n",
       "       [-2.26163537e-01, -9.11615514e-01],\n",
       "       [ 5.18868324e-01, -1.23888360e+00],\n",
       "       [-1.56073141e-01, -8.75402855e-01],\n",
       "       [-1.89348265e+00, -7.58879409e-01],\n",
       "       [ 6.08540604e-01,  1.17159660e+00],\n",
       "       [ 7.36690200e-01, -7.53408722e-01],\n",
       "       [ 6.87182769e-01,  9.19299244e-01],\n",
       "       [-1.24424249e+00, -4.39787161e-01],\n",
       "       [-1.17806185e+00, -1.56960927e+00],\n",
       "       [-2.30704981e-01, -1.05683953e+00],\n",
       "       [ 1.51341939e-01, -1.09356409e+00],\n",
       "       [-1.98018610e-01,  1.20175009e+00],\n",
       "       [ 1.03096453e-01,  1.27040667e+00],\n",
       "       [-2.19713270e-01,  1.05353896e+00],\n",
       "       [ 1.98195808e+00,  5.84869060e-01],\n",
       "       [ 1.01552469e-01, -1.26367551e+00],\n",
       "       [ 1.42917151e-01,  1.59056595e+00],\n",
       "       [-2.36611355e-01,  8.18857248e-01],\n",
       "       [ 6.66271761e-01, -5.06012977e-01],\n",
       "       [ 7.08789839e-01,  8.86190103e-01],\n",
       "       [ 1.74464971e+00,  1.27959918e+00],\n",
       "       [ 1.31083385e+00, -1.09470239e+00],\n",
       "       [-9.41166532e-01,  7.69943042e-01],\n",
       "       [ 9.30938437e-01,  9.82480951e-01],\n",
       "       [ 1.02847867e+00, -1.12493395e+00],\n",
       "       [ 8.54438418e-01,  1.34098208e+00],\n",
       "       [-4.45144215e-01, -8.91161506e-01],\n",
       "       [-1.97490302e-01,  7.41603278e-01],\n",
       "       [ 4.50856624e-01,  9.06065092e-01],\n",
       "       [ 1.81863124e+00,  8.39113380e-01]])"
      ]
     },
     "execution_count": 42,
     "metadata": {},
     "output_type": "execute_result"
    }
   ],
   "source": [
    "# fit-transform сразу обучается и преобразует данные\n",
    "X_scaled = scaler.fit_transform(X)\n",
    "X_scaled"
   ]
  },
  {
   "cell_type": "code",
   "execution_count": 43,
   "metadata": {
    "colab": {
     "base_uri": "https://localhost:8080/",
     "height": 304
    },
    "id": "TRnNnC3kXbcr",
    "outputId": "841e1554-c362-4528-c92a-e6c32dd57034"
   },
   "outputs": [
    {
     "data": {
      "text/plain": [
       "<matplotlib.collections.PathCollection at 0x182608a9520>"
      ]
     },
     "execution_count": 43,
     "metadata": {},
     "output_type": "execute_result"
    },
    {
     "data": {
      "image/png": "[encoded data removed]",
      "text/plain": [
       "<Figure size 432x288 with 1 Axes>"
      ]
     },
     "metadata": {
      "needs_background": "light"
     },
     "output_type": "display_data"
    }
   ],
   "source": [
    "plt.scatter(X_scaled[:, 0], X_scaled[:, 1],cmap='autumn', s=60)"
   ]
  },
  {
   "cell_type": "code",
   "execution_count": 44,
   "metadata": {
    "id": "XftqUwUlYLIj"
   },
   "outputs": [],
   "source": [
    "from sklearn.cluster import KMeans"
   ]
  },
  {
   "cell_type": "code",
   "execution_count": 57,
   "metadata": {
    "colab": {
     "base_uri": "https://localhost:8080/",
     "height": 213
    },
    "id": "7PkhGAB-YN1C",
    "outputId": "443f3bc6-6768-44ec-a167-a4f535a10366"
   },
   "outputs": [
    {
     "data": {
      "text/plain": [
       "array([1, 0, 0, 0, 1, 1, 1, 0, 1, 0, 1, 1, 1, 1, 1, 0, 0, 1, 1, 1, 0, 0,\n",
       "       0, 0, 1, 0, 0, 1, 0, 1, 1, 1, 1, 1, 1, 0, 1, 0, 1, 1, 0, 0, 0, 1,\n",
       "       0, 0, 0, 0, 0, 0, 0, 0, 0, 1, 1, 1, 1, 1, 0, 0, 1, 1, 0, 0, 1, 1,\n",
       "       1, 0, 0, 1, 1, 1, 0, 1, 1, 1, 0, 1, 0, 0, 1, 0, 0, 1, 0, 0, 1, 0,\n",
       "       0, 1, 0, 1, 0, 0, 0, 0, 1, 0, 1, 1, 1, 0, 1, 1, 0, 1, 0, 0, 0, 0,\n",
       "       0, 1, 1, 1, 1, 0, 1, 1, 0, 0, 0, 0, 1, 1, 0, 0, 1, 0, 0, 1, 0, 1,\n",
       "       1, 1, 0, 1, 0, 1, 1, 0, 0, 1, 1, 0, 1, 0, 1, 0, 0, 1, 1, 0, 1, 1,\n",
       "       0, 1, 0, 0, 0, 0, 1, 0, 1, 1, 0, 0, 0, 0, 0, 1, 0, 0, 0, 0, 1, 0,\n",
       "       1, 0, 0, 0, 0, 1, 1, 1, 1, 0, 1, 1, 0, 1, 1, 0, 1, 1, 0, 1, 0, 1,\n",
       "       1, 1])"
      ]
     },
     "execution_count": 57,
     "metadata": {},
     "output_type": "execute_result"
    }
   ],
   "source": [
    "# явно указываем количество кластеров\n",
    "kmeans = KMeans(n_clusters=2)\n",
    "# fit_predict обучается на данных и каждому объекту присваивает кластер\n",
    "clusters = kmeans.fit_predict(X_scaled)\n",
    "clusters"
   ]
  },
  {
   "cell_type": "code",
   "execution_count": 58,
   "metadata": {
    "colab": {
     "base_uri": "https://localhost:8080/",
     "height": 304
    },
    "id": "EIhtpQU4YXiR",
    "outputId": "8b3fdd98-c53f-4afe-d853-504bbcbf4315"
   },
   "outputs": [
    {
     "data": {
      "text/plain": [
       "<matplotlib.collections.PathCollection at 0x18261cd7310>"
      ]
     },
     "execution_count": 58,
     "metadata": {},
     "output_type": "execute_result"
    },
    {
     "data": {
      "image/png": "[encoded data removed]",
      "text/plain": [
       "<Figure size 432x288 with 1 Axes>"
      ]
     },
     "metadata": {
      "needs_background": "light"
     },
     "output_type": "display_data"
    }
   ],
   "source": [
    "plt.scatter(X_scaled[:, 0], X_scaled[:, 1], cmap='autumn', c=clusters, s=60)"
   ]
  },
  {
   "cell_type": "code",
   "execution_count": 59,
   "metadata": {
    "id": "JakzZ_1WYbgI"
   },
   "outputs": [
    {
     "name": "stderr",
     "output_type": "stream",
     "text": [
      "C:\\Users\\PC\\AppData\\Roaming\\Python\\Python38\\site-packages\\sklearn\\cluster\\_kmeans.py:881: UserWarning: KMeans is known to have a memory leak on Windows with MKL, when there are less chunks than available threads. You can avoid it by setting the environment variable OMP_NUM_THREADS=1.\n",
      "  warnings.warn(\n"
     ]
    }
   ],
   "source": [
    "# строим график локтя\n",
    "\n",
    "# создаем список для инерции\n",
    "k_inertia = []\n",
    "# задаем диапазон кластеров\n",
    "ks = range(1, 20)\n",
    "\n",
    "for k in ks:\n",
    "    clf_kmeans = KMeans(n_clusters=k)\n",
    "    clusters_kmeans = clf_kmeans.fit_predict(X_scaled)\n",
    "    # добавляем инерцию каждой модели в список\n",
    "    k_inertia.append(clf_kmeans.inertia_)"
   ]
  },
  {
   "cell_type": "code",
   "execution_count": 60,
   "metadata": {
    "colab": {
     "base_uri": "https://localhost:8080/",
     "height": 303
    },
    "id": "BL2K84DOYzQp",
    "outputId": "02019f5b-36bd-4dc6-df76-d5a4fcebfcea"
   },
   "outputs": [
    {
     "data": {
      "text/plain": [
       "[<matplotlib.lines.Line2D at 0x18261d2ca00>]"
      ]
     },
     "execution_count": 60,
     "metadata": {},
     "output_type": "execute_result"
    },
    {
     "data": {
      "image/png": "[encoded data removed]",
      "text/plain": [
       "<Figure size 432x288 with 1 Axes>"
      ]
     },
     "metadata": {
      "needs_background": "light"
     },
     "output_type": "display_data"
    }
   ],
   "source": [
    "plt.plot(ks, k_inertia)\n",
    "plt.plot(ks, k_inertia ,'ro')"
   ]
  },
  {
   "cell_type": "markdown",
   "metadata": {},
   "source": [
    "Иерархическая кластеризация"
   ]
  },
  {
   "cell_type": "code",
   "execution_count": 61,
   "metadata": {
    "id": "wGWt37snY1ak"
   },
   "outputs": [],
   "source": [
    "from scipy.spatial.distance import pdist\n",
    "from scipy.cluster import hierarchy"
   ]
  },
  {
   "cell_type": "code",
   "execution_count": 64,
   "metadata": {
    "colab": {
     "base_uri": "https://localhost:8080/",
     "height": 419
    },
    "id": "UL2QOOH_Y8vL",
    "outputId": "128d6635-2497-4aca-b0a3-eef8faf29cd5"
   },
   "outputs": [
    {
     "data": {
      "image/png": "[encoded data removed]",
      "text/plain": [
       "<Figure size 1440x648 with 1 Axes>"
      ]
     },
     "metadata": {
      "needs_background": "light"
     },
     "output_type": "display_data"
    }
   ],
   "source": [
    "# строим дендрограмму\n",
    "distance_mat = pdist(X_scaled) # pdist посчитает нам матрицу попарных расстояний между точками\n",
    "# Z = hierarchy.linkage(distance_mat) # linkage — реализация агломеративного алгоритма\n",
    "Z = hierarchy.linkage(distance_mat, 'ward')\n",
    "plt.figure(figsize=(20, 9))\n",
    "dn = hierarchy.dendrogram(Z)"
   ]
  },
  {
   "cell_type": "code",
   "execution_count": 65,
   "metadata": {
    "id": "K_0ejaBzZBIv"
   },
   "outputs": [],
   "source": [
    "# делаем уже кластеризацию по факту\n",
    "from sklearn.cluster import AgglomerativeClustering"
   ]
  },
  {
   "cell_type": "code",
   "execution_count": 72,
   "metadata": {
    "colab": {
     "base_uri": "https://localhost:8080/",
     "height": 213
    },
    "id": "wjEgXrmpZVrY",
    "outputId": "74b5fccd-49ed-43e1-d1e6-aa50449bc4b7"
   },
   "outputs": [
    {
     "data": {
      "text/plain": [
       "array([1, 0, 0, 0, 1, 1, 1, 0, 1, 0, 1, 1, 1, 1, 1, 0, 0, 1, 1, 1, 0, 0,\n",
       "       0, 0, 1, 0, 0, 1, 0, 1, 1, 1, 1, 1, 1, 0, 1, 0, 1, 1, 1, 0, 0, 1,\n",
       "       0, 0, 0, 1, 0, 0, 0, 0, 0, 1, 1, 1, 1, 1, 0, 0, 1, 1, 0, 0, 1, 1,\n",
       "       1, 0, 0, 1, 1, 1, 0, 1, 1, 1, 0, 1, 0, 0, 1, 0, 0, 1, 0, 0, 1, 0,\n",
       "       0, 1, 0, 1, 0, 0, 0, 0, 1, 0, 1, 1, 1, 0, 1, 1, 0, 1, 0, 0, 0, 0,\n",
       "       0, 1, 1, 1, 1, 0, 1, 1, 0, 0, 0, 0, 1, 1, 0, 0, 1, 0, 0, 1, 0, 1,\n",
       "       1, 1, 0, 1, 0, 0, 1, 0, 0, 1, 1, 0, 1, 0, 1, 0, 0, 1, 1, 0, 1, 1,\n",
       "       0, 1, 0, 0, 0, 0, 1, 0, 1, 1, 0, 0, 0, 0, 0, 1, 0, 0, 0, 0, 1, 0,\n",
       "       1, 0, 0, 0, 0, 1, 1, 1, 1, 0, 1, 1, 0, 1, 1, 0, 1, 1, 0, 1, 0, 1,\n",
       "       1, 1], dtype=int64)"
      ]
     },
     "execution_count": 72,
     "metadata": {},
     "output_type": "execute_result"
    }
   ],
   "source": [
    "aglo = AgglomerativeClustering(n_clusters=2)\n",
    "clusters = aglo.fit_predict(X_scaled)\n",
    "clusters"
   ]
  },
  {
   "cell_type": "code",
   "execution_count": 73,
   "metadata": {
    "colab": {
     "base_uri": "https://localhost:8080/",
     "height": 304
    },
    "id": "Us0SDSD1ZtX7",
    "outputId": "1a822df2-0e99-4b3c-84c2-4e95bbf0f775"
   },
   "outputs": [
    {
     "data": {
      "text/plain": [
       "<matplotlib.collections.PathCollection at 0x182625e2d60>"
      ]
     },
     "execution_count": 73,
     "metadata": {},
     "output_type": "execute_result"
    },
    {
     "data": {
      "image/png": "[encoded data removed]",
      "text/plain": [
       "<Figure size 432x288 with 1 Axes>"
      ]
     },
     "metadata": {
      "needs_background": "light"
     },
     "output_type": "display_data"
    }
   ],
   "source": [
    "plt.scatter(X_scaled[:, 0], X_scaled[:, 1],cmap='autumn', c=clusters, s=60)"
   ]
  },
  {
   "cell_type": "code",
   "execution_count": 74,
   "metadata": {
    "id": "tPUIlJOaZv5J"
   },
   "outputs": [
    {
     "data": {
      "text/html": [
       "<div>\n",
       "<style scoped>\n",
       "    .dataframe tbody tr th:only-of-type {\n",
       "        vertical-align: middle;\n",
       "    }\n",
       "\n",
       "    .dataframe tbody tr th {\n",
       "        vertical-align: top;\n",
       "    }\n",
       "\n",
       "    .dataframe thead th {\n",
       "        text-align: right;\n",
       "    }\n",
       "</style>\n",
       "<table border=\"1\" class=\"dataframe\">\n",
       "  <thead>\n",
       "    <tr style=\"text-align: right;\">\n",
       "      <th></th>\n",
       "      <th>0</th>\n",
       "      <th>1</th>\n",
       "      <th>y_hat</th>\n",
       "    </tr>\n",
       "  </thead>\n",
       "  <tbody>\n",
       "    <tr>\n",
       "      <th>0</th>\n",
       "      <td>4.516033</td>\n",
       "      <td>13.335658</td>\n",
       "      <td>1</td>\n",
       "    </tr>\n",
       "    <tr>\n",
       "      <th>1</th>\n",
       "      <td>3.561087</td>\n",
       "      <td>-9.954433</td>\n",
       "      <td>0</td>\n",
       "    </tr>\n",
       "    <tr>\n",
       "      <th>2</th>\n",
       "      <td>2.040724</td>\n",
       "      <td>-8.030057</td>\n",
       "      <td>0</td>\n",
       "    </tr>\n",
       "    <tr>\n",
       "      <th>3</th>\n",
       "      <td>3.099060</td>\n",
       "      <td>-9.753069</td>\n",
       "      <td>0</td>\n",
       "    </tr>\n",
       "    <tr>\n",
       "      <th>4</th>\n",
       "      <td>3.771827</td>\n",
       "      <td>6.256546</td>\n",
       "      <td>1</td>\n",
       "    </tr>\n",
       "    <tr>\n",
       "      <th>...</th>\n",
       "      <td>...</td>\n",
       "      <td>...</td>\n",
       "      <td>...</td>\n",
       "    </tr>\n",
       "    <tr>\n",
       "      <th>195</th>\n",
       "      <td>6.823791</td>\n",
       "      <td>12.565830</td>\n",
       "      <td>1</td>\n",
       "    </tr>\n",
       "    <tr>\n",
       "      <th>196</th>\n",
       "      <td>3.802931</td>\n",
       "      <td>-7.826361</td>\n",
       "      <td>0</td>\n",
       "    </tr>\n",
       "    <tr>\n",
       "      <th>197</th>\n",
       "      <td>4.378599</td>\n",
       "      <td>7.090086</td>\n",
       "      <td>1</td>\n",
       "    </tr>\n",
       "    <tr>\n",
       "      <th>198</th>\n",
       "      <td>5.885672</td>\n",
       "      <td>8.592560</td>\n",
       "      <td>1</td>\n",
       "    </tr>\n",
       "    <tr>\n",
       "      <th>199</th>\n",
       "      <td>9.065043</td>\n",
       "      <td>7.980909</td>\n",
       "      <td>1</td>\n",
       "    </tr>\n",
       "  </tbody>\n",
       "</table>\n",
       "<p>200 rows × 3 columns</p>\n",
       "</div>"
      ],
      "text/plain": [
       "            0          1  y_hat\n",
       "0    4.516033  13.335658      1\n",
       "1    3.561087  -9.954433      0\n",
       "2    2.040724  -8.030057      0\n",
       "3    3.099060  -9.753069      0\n",
       "4    3.771827   6.256546      1\n",
       "..        ...        ...    ...\n",
       "195  6.823791  12.565830      1\n",
       "196  3.802931  -7.826361      0\n",
       "197  4.378599   7.090086      1\n",
       "198  5.885672   8.592560      1\n",
       "199  9.065043   7.980909      1\n",
       "\n",
       "[200 rows x 3 columns]"
      ]
     },
     "execution_count": 74,
     "metadata": {},
     "output_type": "execute_result"
    }
   ],
   "source": [
    "  "
   ]
  },
  {
   "cell_type": "code",
   "execution_count": null,
   "metadata": {},
   "outputs": [],
   "source": []
  },
  {
   "cell_type": "code",
   "execution_count": null,
   "metadata": {},
   "outputs": [],
   "source": []
  }
 ],
 "metadata": {
  "colab": {
   "collapsed_sections": [],
   "name": "Лекция 5.ipynb",
   "provenance": []
  },
  "kernelspec": {
   "display_name": "Python 3",
   "language": "python",
   "name": "python3"
  },
  "language_info": {
   "codemirror_mode": {
    "name": "ipython",
    "version": 3
   },
   "file_extension": ".py",
   "mimetype": "text/x-python",
   "name": "python",
   "nbconvert_exporter": "python",
   "pygments_lexer": "ipython3",
   "version": "3.8.5"
  }
 },
 "nbformat": 4,
 "nbformat_minor": 1
}
