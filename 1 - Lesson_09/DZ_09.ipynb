{
 "cells": [
  {
   "cell_type": "markdown",
   "metadata": {},
   "source": [
    "# Домашнее задание\n",
    "\n",
    "1. Переведите содержимое файла purchase_log.txt в словарь purchases вида:\n",
    "{‘1840e0b9d4’: ‘Продукты’, …}\n",
    "\n",
    "2. Для каждого user_id в файле visit_log.csv определите третий столбец с категорией покупки (если покупка была, сам файл visit_log.csv изменять не надо). Запишите в файл funnel.csv визиты из файла visit_log.csv, в которых были покупки с указанием категории.\n",
    "\n",
    "Учтите условия на данные:\n",
    "\n",
    "содержимое purchase_log.txt помещается в оперативную память компьютера\n",
    "\n",
    "содержимое visit_log.csv - нет; используйте только построчную обработку этого файла"
   ]
  },
  {
   "cell_type": "code",
   "execution_count": 5,
   "metadata": {},
   "outputs": [],
   "source": [
    "#  Задание 1\n",
    "# содержимое purchase_log.txt помещается в оперативную память компьютера\n",
    "import os\n",
    "os.chdir('D:\\\\netology\\\\pyda-19\\\\Lesson_09\\\\')"
   ]
  },
  {
   "cell_type": "code",
   "execution_count": 1,
   "metadata": {},
   "outputs": [
    {
     "name": "stdout",
     "output_type": "stream",
     "text": [
      "1840e0b9d4 Продукты\n",
      "4e4f90fcfb Электроника\n",
      "afea8d72fc Электроника\n",
      "373a6055fe Бытовая техника\n",
      "9b2ab046f3 Электроника\n",
      "99517\n",
      "100000\n"
     ]
    }
   ],
   "source": [
    "import json\n",
    "file = open('purchase_log.txt', 'r', encoding='utf-8')\n",
    "spisok = file.readlines()\n",
    "file.close()\n",
    "purchases = {}\n",
    "for line in spisok[1:]:\n",
    "    purchases[json.loads(line)['user_id']] = json.loads(line)['category'] # собираем словарь\n",
    "i = 0\n",
    "for key, value in purchases.items():\n",
    "    print(key, value)\n",
    "    i += 1\n",
    "    if i == 5:\n",
    "        break\n",
    "print(len(purchases))\n",
    "print(len(spisok))"
   ]
  },
  {
   "cell_type": "markdown",
   "metadata": {},
   "source": [
    "Задание 2\n",
    "Для каждого user_id в файле visit_log.csv определите третий столбец с категорией покупки (если покупка была, сам файл visit_log.csv изменять не надо). Запишите в файл funnel.csv визиты из файла visit_log.csv, в которых были покупки с указанием категории.\n",
    "\n",
    "Учтите условия на данные:\n",
    "\n",
    "содержимое purchase_log.txt помещается в оперативную память компьютера\n",
    "\n",
    "содержимое visit_log.csv - нет; используйте только построчную обработку этого файла"
   ]
  },
  {
   "cell_type": "code",
   "execution_count": 4,
   "metadata": {},
   "outputs": [
    {
     "data": {
      "text/plain": [
       "True"
      ]
     },
     "execution_count": 4,
     "metadata": {},
     "output_type": "execute_result"
    }
   ],
   "source": [
    "import json\n",
    "file = open('purchase_log.txt', 'r', encoding='utf-8')\n",
    "purchases = {}\n",
    "for line in file.readlines()[1:]:\n",
    "    purchases[json.loads(line)['user_id']] = json.loads(line)['category'] # собираем словарь\n",
    "file.close()\n",
    "\n",
    "file_vizit = open('visit_log.csv', 'r')\n",
    "visit_log = []\n",
    "for line in file_vizit:\n",
    "    if line.strip().split(',')[0] in purchases.keys():\n",
    "        visit_log.append(line.strip().split(',')) # оставляем пользователей с визитами и с категориями\n",
    "file_vizit.close()\n",
    "\n",
    "file_funnel = open('funnel.csv', 'w')\n",
    "for key, value in purchases.items():\n",
    "    for lin in visit_log:\n",
    "        if key == lin[0]:\n",
    "            file_funnel.write(lin[0]+','+lin[1]+','+value+'\\n')\n",
    "file_funnel.close()\n",
    "file_funnel.closed"
   ]
  }
 ],
 "metadata": {
  "kernelspec": {
   "display_name": "Python 3",
   "language": "python",
   "name": "python3"
  },
  "language_info": {
   "codemirror_mode": {
    "name": "ipython",
    "version": 3
   },
   "file_extension": ".py",
   "mimetype": "text/x-python",
   "name": "python",
   "nbconvert_exporter": "python",
   "pygments_lexer": "ipython3",
   "version": "3.8.5"
  }
 },
 "nbformat": 4,
 "nbformat_minor": 4
}
