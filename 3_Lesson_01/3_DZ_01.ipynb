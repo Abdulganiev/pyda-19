{
 "cells": [
  {
   "cell_type": "markdown",
   "metadata": {},
   "source": [
    "# Домашнее задание к лекции \"Базовые понятия статистики\""
   ]
  },
  {
   "cell_type": "markdown",
   "metadata": {},
   "source": [
    "Будем осуществлять работу с непростым [набором данных](https://raw.githubusercontent.com/obulygin/pyda_homeworks/master/statistics_basics/horse_data.csv) о состоянии здоровья лошадей, испытывающих кишечные колики. Цель – максимально корректно заполнить пропуски."
   ]
  },
  {
   "cell_type": "code",
   "execution_count": 359,
   "metadata": {},
   "outputs": [],
   "source": [
    "import pandas as pd"
   ]
  },
  {
   "cell_type": "markdown",
   "metadata": {},
   "source": [
    "### Задание 1. Загрузка данных\n",
    "\n",
    "Изучить представленный набор данных на основе [описания его столбцов](https://raw.githubusercontent.com/obulygin/pyda_homeworks/master/statistics_basics/horse_data.names), загрузить его и оставить 8 столбцов для дальнейшего изучения: `surgery?`, `Age`, `rectal temperature`, `pulse`, `respiratory rate`, `temperature of extremities`, `pain`, `outcome`. "
   ]
  },
  {
   "cell_type": "code",
   "execution_count": 360,
   "metadata": {},
   "outputs": [],
   "source": [
    "na_values = ['?']\n",
    "horse = pd.read_csv(r'horse_data.csv', header=None, na_values=na_values)\n",
    "\n",
    "# surgery? - хирург.операция? - имеет один пропуск, зависит от 12\n",
    "horse[0].fillna(horse.groupby([12])[0].transform('median'), inplace=True)"
   ]
  },
  {
   "cell_type": "code",
   "execution_count": 361,
   "metadata": {},
   "outputs": [],
   "source": [
    "horse_v2 = horse.copy(deep=True) # делаем клон\n",
    "horse_v2.drop([2,7,8,9,11,12,13,14,15,16,17,18,19,20,21,23,24,25,26,27], axis=1, inplace=True) # удаляем лишнии столбцы\n",
    "horse_v2.rename(columns={0: 'surgery?', 1: 'Age', 3: 'rectal_temperature', 4: 'pulse', \n",
    "                         5: 'respiratory_rate', 6: 'temperature_of_extremities', 10: 'pain', \n",
    "                         22: 'outcome'}, inplace=True)"
   ]
  },
  {
   "cell_type": "raw",
   "metadata": {},
   "source": [
    " 0 - операция - surgery? - 1/2, Да/Нет. Есть один пропуск.\n",
    " 1 - Возраст - Age: 1 = Взрослая лошадь, 2 = Молодые (< 6 месяцев). Имеет выброс виде 9, заменить на ??? \n",
    " 2 - Номер больницы: \n",
    "    - числовой идентификатор\n",
    "    - номер дела, присвоенный лошади\n",
    "    (не может быть уникальным, если лошадь лечится > 1 раз)\n",
    "    Пропусков нет. Данный столбец нам не нужен.\n",
    " 3 - ректальная температура - rectal temperature\n",
    "    - линейный\n",
    "    - в градусах Цельсия.\n",
    "    - Повышенная температура может возникнуть из-за инфекции.\n",
    "    - температура может быть снижена, когда животное находится в состоянии позднего шока\n",
    "    - нормальная температура составляет 37,8\n",
    "    - этот параметр обычно изменяется по мере развития проблемы, например, может начаться нормально, а затем стать повышенным из\n",
    "    - за поражения, возвращаясь к нормальному диапазону, когда лошадь впадает в шок\n",
    " 4 - пульс - pulse\n",
    "    - линейный\n",
    "    - частота сердечных сокращений в ударах в минуту\n",
    "    - является отражением состояния сердца: 30 -40-это нормально для взрослых\n",
    "    - редко, чтобы иметь более низкую, чем обычно, скорость, хотя спортивные лошади может иметь скорость 20-25\n",
    "    - животные с болезненными поражениями или страдающие от шока кровообращения могут иметь повышенную частоту сердечных сокращений\n",
    " 5 - частота дыхания - respiratory rate\n",
    "    - линейный\n",
    "    - нормальная скорость составляет от 8 до 10\n",
    "    - полезность сомнительна из-за больших колебаний\n",
    " 6 - температура конечностей - temperature of extremities\n",
    "    - субъективный признак периферического кровообращения\n",
    "    - возможные значения:\n",
    "        1 = Нормальный\n",
    "        2 = Тепло\n",
    "        3 = Круто\n",
    "        4 = Холодные\n",
    "    - холодные до холодных конечностей указывают на возможный шок\n",
    "    - горячие конечности должны коррелировать с повышенной ректальной температурой.\n",
    " 7 - периферический импульс - не надо\n",
    " 8 - слизистые оболочки - не надо\n",
    " 9 - время пополнения капилляров - не надо\n",
    " 10 - боль - субъективное суждение об уровне боли лошади - pain\n",
    "    - возможные значения:\n",
    "        1 = тревога, нет боли\n",
    "        2 = депрессия\n",
    "        3 = прерывистая легкая боль\n",
    "        4 = прерывистая сильная боль\n",
    "        5 = непрерывная сильная боль\n",
    "    - не следует рассматривать как упорядоченную или дискретную переменную!\n",
    "    - В общем, чем больнее, тем больше вероятность того, что это потребуется хирургия\n",
    "    - предварительное лечение боли может в некоторой степени маскировать уровень боли\n",
    "11: перистальтика\n",
    "    - признак активности в кишечнике лошади. Как кишечник становится более растянутым или лошадь становится более токсичной, активность снижается\n",
    "    - возможные значения:\n",
    "        1 = гипермотивация\n",
    "        2 = нормальный\n",
    "        3 = гипомотиль\n",
    "        4 = отсутствует\n",
    "12: вздутие живота\n",
    "    - ВАЖНЫЙ параметр.\n",
    "    - возможные значения\n",
    "        1 = нет\n",
    "        2 = незначительно\n",
    "        3 = умеренный\n",
    "        4 = тяжелый\n",
    "    - животное с вздутием живота, вероятно, будет болезненным и будет иметь пониженную моторику кишечника.\n",
    "    - лошадь с сильным вздутием живота, вероятно, потребует хирургия просто тио снимет давление\n",
    "13: назогастральная трубка\n",
    "    - это относится к любому газу, выходящему из трубки\n",
    "    - возможные значения:\n",
    "        1 = нет\n",
    "        2 = незначительно\n",
    "        3 = значительный\n",
    "    - большой газовый колпачок в желудке, скорее всего, даст лошади дискомфорт\n",
    "14: назогастральный рефлюкс\n",
    "    - возможные значения\n",
    "        1 = нет\n",
    "        2 = > 1 литр\n",
    "        3 = < 1 литр\n",
    "    - чем больше количество рефлюкса, тем больше вероятность того, что есть некоторые серьезные препятствия для прохождения жидкости из остальной части кишечника\n",
    "15: назогастральный рефлюкс PH\n",
    "    - линейный\n",
    "    - шкала от 0 до 14, при этом 7 являются нейтральными\n",
    "    - нормальные значения находятся в диапазоне от 3 до 4\n",
    "16: ректальное исследование - кал\n",
    "    - возможные значения\n",
    "        1 = нормальный\n",
    "        2 = увеличено\n",
    "        3 = уменьшено\n",
    "        4 = отсутствует\n",
    "    - отсутствие кала, вероятно, указывает на непроходимость\n",
    "17: живот\n",
    "    - возможные значения\n",
    "        1 = нормальный\n",
    "        2 = другое\n",
    "        3 = твердый кал в толстой кишке\n",
    "        4 = растянутая тонкая кишка\n",
    "        5 = растянутая толстая кишка\n",
    "    - 3, вероятно, является препятствием, вызванным механическим ударом и обычно лечится с медицинской точки зрения\n",
    "    - 4 и 5 указывают на хирургическое поражение\n",
    "18: объем упакованной ячейки\n",
    "    - линейный\n",
    "    - количество эритроцитов по объему в крови\n",
    "    - нормальный диапазон-от 30 до 50. Уровень повышается по мере циркуляции становится скомпрометированным или по мере обезвоживания животного.\n",
    "19: общий белок\n",
    "    - линейный\n",
    "    - нормальные значения лежат в диапазоне 6-7, 5 (gms/dL)\n",
    "    - чем выше значение, тем больше обезвоживание\n",
    "20: внешний вид абдоминоцентеза\n",
    "    - в брюшную полость лошади вводят иглу и получают жидкость из брюшная полость\n",
    "    - возможные значения:\n",
    "        1 = очистить\n",
    "        2 = облачно\n",
    "        3 = серозно-кровный\n",
    "    - нормальная жидкость прозрачная, в то время как мутная или серозная указывает на скомпрометированная кишка\n",
    "21: абдоминоцентез общий белок\n",
    "    - линейный\n",
    "    - чем выше уровень белка, тем больше вероятность того, что у него нарушена работа кишечника. Значения указаны в gms/dL \n",
    "22 - исход - outcome\n",
    "    - а что в конце концов случилось с лошадью?\n",
    "    - возможные значения:\n",
    "        1 = жил\n",
    "        2 = умер\n",
    "        3 = был подвергнут эвтаназии\n",
    "23: хирургическое повреждение?\n",
    "    - ретроспективно, была ли проблема (повреждение) хирургической?\n",
    "    - все случаи либо прооперированы, либо вскрыты, так что это значение и тип поражения всегда известны\n",
    "    - возможные значения:\n",
    "        1 = Да\n",
    "        2 = Нет\n",
    "24, 25, 26: тип поражения\n",
    "27: cp_data\n",
    "    - есть ли данные о патологии в этом случае?\n",
    "        1 = Да\n",
    "        2 = Нет\n",
    "    - эта переменная не имеет значения, так как данные патологии не включается и не собирается для этих случаев"
   ]
  },
  {
   "cell_type": "markdown",
   "metadata": {},
   "source": [
    "### Задание 2. Первичное изучение данных\n",
    "Проанализировать значения по столбцам, рассчитать базовые статистики, найти выбросы."
   ]
  },
  {
   "cell_type": "code",
   "execution_count": 362,
   "metadata": {},
   "outputs": [
    {
     "data": {
      "text/html": [
       "<div>\n",
       "<style scoped>\n",
       "    .dataframe tbody tr th:only-of-type {\n",
       "        vertical-align: middle;\n",
       "    }\n",
       "\n",
       "    .dataframe tbody tr th {\n",
       "        vertical-align: top;\n",
       "    }\n",
       "\n",
       "    .dataframe thead th {\n",
       "        text-align: right;\n",
       "    }\n",
       "</style>\n",
       "<table border=\"1\" class=\"dataframe\">\n",
       "  <thead>\n",
       "    <tr style=\"text-align: right;\">\n",
       "      <th></th>\n",
       "      <th>surgery?</th>\n",
       "      <th>Age</th>\n",
       "      <th>rectal_temperature</th>\n",
       "      <th>pulse</th>\n",
       "      <th>respiratory_rate</th>\n",
       "      <th>temperature_of_extremities</th>\n",
       "      <th>pain</th>\n",
       "      <th>outcome</th>\n",
       "    </tr>\n",
       "  </thead>\n",
       "  <tbody>\n",
       "    <tr>\n",
       "      <th>count</th>\n",
       "      <td>300.000000</td>\n",
       "      <td>300.000000</td>\n",
       "      <td>240.000000</td>\n",
       "      <td>276.000000</td>\n",
       "      <td>242.000000</td>\n",
       "      <td>244.000000</td>\n",
       "      <td>245.00000</td>\n",
       "      <td>299.000000</td>\n",
       "    </tr>\n",
       "    <tr>\n",
       "      <th>mean</th>\n",
       "      <td>1.400000</td>\n",
       "      <td>1.640000</td>\n",
       "      <td>38.167917</td>\n",
       "      <td>71.913043</td>\n",
       "      <td>30.417355</td>\n",
       "      <td>2.348361</td>\n",
       "      <td>2.95102</td>\n",
       "      <td>1.551839</td>\n",
       "    </tr>\n",
       "    <tr>\n",
       "      <th>std</th>\n",
       "      <td>0.490716</td>\n",
       "      <td>2.173972</td>\n",
       "      <td>0.732289</td>\n",
       "      <td>28.630557</td>\n",
       "      <td>17.642231</td>\n",
       "      <td>1.045054</td>\n",
       "      <td>1.30794</td>\n",
       "      <td>0.737187</td>\n",
       "    </tr>\n",
       "    <tr>\n",
       "      <th>min</th>\n",
       "      <td>1.000000</td>\n",
       "      <td>1.000000</td>\n",
       "      <td>35.400000</td>\n",
       "      <td>30.000000</td>\n",
       "      <td>8.000000</td>\n",
       "      <td>1.000000</td>\n",
       "      <td>1.00000</td>\n",
       "      <td>1.000000</td>\n",
       "    </tr>\n",
       "    <tr>\n",
       "      <th>25%</th>\n",
       "      <td>1.000000</td>\n",
       "      <td>1.000000</td>\n",
       "      <td>37.800000</td>\n",
       "      <td>48.000000</td>\n",
       "      <td>18.500000</td>\n",
       "      <td>1.000000</td>\n",
       "      <td>2.00000</td>\n",
       "      <td>1.000000</td>\n",
       "    </tr>\n",
       "    <tr>\n",
       "      <th>50%</th>\n",
       "      <td>1.000000</td>\n",
       "      <td>1.000000</td>\n",
       "      <td>38.200000</td>\n",
       "      <td>64.000000</td>\n",
       "      <td>24.500000</td>\n",
       "      <td>3.000000</td>\n",
       "      <td>3.00000</td>\n",
       "      <td>1.000000</td>\n",
       "    </tr>\n",
       "    <tr>\n",
       "      <th>75%</th>\n",
       "      <td>2.000000</td>\n",
       "      <td>1.000000</td>\n",
       "      <td>38.500000</td>\n",
       "      <td>88.000000</td>\n",
       "      <td>36.000000</td>\n",
       "      <td>3.000000</td>\n",
       "      <td>4.00000</td>\n",
       "      <td>2.000000</td>\n",
       "    </tr>\n",
       "    <tr>\n",
       "      <th>max</th>\n",
       "      <td>2.000000</td>\n",
       "      <td>9.000000</td>\n",
       "      <td>40.800000</td>\n",
       "      <td>184.000000</td>\n",
       "      <td>96.000000</td>\n",
       "      <td>4.000000</td>\n",
       "      <td>5.00000</td>\n",
       "      <td>3.000000</td>\n",
       "    </tr>\n",
       "  </tbody>\n",
       "</table>\n",
       "</div>"
      ],
      "text/plain": [
       "         surgery?         Age  rectal_temperature       pulse  \\\n",
       "count  300.000000  300.000000          240.000000  276.000000   \n",
       "mean     1.400000    1.640000           38.167917   71.913043   \n",
       "std      0.490716    2.173972            0.732289   28.630557   \n",
       "min      1.000000    1.000000           35.400000   30.000000   \n",
       "25%      1.000000    1.000000           37.800000   48.000000   \n",
       "50%      1.000000    1.000000           38.200000   64.000000   \n",
       "75%      2.000000    1.000000           38.500000   88.000000   \n",
       "max      2.000000    9.000000           40.800000  184.000000   \n",
       "\n",
       "       respiratory_rate  temperature_of_extremities       pain     outcome  \n",
       "count        242.000000                  244.000000  245.00000  299.000000  \n",
       "mean          30.417355                    2.348361    2.95102    1.551839  \n",
       "std           17.642231                    1.045054    1.30794    0.737187  \n",
       "min            8.000000                    1.000000    1.00000    1.000000  \n",
       "25%           18.500000                    1.000000    2.00000    1.000000  \n",
       "50%           24.500000                    3.000000    3.00000    1.000000  \n",
       "75%           36.000000                    3.000000    4.00000    2.000000  \n",
       "max           96.000000                    4.000000    5.00000    3.000000  "
      ]
     },
     "execution_count": 362,
     "metadata": {},
     "output_type": "execute_result"
    }
   ],
   "source": [
    "horse_v2.describe()"
   ]
  },
  {
   "cell_type": "code",
   "execution_count": null,
   "metadata": {},
   "outputs": [],
   "source": [
    "# surgery? - выбросов нет\n",
    "# Age - есть выбросы\n",
    "# rectal temperature - выбросов нет\n",
    "# pulse - есть выбросы\n",
    "# respiratory rate - есть выбросы\n",
    "# temperature of extremities - выбросов нет\n",
    "# pain - выбросов нет\n",
    "# outcome - есть выбросы"
   ]
  },
  {
   "cell_type": "markdown",
   "metadata": {},
   "source": [
    "### Задание 3. Работа с пропусками\n",
    "\n",
    "Рассчитать количество пропусков для всех выбранных столбцов. Принять и обосновать решение о методе заполнения пропусков по каждому столбцу на основе рассчитанных статистик и возможной взаимосвязи значений в них. Сформировать датафрейм, в котором пропуски будут отсутствовать."
   ]
  },
  {
   "cell_type": "code",
   "execution_count": 363,
   "metadata": {},
   "outputs": [
    {
     "data": {
      "text/plain": [
       "surgery?                       0\n",
       "Age                            0\n",
       "rectal_temperature            60\n",
       "pulse                         24\n",
       "respiratory_rate              58\n",
       "temperature_of_extremities    56\n",
       "pain                          55\n",
       "outcome                        1\n",
       "dtype: int64"
      ]
     },
     "execution_count": 363,
     "metadata": {},
     "output_type": "execute_result"
    }
   ],
   "source": [
    "horse_v2.isnull().sum()"
   ]
  },
  {
   "cell_type": "code",
   "execution_count": null,
   "metadata": {},
   "outputs": [],
   "source": [
    "# surgery? - был в начале один пропуск, устранил\n",
    "# Age - пропусков нет\n",
    "# rectal temperature - 60 пропусков\n",
    "# pulse - 24 пропуска\n",
    "# respiratory rate - 58 пропусков\n",
    "# temperature of extremities - 56 пропусков\n",
    "# pain - 55 пропусков\n",
    "# outcome - 1 пропуск"
   ]
  },
  {
   "cell_type": "code",
   "execution_count": 365,
   "metadata": {},
   "outputs": [
    {
     "data": {
      "text/plain": [
       "surgery?                       0\n",
       "Age                            0\n",
       "rectal_temperature             0\n",
       "pulse                          0\n",
       "respiratory_rate              36\n",
       "temperature_of_extremities    42\n",
       "pain                          43\n",
       "outcome                        0\n",
       "dtype: int64"
      ]
     },
     "execution_count": 365,
     "metadata": {},
     "output_type": "execute_result"
    }
   ],
   "source": [
    "# temperature of extremities - температура конечностей, \n",
    "# горячие конечности должны коррелировать с повышенной ректальной температурой - rectal_temperature.\n",
    "\n",
    "horse_v2['rectal_temperature'].fillna(horse_v2.query('temperature_of_extremities == 3').groupby(['pulse'])['rectal_temperature'].transform('median'), inplace=True)\n",
    "horse_v2['rectal_temperature'].fillna(horse_v2.query('temperature_of_extremities == 3').groupby(['temperature_of_extremities'])['rectal_temperature'].transform('median'), inplace=True)\n",
    "\n",
    "# больше ни как не определить rectal_temperature, поэтому удаляем rectal_temperature с пропусками\n",
    "horse_v2.dropna(subset=['rectal_temperature'], inplace=True)\n",
    "\n",
    "# пульс имеет какую то зависимость, но это глубоко предметно, поэтому пропуски уадляем\n",
    "horse_v2.dropna(subset=['pulse'], inplace=True)\n",
    "\n",
    "# предполагаю, что исход зависит от 'temperature_of_extremities', 'pulse', 'surgery?'\n",
    "\n",
    "horse_v2['outcome'].fillna(horse_v2.groupby(['temperature_of_extremities', 'pulse', 'surgery?'])['outcome'].transform('median'), inplace=True)\n",
    "\n",
    "horse_v2.isnull().sum()"
   ]
  },
  {
   "cell_type": "code",
   "execution_count": 366,
   "metadata": {},
   "outputs": [
    {
     "data": {
      "text/plain": [
       "surgery?                       0\n",
       "Age                            0\n",
       "rectal_temperature             0\n",
       "pulse                          0\n",
       "respiratory_rate               0\n",
       "temperature_of_extremities    42\n",
       "pain                          43\n",
       "outcome                        0\n",
       "dtype: int64"
      ]
     },
     "execution_count": 366,
     "metadata": {},
     "output_type": "execute_result"
    }
   ],
   "source": [
    "# respiratory_rate - частота дыхания будем определять на основание 'pain', 'rectal_temperature', 'pulse' через медиану\n",
    "\n",
    "horse_v2['respiratory_rate'].fillna(horse_v2.groupby(['Age', 'pain', 'rectal_temperature', 'pulse'])['respiratory_rate'].transform('median'), inplace=True)\n",
    "horse_v2['respiratory_rate'].fillna(horse_v2.groupby(['Age', 'pain', 'rectal_temperature'])['respiratory_rate'].transform('median'), inplace=True)\n",
    "horse_v2['respiratory_rate'].fillna(horse_v2.groupby(['Age', 'pain','pulse'])['respiratory_rate'].transform('median'), inplace=True)\n",
    "horse_v2['respiratory_rate'].fillna(horse_v2.groupby(['Age', 'rectal_temperature', 'pulse'])['respiratory_rate'].transform('median'), inplace=True)\n",
    "horse_v2['respiratory_rate'].fillna(horse_v2.groupby(['Age', 'rectal_temperature'])['respiratory_rate'].transform('median'), inplace=True)\n",
    "horse_v2['respiratory_rate'].fillna(horse_v2.groupby(['Age', 'pulse'])['respiratory_rate'].transform('median'), inplace=True)\n",
    "\n",
    "horse_v2.isnull().sum()"
   ]
  },
  {
   "cell_type": "code",
   "execution_count": 367,
   "metadata": {},
   "outputs": [
    {
     "data": {
      "text/plain": [
       "surgery?                       0\n",
       "Age                            0\n",
       "rectal_temperature             0\n",
       "pulse                          0\n",
       "respiratory_rate               0\n",
       "temperature_of_extremities     0\n",
       "pain                          43\n",
       "outcome                        0\n",
       "dtype: int64"
      ]
     },
     "execution_count": 367,
     "metadata": {},
     "output_type": "execute_result"
    }
   ],
   "source": [
    "# горячие конечности должны коррелировать с повышенной ректальной температурой - rectal_temperature.\n",
    "\n",
    "horse_v2['temperature_of_extremities'].fillna(horse_v2.groupby(['rectal_temperature'])['temperature_of_extremities'].transform('median').round(), inplace=True)\n",
    "horse_v2['temperature_of_extremities'].fillna(horse_v2['temperature_of_extremities'].median(), inplace=True)\n",
    "\n",
    "horse_v2.isnull().sum()"
   ]
  },
  {
   "cell_type": "code",
   "execution_count": 368,
   "metadata": {},
   "outputs": [
    {
     "data": {
      "text/plain": [
       "surgery?                      0\n",
       "Age                           0\n",
       "rectal_temperature            0\n",
       "pulse                         0\n",
       "respiratory_rate              0\n",
       "temperature_of_extremities    0\n",
       "pain                          0\n",
       "outcome                       0\n",
       "dtype: int64"
      ]
     },
     "execution_count": 368,
     "metadata": {},
     "output_type": "execute_result"
    }
   ],
   "source": [
    "# боль определить на основании моих знаний не возможно. Будем предполагать\n",
    "\n",
    "horse_v2['pain'].fillna(horse_v2.groupby(['rectal_temperature','pulse','respiratory_rate','outcome'])['pain'].transform('median').round(), inplace=True)\n",
    "horse_v2['pain'].fillna(horse_v2.groupby(['rectal_temperature','pulse','respiratory_rate'])['pain'].transform('median').round(), inplace=True)\n",
    "horse_v2['pain'].fillna(horse_v2.groupby(['rectal_temperature','respiratory_rate'])['pain'].transform('median').round(), inplace=True)\n",
    "horse_v2['pain'].fillna(horse_v2.groupby(['respiratory_rate','outcome'])['pain'].transform('median').round(), inplace=True)\n",
    "horse_v2['pain'].fillna(1, inplace=True)\n",
    "\n",
    "horse_v2.isnull().sum()"
   ]
  }
 ],
 "metadata": {
  "kernelspec": {
   "display_name": "Python 3",
   "language": "python",
   "name": "python3"
  },
  "language_info": {
   "codemirror_mode": {
    "name": "ipython",
    "version": 3
   },
   "file_extension": ".py",
   "mimetype": "text/x-python",
   "name": "python",
   "nbconvert_exporter": "python",
   "pygments_lexer": "ipython3",
   "version": "3.8.5"
  }
 },
 "nbformat": 4,
 "nbformat_minor": 2
}
