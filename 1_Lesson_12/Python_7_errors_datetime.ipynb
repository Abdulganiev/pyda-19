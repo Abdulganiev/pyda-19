{
 "cells": [
  {
   "cell_type": "markdown",
   "metadata": {},
   "source": [
    "# Задача про интервалы\n",
    "Имеется список отсортированных по возрастанию целых чисел data. А также целое число n, которое лежит между минимальным и максимальным значениями из списка data. Вам необходимо определить минимальное ближайшее число к n из списка data.\n",
    "\n",
    "Пример:\n",
    "```python\n",
    "data = [1, 7, 17, 23, 27, 35, 65]\n",
    "n = 20\n",
    "```\n",
    "\n",
    "Ответ: 17\n",
    "\n"
   ]
  },
  {
   "cell_type": "code",
   "execution_count": 1,
   "metadata": {},
   "outputs": [],
   "source": [
    "data = [1, 7, 17, 23, 27, 35, 65]\n",
    "n = 20"
   ]
  },
  {
   "cell_type": "code",
   "execution_count": 8,
   "metadata": {},
   "outputs": [
    {
     "name": "stdout",
     "output_type": "stream",
     "text": [
      "17\n"
     ]
    }
   ],
   "source": [
    "for i, item in enumerate(data[:-1]):\n",
    "    if item <= n < data[i+1]:\n",
    "        print(item)\n",
    "        break"
   ]
  },
  {
   "cell_type": "markdown",
   "metadata": {},
   "source": [
    "# Бинарный поиск"
   ]
  },
  {
   "cell_type": "markdown",
   "metadata": {},
   "source": [
    "O(log(N))"
   ]
  },
  {
   "cell_type": "code",
   "execution_count": null,
   "metadata": {},
   "outputs": [],
   "source": [
    "2 +1 шаг\n",
    "4 +2 шага\n",
    "8 +3 шага\n",
    "\n",
    "2**N"
   ]
  },
  {
   "cell_type": "code",
   "execution_count": null,
   "metadata": {},
   "outputs": [],
   "source": [
    "Алеексеев - 3-57-94\n",
    "Беляев\n",
    "...\n",
    "Волков  <--\n",
    "...\n",
    "<--\n",
    "Дроздов\n",
    "...\n",
    "Иванов  <--\n",
    "...\n",
    "Яблоков"
   ]
  },
  {
   "cell_type": "markdown",
   "metadata": {},
   "source": [
    "### Сложность алгоритма"
   ]
  },
  {
   "cell_type": "markdown",
   "metadata": {},
   "source": [
    "O(f(N))"
   ]
  },
  {
   "cell_type": "code",
   "execution_count": null,
   "metadata": {},
   "outputs": [],
   "source": [
    "O(N) x N"
   ]
  },
  {
   "cell_type": "code",
   "execution_count": null,
   "metadata": {},
   "outputs": [],
   "source": [
    "100 --> 1 мин\n",
    "1000 --> 10 мин"
   ]
  },
  {
   "cell_type": "code",
   "execution_count": null,
   "metadata": {},
   "outputs": [],
   "source": [
    "O(N**2) x N --> N**2\n",
    "100сек --> 1000 --> 10**6"
   ]
  },
  {
   "cell_type": "markdown",
   "metadata": {},
   "source": [
    "# Алгоритм экспоненциальной задержки"
   ]
  },
  {
   "cell_type": "code",
   "execution_count": null,
   "metadata": {},
   "outputs": [],
   "source": [
    "'https://www.cbr-xml-daily.ru/daily_json.js'"
   ]
  },
  {
   "cell_type": "code",
   "execution_count": 1,
   "metadata": {},
   "outputs": [],
   "source": [
    "import requests"
   ]
  },
  {
   "cell_type": "code",
   "execution_count": 8,
   "metadata": {},
   "outputs": [],
   "source": [
    "def exchange_rates(host, timeout):\n",
    "    return requests.get(f'{host}/daily_json.js', timeout=timeout).json()"
   ]
  },
  {
   "cell_type": "code",
   "execution_count": 10,
   "metadata": {},
   "outputs": [
    {
     "ename": "ConnectTimeout",
     "evalue": "HTTPSConnectionPool(host='www.cbr-xml-daily.ru', port=443): Max retries exceeded with url: /daily_json.js (Caused by ConnectTimeoutError(<urllib3.connection.VerifiedHTTPSConnection object at 0x10f974f60>, 'Connection to www.cbr-xml-daily.ru timed out. (connect timeout=0.001)'))",
     "output_type": "error",
     "traceback": [
      "\u001b[0;31m---------------------------------------------------------------------------\u001b[0m",
      "\u001b[0;31mtimeout\u001b[0m                                   Traceback (most recent call last)",
      "\u001b[0;32m~/anaconda3/lib/python3.7/site-packages/urllib3/connection.py\u001b[0m in \u001b[0;36m_new_conn\u001b[0;34m(self)\u001b[0m\n\u001b[1;32m    156\u001b[0m             conn = connection.create_connection(\n\u001b[0;32m--> 157\u001b[0;31m                 \u001b[0;34m(\u001b[0m\u001b[0mself\u001b[0m\u001b[0;34m.\u001b[0m\u001b[0m_dns_host\u001b[0m\u001b[0;34m,\u001b[0m \u001b[0mself\u001b[0m\u001b[0;34m.\u001b[0m\u001b[0mport\u001b[0m\u001b[0;34m)\u001b[0m\u001b[0;34m,\u001b[0m \u001b[0mself\u001b[0m\u001b[0;34m.\u001b[0m\u001b[0mtimeout\u001b[0m\u001b[0;34m,\u001b[0m \u001b[0;34m**\u001b[0m\u001b[0mextra_kw\u001b[0m\u001b[0;34m\u001b[0m\u001b[0m\n\u001b[0m\u001b[1;32m    158\u001b[0m             )\n",
      "\u001b[0;32m~/anaconda3/lib/python3.7/site-packages/urllib3/util/connection.py\u001b[0m in \u001b[0;36mcreate_connection\u001b[0;34m(address, timeout, source_address, socket_options)\u001b[0m\n\u001b[1;32m     83\u001b[0m     \u001b[0;32mif\u001b[0m \u001b[0merr\u001b[0m \u001b[0;32mis\u001b[0m \u001b[0;32mnot\u001b[0m \u001b[0;32mNone\u001b[0m\u001b[0;34m:\u001b[0m\u001b[0;34m\u001b[0m\u001b[0m\n\u001b[0;32m---> 84\u001b[0;31m         \u001b[0;32mraise\u001b[0m \u001b[0merr\u001b[0m\u001b[0;34m\u001b[0m\u001b[0m\n\u001b[0m\u001b[1;32m     85\u001b[0m \u001b[0;34m\u001b[0m\u001b[0m\n",
      "\u001b[0;32m~/anaconda3/lib/python3.7/site-packages/urllib3/util/connection.py\u001b[0m in \u001b[0;36mcreate_connection\u001b[0;34m(address, timeout, source_address, socket_options)\u001b[0m\n\u001b[1;32m     73\u001b[0m                 \u001b[0msock\u001b[0m\u001b[0;34m.\u001b[0m\u001b[0mbind\u001b[0m\u001b[0;34m(\u001b[0m\u001b[0msource_address\u001b[0m\u001b[0;34m)\u001b[0m\u001b[0;34m\u001b[0m\u001b[0m\n\u001b[0;32m---> 74\u001b[0;31m             \u001b[0msock\u001b[0m\u001b[0;34m.\u001b[0m\u001b[0mconnect\u001b[0m\u001b[0;34m(\u001b[0m\u001b[0msa\u001b[0m\u001b[0;34m)\u001b[0m\u001b[0;34m\u001b[0m\u001b[0m\n\u001b[0m\u001b[1;32m     75\u001b[0m             \u001b[0;32mreturn\u001b[0m \u001b[0msock\u001b[0m\u001b[0;34m\u001b[0m\u001b[0m\n",
      "\u001b[0;31mtimeout\u001b[0m: timed out",
      "\nDuring handling of the above exception, another exception occurred:\n",
      "\u001b[0;31mConnectTimeoutError\u001b[0m                       Traceback (most recent call last)",
      "\u001b[0;32m~/anaconda3/lib/python3.7/site-packages/urllib3/connectionpool.py\u001b[0m in \u001b[0;36murlopen\u001b[0;34m(self, method, url, body, headers, retries, redirect, assert_same_host, timeout, pool_timeout, release_conn, chunked, body_pos, **response_kw)\u001b[0m\n\u001b[1;32m    671\u001b[0m                 \u001b[0mheaders\u001b[0m\u001b[0;34m=\u001b[0m\u001b[0mheaders\u001b[0m\u001b[0;34m,\u001b[0m\u001b[0;34m\u001b[0m\u001b[0m\n\u001b[0;32m--> 672\u001b[0;31m                 \u001b[0mchunked\u001b[0m\u001b[0;34m=\u001b[0m\u001b[0mchunked\u001b[0m\u001b[0;34m,\u001b[0m\u001b[0;34m\u001b[0m\u001b[0m\n\u001b[0m\u001b[1;32m    673\u001b[0m             )\n",
      "\u001b[0;32m~/anaconda3/lib/python3.7/site-packages/urllib3/connectionpool.py\u001b[0m in \u001b[0;36m_make_request\u001b[0;34m(self, conn, method, url, timeout, chunked, **httplib_request_kw)\u001b[0m\n\u001b[1;32m    375\u001b[0m         \u001b[0;32mtry\u001b[0m\u001b[0;34m:\u001b[0m\u001b[0;34m\u001b[0m\u001b[0m\n\u001b[0;32m--> 376\u001b[0;31m             \u001b[0mself\u001b[0m\u001b[0;34m.\u001b[0m\u001b[0m_validate_conn\u001b[0m\u001b[0;34m(\u001b[0m\u001b[0mconn\u001b[0m\u001b[0;34m)\u001b[0m\u001b[0;34m\u001b[0m\u001b[0m\n\u001b[0m\u001b[1;32m    377\u001b[0m         \u001b[0;32mexcept\u001b[0m \u001b[0;34m(\u001b[0m\u001b[0mSocketTimeout\u001b[0m\u001b[0;34m,\u001b[0m \u001b[0mBaseSSLError\u001b[0m\u001b[0;34m)\u001b[0m \u001b[0;32mas\u001b[0m \u001b[0me\u001b[0m\u001b[0;34m:\u001b[0m\u001b[0;34m\u001b[0m\u001b[0m\n",
      "\u001b[0;32m~/anaconda3/lib/python3.7/site-packages/urllib3/connectionpool.py\u001b[0m in \u001b[0;36m_validate_conn\u001b[0;34m(self, conn)\u001b[0m\n\u001b[1;32m    993\u001b[0m         \u001b[0;32mif\u001b[0m \u001b[0;32mnot\u001b[0m \u001b[0mgetattr\u001b[0m\u001b[0;34m(\u001b[0m\u001b[0mconn\u001b[0m\u001b[0;34m,\u001b[0m \u001b[0;34m\"sock\"\u001b[0m\u001b[0;34m,\u001b[0m \u001b[0;32mNone\u001b[0m\u001b[0;34m)\u001b[0m\u001b[0;34m:\u001b[0m  \u001b[0;31m# AppEngine might not have  `.sock`\u001b[0m\u001b[0;34m\u001b[0m\u001b[0m\n\u001b[0;32m--> 994\u001b[0;31m             \u001b[0mconn\u001b[0m\u001b[0;34m.\u001b[0m\u001b[0mconnect\u001b[0m\u001b[0;34m(\u001b[0m\u001b[0;34m)\u001b[0m\u001b[0;34m\u001b[0m\u001b[0m\n\u001b[0m\u001b[1;32m    995\u001b[0m \u001b[0;34m\u001b[0m\u001b[0m\n",
      "\u001b[0;32m~/anaconda3/lib/python3.7/site-packages/urllib3/connection.py\u001b[0m in \u001b[0;36mconnect\u001b[0;34m(self)\u001b[0m\n\u001b[1;32m    333\u001b[0m         \u001b[0;31m# Add certificate verification\u001b[0m\u001b[0;34m\u001b[0m\u001b[0;34m\u001b[0m\u001b[0m\n\u001b[0;32m--> 334\u001b[0;31m         \u001b[0mconn\u001b[0m \u001b[0;34m=\u001b[0m \u001b[0mself\u001b[0m\u001b[0;34m.\u001b[0m\u001b[0m_new_conn\u001b[0m\u001b[0;34m(\u001b[0m\u001b[0;34m)\u001b[0m\u001b[0;34m\u001b[0m\u001b[0m\n\u001b[0m\u001b[1;32m    335\u001b[0m         \u001b[0mhostname\u001b[0m \u001b[0;34m=\u001b[0m \u001b[0mself\u001b[0m\u001b[0;34m.\u001b[0m\u001b[0mhost\u001b[0m\u001b[0;34m\u001b[0m\u001b[0m\n",
      "\u001b[0;32m~/anaconda3/lib/python3.7/site-packages/urllib3/connection.py\u001b[0m in \u001b[0;36m_new_conn\u001b[0;34m(self)\u001b[0m\n\u001b[1;32m    163\u001b[0m                 \u001b[0;34m\"Connection to %s timed out. (connect timeout=%s)\"\u001b[0m\u001b[0;34m\u001b[0m\u001b[0m\n\u001b[0;32m--> 164\u001b[0;31m                 \u001b[0;34m%\u001b[0m \u001b[0;34m(\u001b[0m\u001b[0mself\u001b[0m\u001b[0;34m.\u001b[0m\u001b[0mhost\u001b[0m\u001b[0;34m,\u001b[0m \u001b[0mself\u001b[0m\u001b[0;34m.\u001b[0m\u001b[0mtimeout\u001b[0m\u001b[0;34m)\u001b[0m\u001b[0;34m,\u001b[0m\u001b[0;34m\u001b[0m\u001b[0m\n\u001b[0m\u001b[1;32m    165\u001b[0m             )\n",
      "\u001b[0;31mConnectTimeoutError\u001b[0m: (<urllib3.connection.VerifiedHTTPSConnection object at 0x10f974f60>, 'Connection to www.cbr-xml-daily.ru timed out. (connect timeout=0.001)')",
      "\nDuring handling of the above exception, another exception occurred:\n",
      "\u001b[0;31mMaxRetryError\u001b[0m                             Traceback (most recent call last)",
      "\u001b[0;32m~/anaconda3/lib/python3.7/site-packages/requests/adapters.py\u001b[0m in \u001b[0;36msend\u001b[0;34m(self, request, stream, timeout, verify, cert, proxies)\u001b[0m\n\u001b[1;32m    448\u001b[0m                     \u001b[0mretries\u001b[0m\u001b[0;34m=\u001b[0m\u001b[0mself\u001b[0m\u001b[0;34m.\u001b[0m\u001b[0mmax_retries\u001b[0m\u001b[0;34m,\u001b[0m\u001b[0;34m\u001b[0m\u001b[0m\n\u001b[0;32m--> 449\u001b[0;31m                     \u001b[0mtimeout\u001b[0m\u001b[0;34m=\u001b[0m\u001b[0mtimeout\u001b[0m\u001b[0;34m\u001b[0m\u001b[0m\n\u001b[0m\u001b[1;32m    450\u001b[0m                 )\n",
      "\u001b[0;32m~/anaconda3/lib/python3.7/site-packages/urllib3/connectionpool.py\u001b[0m in \u001b[0;36murlopen\u001b[0;34m(self, method, url, body, headers, retries, redirect, assert_same_host, timeout, pool_timeout, release_conn, chunked, body_pos, **response_kw)\u001b[0m\n\u001b[1;32m    719\u001b[0m             retries = retries.increment(\n\u001b[0;32m--> 720\u001b[0;31m                 \u001b[0mmethod\u001b[0m\u001b[0;34m,\u001b[0m \u001b[0murl\u001b[0m\u001b[0;34m,\u001b[0m \u001b[0merror\u001b[0m\u001b[0;34m=\u001b[0m\u001b[0me\u001b[0m\u001b[0;34m,\u001b[0m \u001b[0m_pool\u001b[0m\u001b[0;34m=\u001b[0m\u001b[0mself\u001b[0m\u001b[0;34m,\u001b[0m \u001b[0m_stacktrace\u001b[0m\u001b[0;34m=\u001b[0m\u001b[0msys\u001b[0m\u001b[0;34m.\u001b[0m\u001b[0mexc_info\u001b[0m\u001b[0;34m(\u001b[0m\u001b[0;34m)\u001b[0m\u001b[0;34m[\u001b[0m\u001b[0;36m2\u001b[0m\u001b[0;34m]\u001b[0m\u001b[0;34m\u001b[0m\u001b[0m\n\u001b[0m\u001b[1;32m    721\u001b[0m             )\n",
      "\u001b[0;32m~/anaconda3/lib/python3.7/site-packages/urllib3/util/retry.py\u001b[0m in \u001b[0;36mincrement\u001b[0;34m(self, method, url, response, error, _pool, _stacktrace)\u001b[0m\n\u001b[1;32m    435\u001b[0m         \u001b[0;32mif\u001b[0m \u001b[0mnew_retry\u001b[0m\u001b[0;34m.\u001b[0m\u001b[0mis_exhausted\u001b[0m\u001b[0;34m(\u001b[0m\u001b[0;34m)\u001b[0m\u001b[0;34m:\u001b[0m\u001b[0;34m\u001b[0m\u001b[0m\n\u001b[0;32m--> 436\u001b[0;31m             \u001b[0;32mraise\u001b[0m \u001b[0mMaxRetryError\u001b[0m\u001b[0;34m(\u001b[0m\u001b[0m_pool\u001b[0m\u001b[0;34m,\u001b[0m \u001b[0murl\u001b[0m\u001b[0;34m,\u001b[0m \u001b[0merror\u001b[0m \u001b[0;32mor\u001b[0m \u001b[0mResponseError\u001b[0m\u001b[0;34m(\u001b[0m\u001b[0mcause\u001b[0m\u001b[0;34m)\u001b[0m\u001b[0;34m)\u001b[0m\u001b[0;34m\u001b[0m\u001b[0m\n\u001b[0m\u001b[1;32m    437\u001b[0m \u001b[0;34m\u001b[0m\u001b[0m\n",
      "\u001b[0;31mMaxRetryError\u001b[0m: HTTPSConnectionPool(host='www.cbr-xml-daily.ru', port=443): Max retries exceeded with url: /daily_json.js (Caused by ConnectTimeoutError(<urllib3.connection.VerifiedHTTPSConnection object at 0x10f974f60>, 'Connection to www.cbr-xml-daily.ru timed out. (connect timeout=0.001)'))",
      "\nDuring handling of the above exception, another exception occurred:\n",
      "\u001b[0;31mConnectTimeout\u001b[0m                            Traceback (most recent call last)",
      "\u001b[0;32m<ipython-input-10-e3e02df19203>\u001b[0m in \u001b[0;36m<module>\u001b[0;34m\u001b[0m\n\u001b[0;32m----> 1\u001b[0;31m \u001b[0mexchange_rates\u001b[0m\u001b[0;34m(\u001b[0m\u001b[0;34m'https://www.cbr-xml-daily.ru'\u001b[0m\u001b[0;34m,\u001b[0m \u001b[0mtimeout\u001b[0m\u001b[0;34m=\u001b[0m\u001b[0;36m0.001\u001b[0m\u001b[0;34m)\u001b[0m\u001b[0;34m\u001b[0m\u001b[0m\n\u001b[0m",
      "\u001b[0;32m<ipython-input-8-7e8a6182dbec>\u001b[0m in \u001b[0;36mexchange_rates\u001b[0;34m(host, timeout)\u001b[0m\n\u001b[1;32m      1\u001b[0m \u001b[0;32mdef\u001b[0m \u001b[0mexchange_rates\u001b[0m\u001b[0;34m(\u001b[0m\u001b[0mhost\u001b[0m\u001b[0;34m,\u001b[0m \u001b[0mtimeout\u001b[0m\u001b[0;34m)\u001b[0m\u001b[0;34m:\u001b[0m\u001b[0;34m\u001b[0m\u001b[0m\n\u001b[0;32m----> 2\u001b[0;31m     \u001b[0;32mreturn\u001b[0m \u001b[0mrequests\u001b[0m\u001b[0;34m.\u001b[0m\u001b[0mget\u001b[0m\u001b[0;34m(\u001b[0m\u001b[0;34mf'{host}/daily_json.js'\u001b[0m\u001b[0;34m,\u001b[0m \u001b[0mtimeout\u001b[0m\u001b[0;34m=\u001b[0m\u001b[0mtimeout\u001b[0m\u001b[0;34m)\u001b[0m\u001b[0;34m.\u001b[0m\u001b[0mjson\u001b[0m\u001b[0;34m(\u001b[0m\u001b[0;34m)\u001b[0m\u001b[0;34m\u001b[0m\u001b[0m\n\u001b[0m",
      "\u001b[0;32m~/anaconda3/lib/python3.7/site-packages/requests/api.py\u001b[0m in \u001b[0;36mget\u001b[0;34m(url, params, **kwargs)\u001b[0m\n\u001b[1;32m     73\u001b[0m \u001b[0;34m\u001b[0m\u001b[0m\n\u001b[1;32m     74\u001b[0m     \u001b[0mkwargs\u001b[0m\u001b[0;34m.\u001b[0m\u001b[0msetdefault\u001b[0m\u001b[0;34m(\u001b[0m\u001b[0;34m'allow_redirects'\u001b[0m\u001b[0;34m,\u001b[0m \u001b[0;32mTrue\u001b[0m\u001b[0;34m)\u001b[0m\u001b[0;34m\u001b[0m\u001b[0m\n\u001b[0;32m---> 75\u001b[0;31m     \u001b[0;32mreturn\u001b[0m \u001b[0mrequest\u001b[0m\u001b[0;34m(\u001b[0m\u001b[0;34m'get'\u001b[0m\u001b[0;34m,\u001b[0m \u001b[0murl\u001b[0m\u001b[0;34m,\u001b[0m \u001b[0mparams\u001b[0m\u001b[0;34m=\u001b[0m\u001b[0mparams\u001b[0m\u001b[0;34m,\u001b[0m \u001b[0;34m**\u001b[0m\u001b[0mkwargs\u001b[0m\u001b[0;34m)\u001b[0m\u001b[0;34m\u001b[0m\u001b[0m\n\u001b[0m\u001b[1;32m     76\u001b[0m \u001b[0;34m\u001b[0m\u001b[0m\n\u001b[1;32m     77\u001b[0m \u001b[0;34m\u001b[0m\u001b[0m\n",
      "\u001b[0;32m~/anaconda3/lib/python3.7/site-packages/requests/api.py\u001b[0m in \u001b[0;36mrequest\u001b[0;34m(method, url, **kwargs)\u001b[0m\n\u001b[1;32m     58\u001b[0m     \u001b[0;31m# cases, and look like a memory leak in others.\u001b[0m\u001b[0;34m\u001b[0m\u001b[0;34m\u001b[0m\u001b[0m\n\u001b[1;32m     59\u001b[0m     \u001b[0;32mwith\u001b[0m \u001b[0msessions\u001b[0m\u001b[0;34m.\u001b[0m\u001b[0mSession\u001b[0m\u001b[0;34m(\u001b[0m\u001b[0;34m)\u001b[0m \u001b[0;32mas\u001b[0m \u001b[0msession\u001b[0m\u001b[0;34m:\u001b[0m\u001b[0;34m\u001b[0m\u001b[0m\n\u001b[0;32m---> 60\u001b[0;31m         \u001b[0;32mreturn\u001b[0m \u001b[0msession\u001b[0m\u001b[0;34m.\u001b[0m\u001b[0mrequest\u001b[0m\u001b[0;34m(\u001b[0m\u001b[0mmethod\u001b[0m\u001b[0;34m=\u001b[0m\u001b[0mmethod\u001b[0m\u001b[0;34m,\u001b[0m \u001b[0murl\u001b[0m\u001b[0;34m=\u001b[0m\u001b[0murl\u001b[0m\u001b[0;34m,\u001b[0m \u001b[0;34m**\u001b[0m\u001b[0mkwargs\u001b[0m\u001b[0;34m)\u001b[0m\u001b[0;34m\u001b[0m\u001b[0m\n\u001b[0m\u001b[1;32m     61\u001b[0m \u001b[0;34m\u001b[0m\u001b[0m\n\u001b[1;32m     62\u001b[0m \u001b[0;34m\u001b[0m\u001b[0m\n",
      "\u001b[0;32m~/anaconda3/lib/python3.7/site-packages/requests/sessions.py\u001b[0m in \u001b[0;36mrequest\u001b[0;34m(self, method, url, params, data, headers, cookies, files, auth, timeout, allow_redirects, proxies, hooks, stream, verify, cert, json)\u001b[0m\n\u001b[1;32m    531\u001b[0m         }\n\u001b[1;32m    532\u001b[0m         \u001b[0msend_kwargs\u001b[0m\u001b[0;34m.\u001b[0m\u001b[0mupdate\u001b[0m\u001b[0;34m(\u001b[0m\u001b[0msettings\u001b[0m\u001b[0;34m)\u001b[0m\u001b[0;34m\u001b[0m\u001b[0m\n\u001b[0;32m--> 533\u001b[0;31m         \u001b[0mresp\u001b[0m \u001b[0;34m=\u001b[0m \u001b[0mself\u001b[0m\u001b[0;34m.\u001b[0m\u001b[0msend\u001b[0m\u001b[0;34m(\u001b[0m\u001b[0mprep\u001b[0m\u001b[0;34m,\u001b[0m \u001b[0;34m**\u001b[0m\u001b[0msend_kwargs\u001b[0m\u001b[0;34m)\u001b[0m\u001b[0;34m\u001b[0m\u001b[0m\n\u001b[0m\u001b[1;32m    534\u001b[0m \u001b[0;34m\u001b[0m\u001b[0m\n\u001b[1;32m    535\u001b[0m         \u001b[0;32mreturn\u001b[0m \u001b[0mresp\u001b[0m\u001b[0;34m\u001b[0m\u001b[0m\n",
      "\u001b[0;32m~/anaconda3/lib/python3.7/site-packages/requests/sessions.py\u001b[0m in \u001b[0;36msend\u001b[0;34m(self, request, **kwargs)\u001b[0m\n\u001b[1;32m    644\u001b[0m \u001b[0;34m\u001b[0m\u001b[0m\n\u001b[1;32m    645\u001b[0m         \u001b[0;31m# Send the request\u001b[0m\u001b[0;34m\u001b[0m\u001b[0;34m\u001b[0m\u001b[0m\n\u001b[0;32m--> 646\u001b[0;31m         \u001b[0mr\u001b[0m \u001b[0;34m=\u001b[0m \u001b[0madapter\u001b[0m\u001b[0;34m.\u001b[0m\u001b[0msend\u001b[0m\u001b[0;34m(\u001b[0m\u001b[0mrequest\u001b[0m\u001b[0;34m,\u001b[0m \u001b[0;34m**\u001b[0m\u001b[0mkwargs\u001b[0m\u001b[0;34m)\u001b[0m\u001b[0;34m\u001b[0m\u001b[0m\n\u001b[0m\u001b[1;32m    647\u001b[0m \u001b[0;34m\u001b[0m\u001b[0m\n\u001b[1;32m    648\u001b[0m         \u001b[0;31m# Total elapsed time of the request (approximately)\u001b[0m\u001b[0;34m\u001b[0m\u001b[0;34m\u001b[0m\u001b[0m\n",
      "\u001b[0;32m~/anaconda3/lib/python3.7/site-packages/requests/adapters.py\u001b[0m in \u001b[0;36msend\u001b[0;34m(self, request, stream, timeout, verify, cert, proxies)\u001b[0m\n\u001b[1;32m    502\u001b[0m                 \u001b[0;31m# TODO: Remove this in 3.0.0: see #2811\u001b[0m\u001b[0;34m\u001b[0m\u001b[0;34m\u001b[0m\u001b[0m\n\u001b[1;32m    503\u001b[0m                 \u001b[0;32mif\u001b[0m \u001b[0;32mnot\u001b[0m \u001b[0misinstance\u001b[0m\u001b[0;34m(\u001b[0m\u001b[0me\u001b[0m\u001b[0;34m.\u001b[0m\u001b[0mreason\u001b[0m\u001b[0;34m,\u001b[0m \u001b[0mNewConnectionError\u001b[0m\u001b[0;34m)\u001b[0m\u001b[0;34m:\u001b[0m\u001b[0;34m\u001b[0m\u001b[0m\n\u001b[0;32m--> 504\u001b[0;31m                     \u001b[0;32mraise\u001b[0m \u001b[0mConnectTimeout\u001b[0m\u001b[0;34m(\u001b[0m\u001b[0me\u001b[0m\u001b[0;34m,\u001b[0m \u001b[0mrequest\u001b[0m\u001b[0;34m=\u001b[0m\u001b[0mrequest\u001b[0m\u001b[0;34m)\u001b[0m\u001b[0;34m\u001b[0m\u001b[0m\n\u001b[0m\u001b[1;32m    505\u001b[0m \u001b[0;34m\u001b[0m\u001b[0m\n\u001b[1;32m    506\u001b[0m             \u001b[0;32mif\u001b[0m \u001b[0misinstance\u001b[0m\u001b[0;34m(\u001b[0m\u001b[0me\u001b[0m\u001b[0;34m.\u001b[0m\u001b[0mreason\u001b[0m\u001b[0;34m,\u001b[0m \u001b[0mResponseError\u001b[0m\u001b[0;34m)\u001b[0m\u001b[0;34m:\u001b[0m\u001b[0;34m\u001b[0m\u001b[0m\n",
      "\u001b[0;31mConnectTimeout\u001b[0m: HTTPSConnectionPool(host='www.cbr-xml-daily.ru', port=443): Max retries exceeded with url: /daily_json.js (Caused by ConnectTimeoutError(<urllib3.connection.VerifiedHTTPSConnection object at 0x10f974f60>, 'Connection to www.cbr-xml-daily.ru timed out. (connect timeout=0.001)'))"
     ]
    }
   ],
   "source": [
    "exchange_rates('https://www.cbr-xml-daily.ru', timeout=0.001)"
   ]
  },
  {
   "cell_type": "code",
   "execution_count": 21,
   "metadata": {},
   "outputs": [
    {
     "name": "stdout",
     "output_type": "stream",
     "text": [
      "Серверу тяжело, попробуйте попозже. Жду 1c\n",
      "Серверу тяжело, попробуйте попозже. Жду 2c\n",
      "Серверу тяжело, попробуйте попозже. Жду 4c\n"
     ]
    },
    {
     "ename": "ValueError",
     "evalue": "Иди чини сервер",
     "output_type": "error",
     "traceback": [
      "\u001b[0;31m---------------------------------------------------------------------------\u001b[0m",
      "\u001b[0;31mValueError\u001b[0m                                Traceback (most recent call last)",
      "\u001b[0;32m<ipython-input-21-6da8c99f7244>\u001b[0m in \u001b[0;36m<module>\u001b[0;34m\u001b[0m\n\u001b[1;32m     14\u001b[0m     \u001b[0mprint\u001b[0m\u001b[0;34m(\u001b[0m\u001b[0mrates\u001b[0m\u001b[0;34m)\u001b[0m\u001b[0;34m\u001b[0m\u001b[0m\n\u001b[1;32m     15\u001b[0m \u001b[0;32melse\u001b[0m\u001b[0;34m:\u001b[0m\u001b[0;34m\u001b[0m\u001b[0m\n\u001b[0;32m---> 16\u001b[0;31m     \u001b[0;32mraise\u001b[0m \u001b[0mValueError\u001b[0m\u001b[0;34m(\u001b[0m\u001b[0;34m'Иди чини сервер'\u001b[0m\u001b[0;34m)\u001b[0m\u001b[0;34m\u001b[0m\u001b[0m\n\u001b[0m",
      "\u001b[0;31mValueError\u001b[0m: Иди чини сервер"
     ]
    }
   ],
   "source": [
    "import time\n",
    "\n",
    "N_RETRIES = 3\n",
    "\n",
    "rates = None\n",
    "for i in range(N_RETRIES):\n",
    "    try:\n",
    "        rates = exchange_rates('https://www.cbr-xml-daily.ru', timeout=0.001)\n",
    "    except requests.Timeout as e:\n",
    "        print(f'Серверу тяжело, попробуйте попозже. Жду {2**i}c')\n",
    "        time.sleep(2**i)\n",
    "        \n",
    "if rates:\n",
    "    print(rates)\n",
    "else:\n",
    "    raise ValueError('Иди чини сервер')"
   ]
  },
  {
   "cell_type": "code",
   "execution_count": null,
   "metadata": {},
   "outputs": [],
   "source": [
    "rates = None\n",
    "for i in range(N_RETRIES):\n",
    "    try:\n",
    "        if i >= 2:\n",
    "            rates = exchange_rates('https://www.cbr-xml-daily.ru', timeout=1)\n",
    "        else:\n",
    "            rates = exchange_rates('https://www.cbr-xml-daily.ru', timeout=0.001)\n",
    "            \n",
    "    except requests.Timeout as e:\n",
    "        print(f'Серверу тяжело, попробуйте попозже. Жду {2**i}c')\n",
    "        time.sleep(2**i)\n",
    "        rates = None\n",
    "        \n",
    "if rates:\n",
    "    print(rates)\n",
    "else:\n",
    "    raise ValueError('Иди чини сервер')"
   ]
  },
  {
   "cell_type": "code",
   "execution_count": null,
   "metadata": {},
   "outputs": [],
   "source": []
  },
  {
   "cell_type": "markdown",
   "metadata": {},
   "source": [
    "# Обработка ошибок\n",
    "1. Текст ошибки указывается в последней строчке\n",
    "2. Все что перед ней - место, где ошибка произошла\n",
    "3. Есть встроенные типы ошибок, но можно создавать и свои"
   ]
  },
  {
   "cell_type": "markdown",
   "metadata": {},
   "source": [
    "Некоторые типы ошибок из документации (точнее [перевода](https://pythonworld.ru/tipy-dannyx-v-python/isklyucheniya-v-python-konstrukciya-try-except-dlya-obrabotki-isklyuchenij.html)):\n",
    "- ZeroDivisionError - деление на ноль\n",
    "- ImportError - не удалось импортирование модуля или его атрибута (надо установить эту библиотеку)\n",
    "- IndexError - индекс не входит в диапазон элементов.\n",
    "- KeyError - несуществующий ключ (в словаре, множестве или другом объекте)\n",
    "- MemoryError - недостаточно памяти\n",
    "- SyntaxError - синтаксическая ошибка (вы опечатались или не закрыли скобку)\n",
    "- TypeError - операция применена к объекту несоответствующего типа\n",
    "- ValueError - функция получает аргумент правильного типа, но некорректного значения\n",
    "- Warning - предупреждение (текст на красном фоне в юпитере это предупреждение, а не ошибка)"
   ]
  },
  {
   "cell_type": "code",
   "execution_count": null,
   "metadata": {},
   "outputs": [],
   "source": [
    "# эту строку можно перевести в число\n",
    "some_num = '123'"
   ]
  },
  {
   "cell_type": "code",
   "execution_count": null,
   "metadata": {},
   "outputs": [],
   "source": [
    "float(some_num)"
   ]
  },
  {
   "cell_type": "code",
   "execution_count": null,
   "metadata": {},
   "outputs": [],
   "source": [
    "# а эту уже нет (по крайней мере в десятичном счислении)\n",
    "ups = '123a'"
   ]
  },
  {
   "cell_type": "code",
   "execution_count": null,
   "metadata": {
    "scrolled": true
   },
   "outputs": [],
   "source": [
    "# ValueError - тип ошибки, далее пояснение что произошло\n",
    "# ----> 1 float(ups) - в каком месте кода произошла ошибка\n",
    "float(ups)"
   ]
  },
  {
   "cell_type": "markdown",
   "metadata": {},
   "source": [
    "Пример ошибки внутри функции"
   ]
  },
  {
   "cell_type": "code",
   "execution_count": 9,
   "metadata": {},
   "outputs": [],
   "source": [
    "def square_sum(*args):\n",
    "    total_sum = 0\n",
    "    for arg in args:\n",
    "        total_sum += arg**2\n",
    "    \n",
    "    return total_sum"
   ]
  },
  {
   "cell_type": "code",
   "execution_count": 10,
   "metadata": {},
   "outputs": [
    {
     "data": {
      "text/plain": [
       "14"
      ]
     },
     "execution_count": 10,
     "metadata": {},
     "output_type": "execute_result"
    }
   ],
   "source": [
    "square_sum(1, 2, 3)"
   ]
  },
  {
   "cell_type": "code",
   "execution_count": 11,
   "metadata": {},
   "outputs": [
    {
     "ename": "TypeError",
     "evalue": "unsupported operand type(s) for ** or pow(): 'str' and 'int'",
     "output_type": "error",
     "traceback": [
      "\u001b[0;31m---------------------------------------------------------------------------\u001b[0m",
      "\u001b[0;31mTypeError\u001b[0m                                 Traceback (most recent call last)",
      "\u001b[0;32m<ipython-input-11-7189647907b6>\u001b[0m in \u001b[0;36m<module>\u001b[0;34m\u001b[0m\n\u001b[1;32m      3\u001b[0m \u001b[0;31m# ----> 4         total_sum += arg**2 - в какой именно строке произошла ошибка\u001b[0m\u001b[0;34m\u001b[0m\u001b[0;34m\u001b[0m\u001b[0m\n\u001b[1;32m      4\u001b[0m \u001b[0;34m\u001b[0m\u001b[0m\n\u001b[0;32m----> 5\u001b[0;31m \u001b[0msquare_sum\u001b[0m\u001b[0;34m(\u001b[0m\u001b[0;36m1\u001b[0m\u001b[0;34m,\u001b[0m \u001b[0;36m2\u001b[0m\u001b[0;34m,\u001b[0m \u001b[0;34m'3'\u001b[0m\u001b[0;34m)\u001b[0m\u001b[0;34m\u001b[0m\u001b[0m\n\u001b[0m",
      "\u001b[0;32m<ipython-input-9-45a18875b039>\u001b[0m in \u001b[0;36msquare_sum\u001b[0;34m(*args)\u001b[0m\n\u001b[1;32m      2\u001b[0m     \u001b[0mtotal_sum\u001b[0m \u001b[0;34m=\u001b[0m \u001b[0;36m0\u001b[0m\u001b[0;34m\u001b[0m\u001b[0m\n\u001b[1;32m      3\u001b[0m     \u001b[0;32mfor\u001b[0m \u001b[0marg\u001b[0m \u001b[0;32min\u001b[0m \u001b[0margs\u001b[0m\u001b[0;34m:\u001b[0m\u001b[0;34m\u001b[0m\u001b[0m\n\u001b[0;32m----> 4\u001b[0;31m         \u001b[0mtotal_sum\u001b[0m \u001b[0;34m+=\u001b[0m \u001b[0marg\u001b[0m\u001b[0;34m**\u001b[0m\u001b[0;36m2\u001b[0m\u001b[0;34m\u001b[0m\u001b[0m\n\u001b[0m\u001b[1;32m      5\u001b[0m \u001b[0;34m\u001b[0m\u001b[0m\n\u001b[1;32m      6\u001b[0m     \u001b[0;32mreturn\u001b[0m \u001b[0mtotal_sum\u001b[0m\u001b[0;34m\u001b[0m\u001b[0m\n",
      "\u001b[0;31mTypeError\u001b[0m: unsupported operand type(s) for ** or pow(): 'str' and 'int'"
     ]
    }
   ],
   "source": [
    "# пытаемся применить к операцию возведения в квадрат к строке\n",
    "# ----> 1 square_sum(1, 2, '3') - в какой функции произошла ошибка\n",
    "# ----> 4         total_sum += arg**2 - в какой именно строке произошла ошибка\n",
    "\n",
    "square_sum(1, 2, '3')"
   ]
  },
  {
   "cell_type": "markdown",
   "metadata": {},
   "source": [
    "## Как сделать, чтобы цикл с расчетом не падал каждый раз"
   ]
  },
  {
   "cell_type": "code",
   "execution_count": null,
   "metadata": {},
   "outputs": [],
   "source": [
    "try:\n",
    "    # ваш код, где может произойти ошибка\n",
    "    float('123a')\n",
    "\n",
    "except:\n",
    "    # код, который выполняется в случае ошибки\n",
    "    "
   ]
  },
  {
   "cell_type": "code",
   "execution_count": 13,
   "metadata": {},
   "outputs": [
    {
     "ename": "ValueError",
     "evalue": "could not convert string to float: '90few'",
     "output_type": "error",
     "traceback": [
      "\u001b[0;31m---------------------------------------------------------------------------\u001b[0m",
      "\u001b[0;31mValueError\u001b[0m                                Traceback (most recent call last)",
      "\u001b[0;32m<ipython-input-13-59fd00a8f04a>\u001b[0m in \u001b[0;36m<module>\u001b[0;34m\u001b[0m\n\u001b[0;32m----> 1\u001b[0;31m \u001b[0mfloat\u001b[0m\u001b[0;34m(\u001b[0m\u001b[0;34m'90few'\u001b[0m\u001b[0;34m)\u001b[0m\u001b[0;34m\u001b[0m\u001b[0m\n\u001b[0m",
      "\u001b[0;31mValueError\u001b[0m: could not convert string to float: '90few'"
     ]
    }
   ],
   "source": [
    "float('90few')"
   ]
  },
  {
   "cell_type": "code",
   "execution_count": 17,
   "metadata": {},
   "outputs": [
    {
     "name": "stdout",
     "output_type": "stream",
     "text": [
      "150.0\n"
     ]
    },
    {
     "ename": "TypeError",
     "evalue": "unsupported operand type(s) for /: 'NoneType' and 'int'",
     "output_type": "error",
     "traceback": [
      "\u001b[0;31m---------------------------------------------------------------------------\u001b[0m",
      "\u001b[0;31mTypeError\u001b[0m                                 Traceback (most recent call last)",
      "\u001b[0;32m<ipython-input-17-1aa60eaa6ac4>\u001b[0m in \u001b[0;36m<module>\u001b[0;34m\u001b[0m\n\u001b[1;32m     11\u001b[0m     \u001b[0;32mtry\u001b[0m\u001b[0;34m:\u001b[0m\u001b[0;34m\u001b[0m\u001b[0m\n\u001b[1;32m     12\u001b[0m         \u001b[0;32mif\u001b[0m \u001b[0mtotal_sum\u001b[0m \u001b[0;34m>\u001b[0m \u001b[0;36m100\u001b[0m\u001b[0;34m:\u001b[0m\u001b[0;34m\u001b[0m\u001b[0m\n\u001b[0;32m---> 13\u001b[0;31m             \u001b[0mprint\u001b[0m\u001b[0;34m(\u001b[0m\u001b[0mtotal_sum\u001b[0m\u001b[0;34m)\u001b[0m \u001b[0;34m/\u001b[0m \u001b[0;36m0\u001b[0m\u001b[0;34m\u001b[0m\u001b[0m\n\u001b[0m\u001b[1;32m     14\u001b[0m     \u001b[0;32mexcept\u001b[0m \u001b[0mZeroDivisionError\u001b[0m\u001b[0;34m:\u001b[0m\u001b[0;34m\u001b[0m\u001b[0m\n\u001b[1;32m     15\u001b[0m         \u001b[0mprint\u001b[0m\u001b[0;34m(\u001b[0m\u001b[0;34m'Ошибка деления на 0. Надо чинить'\u001b[0m\u001b[0;34m)\u001b[0m\u001b[0;34m\u001b[0m\u001b[0m\n",
      "\u001b[0;31mTypeError\u001b[0m: unsupported operand type(s) for /: 'NoneType' and 'int'"
     ]
    }
   ],
   "source": [
    "data = ['90', '60', '90', '240tot']\n",
    "total_sum = 0\n",
    "x = 2\n",
    "\n",
    "for num in data:\n",
    "    try:\n",
    "        total_sum += float(num)\n",
    "    except:\n",
    "        print('Ошибка в данных: {}'.format(num))\n",
    "    \n",
    "    \n",
    "print('Итого', total_sum)"
   ]
  },
  {
   "cell_type": "markdown",
   "metadata": {},
   "source": [
    "Как сохранить всю информацию об ошибке?"
   ]
  },
  {
   "cell_type": "code",
   "execution_count": null,
   "metadata": {
    "scrolled": true
   },
   "outputs": [],
   "source": [
    "# полная версия traceback\n",
    "import traceback\n",
    "\n",
    "try:\n",
    "    float('123fff')\n",
    "\n",
    "except Exception:\n",
    "    print(traceback.print_exc())\n",
    "    \n",
    "print('Проехали')"
   ]
  },
  {
   "cell_type": "markdown",
   "metadata": {},
   "source": [
    "### Блок finally"
   ]
  },
  {
   "cell_type": "code",
   "execution_count": null,
   "metadata": {},
   "outputs": [],
   "source": [
    "try:\n",
    "    pass\n",
    "except:\n",
    "    pass\n",
    "finally:\n",
    "    pass"
   ]
  },
  {
   "cell_type": "code",
   "execution_count": null,
   "metadata": {},
   "outputs": [],
   "source": [
    "try:\n",
    "    pass\n",
    "except:\n",
    "    pass\n",
    "\n",
    "pass"
   ]
  },
  {
   "cell_type": "code",
   "execution_count": null,
   "metadata": {},
   "outputs": [],
   "source": [
    "connection = pymysql.connect(host, user, password)"
   ]
  },
  {
   "cell_type": "code",
   "execution_count": 22,
   "metadata": {},
   "outputs": [
    {
     "name": "stdout",
     "output_type": "stream",
     "text": [
      "1\n",
      "2\n",
      "Эта строчка будет выполнена всегда\n"
     ]
    },
    {
     "ename": "ZeroDivisionError",
     "evalue": "division by zero",
     "output_type": "error",
     "traceback": [
      "\u001b[0;31m---------------------------------------------------------------------------\u001b[0m",
      "\u001b[0;31mZeroDivisionError\u001b[0m                         Traceback (most recent call last)",
      "\u001b[0;32m<ipython-input-22-335b039a0303>\u001b[0m in \u001b[0;36m<module>\u001b[0;34m\u001b[0m\n\u001b[1;32m      2\u001b[0m     \u001b[0mprint\u001b[0m\u001b[0;34m(\u001b[0m\u001b[0;36m1\u001b[0m\u001b[0;34m)\u001b[0m\u001b[0;34m\u001b[0m\u001b[0m\n\u001b[0;32m----> 3\u001b[0;31m     \u001b[0;36m1\u001b[0m \u001b[0;34m/\u001b[0m \u001b[0;36m0\u001b[0m\u001b[0;34m\u001b[0m\u001b[0m\n\u001b[0m\u001b[1;32m      4\u001b[0m \u001b[0;34m\u001b[0m\u001b[0m\n",
      "\u001b[0;31mZeroDivisionError\u001b[0m: division by zero",
      "\nDuring handling of the above exception, another exception occurred:\n",
      "\u001b[0;31mZeroDivisionError\u001b[0m                         Traceback (most recent call last)",
      "\u001b[0;32m<ipython-input-22-335b039a0303>\u001b[0m in \u001b[0;36m<module>\u001b[0;34m\u001b[0m\n\u001b[1;32m      5\u001b[0m \u001b[0;32mexcept\u001b[0m\u001b[0;34m:\u001b[0m\u001b[0;34m\u001b[0m\u001b[0m\n\u001b[1;32m      6\u001b[0m     \u001b[0mprint\u001b[0m\u001b[0;34m(\u001b[0m\u001b[0;36m2\u001b[0m\u001b[0;34m)\u001b[0m\u001b[0;34m\u001b[0m\u001b[0m\n\u001b[0;32m----> 7\u001b[0;31m     \u001b[0;36m1\u001b[0m \u001b[0;34m/\u001b[0m \u001b[0;36m0\u001b[0m\u001b[0;34m\u001b[0m\u001b[0m\n\u001b[0m\u001b[1;32m      8\u001b[0m \u001b[0;34m\u001b[0m\u001b[0m\n\u001b[1;32m      9\u001b[0m \u001b[0;32mfinally\u001b[0m\u001b[0;34m:\u001b[0m\u001b[0;34m\u001b[0m\u001b[0m\n",
      "\u001b[0;31mZeroDivisionError\u001b[0m: division by zero"
     ]
    }
   ],
   "source": [
    "try:\n",
    "    print(1)\n",
    "    1 / 0\n",
    "    \n",
    "except:\n",
    "    print(2)\n",
    "    1 / 0\n",
    "    \n",
    "finally:\n",
    "    print('Эта строчка будет выполнена всегда')"
   ]
  },
  {
   "cell_type": "code",
   "execution_count": null,
   "metadata": {},
   "outputs": [],
   "source": [
    "connection.close()"
   ]
  },
  {
   "cell_type": "markdown",
   "metadata": {},
   "source": [
    "### Более жизненный пример"
   ]
  },
  {
   "cell_type": "code",
   "execution_count": 1,
   "metadata": {},
   "outputs": [],
   "source": [
    "from datetime import datetime"
   ]
  },
  {
   "cell_type": "code",
   "execution_count": 10,
   "metadata": {},
   "outputs": [],
   "source": [
    "DATE_FORMATS = ['%d.%m.%y %H:%M', '%d.%m.%YT %H:%M:%S', '123']"
   ]
  },
  {
   "cell_type": "code",
   "execution_count": 12,
   "metadata": {},
   "outputs": [],
   "source": [
    "def make_date(datetime_):\n",
    "    for format_ in DATE_FORMATS:\n",
    "        try:\n",
    "            return datetime.strptime(datetime_, format_)\n",
    "        except:\n",
    "            pass\n",
    "        \n",
    "    raise ValueError('Неизвестный формат даты')"
   ]
  },
  {
   "cell_type": "code",
   "execution_count": 5,
   "metadata": {},
   "outputs": [
    {
     "data": {
      "text/plain": [
       "datetime.datetime(2016, 10, 9, 21, 40)"
      ]
     },
     "execution_count": 5,
     "metadata": {},
     "output_type": "execute_result"
    }
   ],
   "source": [
    "datetime.strptime('09.10.2016T 21:40:00', '%d.%m.%YT %H:%M:%S')"
   ]
  },
  {
   "cell_type": "code",
   "execution_count": 14,
   "metadata": {},
   "outputs": [
    {
     "data": {
      "text/plain": [
       "31.439999999999998"
      ]
     },
     "execution_count": 14,
     "metadata": {},
     "output_type": "execute_result"
    }
   ],
   "source": [
    "10.87 + 20.57"
   ]
  },
  {
   "cell_type": "code",
   "execution_count": 18,
   "metadata": {},
   "outputs": [
    {
     "data": {
      "text/plain": [
       "11"
      ]
     },
     "execution_count": 18,
     "metadata": {},
     "output_type": "execute_result"
    }
   ],
   "source": [
    "int((10.87 + 1/3) * 10**6) //10**6"
   ]
  },
  {
   "cell_type": "code",
   "execution_count": null,
   "metadata": {},
   "outputs": [],
   "source": [
    "11.47"
   ]
  },
  {
   "cell_type": "code",
   "execution_count": 13,
   "metadata": {},
   "outputs": [
    {
     "name": "stdout",
     "output_type": "stream",
     "text": [
      "05.10.16 23:18\t1010\t20,2\n",
      "\n",
      "09.10.2016T 21:40:00\t1036\t15,6\n",
      "\n",
      "01.10.16 4:57\t1042\t14,8\n",
      "\n",
      "01.10.16 23:29\t1042\t14,4\n",
      "\n",
      "03.10.16 20:20\t1042\t14\n",
      "\n",
      "04.10.16 0:35\t1042\t20\n",
      "\n",
      "04.10.16 13:46\t1042\t16,2\n",
      "\n",
      "04.10.16 17:34\t1042\t11\n",
      "\n",
      "05.10.16 15:15\t1042\t10800000\n",
      "\n",
      "06.10.16 20:45\t1042\t22,6\n",
      "\n",
      "07.10.16 2:54\t1042\t22,4\n",
      "\n",
      "07.10.16 5:02\t1042\t24,4\n",
      "\n",
      "07.10.16 6:35\t1042\t16,6\n",
      "\n",
      "08.10.2016T 16:46:00\t1042\t8,6\n",
      "\n",
      "07.10.16 9:59\t1052\t24\n",
      "\n",
      "08.10.2016T 19:36:00\t1052\t18,8\n",
      "\n",
      "09.10.2016T 16:27:00\t1062\t11,2\n",
      "\n",
      "05.10.16 4:38\t1067\t19\n",
      "\n",
      "04.10.16 9:56\t1078\t23,4\n",
      "\n",
      "04.10.16 14:36\t1085\t17\n",
      "\n",
      "05.10.16 16:41\t1096\t20,8\n",
      "\n",
      "01.10.16 11:55\t1098\t15,6\n",
      "\n",
      "07.10.16 9:06\t1105\t16,2\n",
      "\n",
      "01.10.16 4:30\t1108\t17,8\n",
      "\n",
      "01.10.16 18:16\t1108\t18,8\n",
      "\n",
      "02.10.16 2:58\t1108\t20000000\n",
      "\n",
      "02.10.16 6:01\t1108\t21\n",
      "\n",
      "02.10.16 20:03\t1108\t16,6\n",
      "\n",
      "04.10.16 2:56\t1108\t20\n",
      "\n",
      "04.10.16 6:57\t1108\t19,8\n",
      "\n",
      "06.10.16 6:46\t1108\t16,8\n",
      "\n",
      "09.10.2016T 8:33:00\t1108\t24000000\n",
      "\n",
      "08.10.2016T 8:02:00\t1111\t12\n",
      "\n",
      "05.10.16 5:25\t1112\t10,2\n",
      "\n",
      "09.10.2016T 0:03:00\t1112\t24\n",
      "\n",
      "06.10.16 10:09\t1113\t15,8\n",
      "\n",
      "09.10.2016T 12:09:00\t1113\t22\n",
      "\n",
      "05.10.16 18:00\t1114\t17,4\n",
      "\n",
      "06.10.16 17:58\t1114\t14,8\n",
      "\n",
      "05.10.16 23:19\t1116\t20\n",
      "\n",
      "01.10.16 23:13\t1118\t11,6\n",
      "\n",
      "09.10.2016T 21:14:00\t1118\t20\n",
      "\n",
      "05.10.16 16:30\t1123\t16\n",
      "\n",
      "06.10.16 5:27\t1123\t11,2\n",
      "\n",
      "01.10.16 17:46\t1128\t12,2\n",
      "\n",
      "01.10.16 22:28\t1136\t21,6\n",
      "\n",
      "03.10.16 23:03\t1136\t17,4\n",
      "\n",
      "03.10.16 8:06\t1140\t22\n",
      "\n",
      "04.10.16 10:01\t1140\t22\n",
      "\n",
      "01.10.16 16:53\t1141\t16\n",
      "\n",
      "05.10.16 3:31\t1145\t16\n",
      "\n",
      "06.10.16 4:00\t1145\t20\n",
      "\n",
      "02.10.16 8:08\t1149\t10\n",
      "\n",
      "07.10.16 16:12\t1149\t21,2\n",
      "\n",
      "08.10.2016T 6:55:00\t1149\t30,4\n",
      "\n",
      "08.10.2016T 22:55:00\t1149\t18800000\n",
      "\n",
      "09.10.2016T 4:10:00\t1149\t14\n",
      "\n",
      "09.10.2016T 10:26:00\t1149\t22\n",
      "\n",
      "09.10.2016T 22:22:00\t1149\t16\n",
      "\n",
      "07.10.16 6:57\t1150\t12,6\n",
      "\n",
      "02.10.16 12:03\t1154\t13,4\n",
      "\n",
      "04.10.16 22:51\t1154\t13,6\n",
      "\n",
      "04.10.16 9:28\t1159\t10,2\n",
      "\n",
      "04.10.16 13:34\t1159\t17,4\n",
      "\n",
      "08.10.2016T 9:43:00\t1164\t22,4\n",
      "\n",
      "07.10.16 14:57\t1167\t11,4\n",
      "\n",
      "07.10.16 20:25\t1175\t14\n",
      "\n",
      "06.10.16 12:48\t1181\t22,4\n",
      "\n",
      "07.10.16 9:54\t1182\t18\n",
      "\n",
      "10.10.16 2:35\t1182\t17\n",
      "\n",
      "04.10.16 13:49\t1193\t24800000\n",
      "\n",
      "09.10.2016T 20:49:00\t1193\t16,6\n",
      "\n",
      "01.10.16 5:12\t1198\t17,8\n",
      "\n",
      "06.10.16 7:52\t1198\t9\n",
      "\n",
      "06.10.16 5:15\t1201\t10,6\n",
      "\n",
      "01.10.16 16:10\t1207\t16,6\n",
      "\n",
      "02.10.16 1:24\t1207\t24,2\n",
      "\n",
      "02.10.16 21:17\t1207\t20,4\n",
      "\n",
      "03.10.16 16:08\t1207\t25,6\n",
      "\n",
      "04.10.16 17:29\t1207\t19,8\n",
      "\n",
      "05.10.16 1:39\t1207\t16,4\n",
      "\n",
      "05.10.16 6:33\t1207\t16,2\n",
      "\n",
      "05.10.16 18:57\t1207\t17\n",
      "\n",
      "05.10.16 20:51\t1207\t16,8\n",
      "\n",
      "07.10.16 8:55\t1207\t19,8\n",
      "\n",
      "07.10.16 17:40\t1207\t15,6\n",
      "\n",
      "08.10.2016T 23:36:00\t1207\t19,2\n",
      "\n",
      "09.10.2016T 10:25:00\t1207\t23,2\n",
      "\n",
      "09.10.2016T 21:04:00\t1207\t10,8\n",
      "\n",
      "04.10.16 7:38\t1208\t24,4\n",
      "\n",
      "09.10.2016T 14:53:00\t1208\t13,4\n",
      "\n",
      "05.10.16 17:15\t1209\t12\n",
      "\n",
      "03.10.16 6:16\t1213\t18,6\n",
      "\n",
      "06.10.16 10:04\t1213\t16,6\n",
      "\n",
      "01.10.16 16:52\t1218\t12200000\n",
      "\n",
      "09.10.2016T 19:10:00\t1218\t22400000\n",
      "\n",
      "02.10.16 8:42\t1219\t15,4\n",
      "\n",
      "03.10.16 19:32\t1223\t17,2\n",
      "\n",
      "06.10.16 22:11\t1223\t17600000\n",
      "\n",
      "08.10.2016T 15:18:00\t1224\t16,4\n",
      "\n",
      "07.10.16 18:32\t1228\t18,8\n",
      "\n",
      "08.10.2016T 13:21:00\t1228\t17,6\n",
      "\n",
      "03.10.16 15:47\t1230\t20,6\n",
      "\n",
      "02.10.16 22:01\t1236\t17,4\n",
      "\n",
      "05.10.16 5:27\t1238\t13,6\n",
      "\n",
      "09.10.2016T 14:43:00\t1238\t17,6\n",
      "\n",
      "04.10.16 22:25\t1242\t18,4\n",
      "\n",
      "06.10.16 4:54\t1243\t20,4\n",
      "\n",
      "06.10.16 14:28\t1243\t20\n",
      "\n",
      "01.10.16 4:27\t1246\t17,8\n",
      "\n",
      "01.10.16 16:30\t1248\t13,2\n",
      "\n",
      "01.10.16 21:06\t1248\t28,8\n",
      "\n",
      "02.10.16 7:12\t1252\t22\n",
      "\n",
      "04.10.16 13:51\t1252\t15,6\n",
      "\n",
      "01.10.16 12:36\t1253\t13,6\n",
      "\n",
      "04.10.16 17:11\t1253\t8,6\n",
      "\n",
      "02.10.16 16:22\t1258\t22\n",
      "\n",
      "08.10.2016T 19:34:00\t1258\t20\n",
      "\n",
      "02.10.16 10:36\t1263\t12,6\n",
      "\n",
      "03.10.16 6:10\t1263\t18\n",
      "\n",
      "05.10.16 2:48\t1268\t16,4\n",
      "\n",
      "07.10.16 19:36\t1268\t16\n",
      "\n",
      "02.10.16 14:12\t1269\t22\n",
      "\n",
      "07.10.16 3:29\t1270\t21,8\n",
      "\n",
      "01.10.16 8:56\t1273\t14,6\n",
      "\n",
      "08.10.2016T 13:49:00\t1273\t22\n",
      "\n",
      "07.10.16 6:00\t1274\t25\n",
      "\n",
      "04.10.16 13:47\t1278\t15,6\n",
      "\n",
      "07.10.16 6:42\t1278\t17,8\n",
      "\n",
      "08.10.2016T 3:24:00\t1279\t14,8\n",
      "\n",
      "03.10.16 1:03\t1281\t18,2\n",
      "\n",
      "02.10.16 6:11\t1283\t12,6\n",
      "\n",
      "02.10.16 19:24\t1283\t11,8\n",
      "\n",
      "07.10.16 13:37\t1288\t16\n",
      "\n",
      "08.10.2016T 19:46:00\t1288\t30,4\n",
      "\n",
      "07.10.16 2:41\t1291\t13,4\n",
      "\n",
      "01.10.16 17:29\t1293\t18,4\n",
      "\n",
      "02.10.16 20:12\t1293\t20\n",
      "\n",
      "02.10.16 23:36\t1294\t17\n",
      "\n",
      "07.10.16 10:32\t1296\t26\n",
      "\n",
      "03.10.16 20:41\t1298\t21\n",
      "\n",
      "03.10.16 22:35\t1298\t19,4\n",
      "\n",
      "05.10.16 12:19\t1298\t16\n",
      "\n",
      "02.10.16 11:43\t1300\t12,8\n",
      "\n",
      "03.10.16 23:18\t1300\t14\n",
      "\n",
      "03.10.16 18:28\t1302\t21800000\n",
      "\n",
      "02.10.16 8:06\t1303\t11,8\n",
      "\n",
      "06.10.16 6:23\t1303\t25,8\n",
      "\n",
      "03.10.16 10:42\t1308\t18\n",
      "\n",
      "06.10.16 18:52\t1308\t10,2\n",
      "\n",
      "06.10.16 16:16\t1313\t12\n",
      "\n",
      "08.10.2016T 18:12:00\t1313\t13,8\n",
      "\n",
      "02.10.16 14:04\t1315\t16,6\n",
      "\n",
      "06.10.16 17:08\t1320\t18\n",
      "\n",
      "09.10.2016T 2:35:00\t1323\t16\n",
      "\n",
      "09.10.2016T 10:08:00\t1323\t28,6\n",
      "\n",
      "05.10.16 7:29\t1328\t18,4\n",
      "\n",
      "05.10.16 11:58\t1328\t18,8\n",
      "\n",
      "03.10.16 0:36\t1330\t17,8\n",
      "\n",
      "09.10.2016T 2:08:00\t1331\t16,8\n",
      "\n",
      "03.10.16 2:19\t1332\t19,4\n",
      "\n",
      "04.10.16 22:01\t1333\t20\n",
      "\n",
      "08.10.2016T 3:48:00\t1334\t16\n",
      "\n",
      "03.10.16 1:32\t1343\t22\n",
      "\n",
      "08.10.2016T 4:34:00\t1350\t12800000\n",
      "\n",
      "04.10.16 4:09\t1351\t20\n",
      "\n",
      "06.10.16 19:09\t1353\t17,4\n",
      "\n",
      "03.10.16 1:30\t1354\t15,6\n",
      "\n",
      "02.10.16 23:30\t1355\t22\n",
      "\n",
      "08.10.2016T 6:50:00\t1359\t14,4\n",
      "\n",
      "02.10.16 13:33\t1362\t12,2\n",
      "\n",
      "05.10.16 21:36\t1363\t12,2\n",
      "\n",
      "04.10.16 22:06\t1364\t20\n",
      "\n",
      "01.10.16 5:29\t1366\t13000000\n",
      "\n",
      "07.10.16 9:40\t1367\t22,4\n",
      "\n",
      "04.10.16 7:31\t1371\t13,6\n",
      "\n",
      "04.10.16 1:36\t1372\t30,4\n",
      "\n",
      "07.10.16 17:25\t1374\t12,4\n",
      "\n",
      "05.10.16 23:06\t1377\t16\n",
      "\n",
      "06.10.16 14:29\t1380\t30,4\n",
      "\n",
      "09.10.2016T 4:55:00\t1382\t23,2\n",
      "\n",
      "05.10.16 21:24\t1383\t20\n",
      "\n",
      "05.10.16 8:14\t1386\t12,6\n",
      "\n",
      "03.10.16 11:43\t1387\t14,6\n",
      "\n",
      "01.10.16 6:21\t1388\t11,8\n",
      "\n",
      "03.10.16 6:03\t1392\t20,2\n",
      "\n",
      "06.10.16 5:34\t1393\t10\n",
      "\n",
      "04.10.16 23:55\t1394\t12,8\n",
      "\n",
      "05.10.16 5:01\t1397\t20,6\n",
      "\n",
      "05.10.16 22:54\t1398\t18\n",
      "\n"
     ]
    }
   ],
   "source": [
    "with open('real_data.txt', 'r') as f:\n",
    "    for line in f:\n",
    "        if len(line.strip().split('\\t')) == 3:\n",
    "            print(line)\n",
    "            datetime_, user_id, revenue = line.strip().split('\\t')\n",
    "            datetime_ = make_date(datetime_)"
   ]
  },
  {
   "cell_type": "markdown",
   "metadata": {},
   "source": [
    "Чем прекрасен этот файл:\n",
    "1. Даты имеют разный формат: за 8 и 9 октября формат с \"09.10.2016 21:40\" сменился на \"09.10.2016T 21:40:00\" (добавилась буква T и секунды). Разработчики объяснили этот тем, что сбились настройки после обновления одной из баз данных.\n",
    "2. У покупок некоторых пользователей неизвестно значение выручки, из-за чего количество столбцов в строке уменьшается на один.\n",
    "3. У некоторых строк реальная сумма покупки умножена на миллион. Так иногда действительно делают, чтобы избежать дробных чисел и работать только с целыми."
   ]
  },
  {
   "cell_type": "markdown",
   "metadata": {},
   "source": [
    "Необходимо посчитать сумму выручки из третьего столбца."
   ]
  },
  {
   "cell_type": "code",
   "execution_count": null,
   "metadata": {},
   "outputs": [],
   "source": []
  },
  {
   "cell_type": "code",
   "execution_count": 19,
   "metadata": {},
   "outputs": [],
   "source": [
    "import requests"
   ]
  },
  {
   "cell_type": "markdown",
   "metadata": {},
   "source": [
    "# Wifi"
   ]
  },
  {
   "cell_type": "markdown",
   "metadata": {},
   "source": [
    "# Алгоритм экспоненциальной задержки"
   ]
  },
  {
   "cell_type": "code",
   "execution_count": 24,
   "metadata": {},
   "outputs": [],
   "source": [
    "def exchange_rates(host, timeout):\n",
    "    return requests.get(f'{host}/daily_json.js', timeout=timeout).json()"
   ]
  },
  {
   "cell_type": "markdown",
   "metadata": {},
   "source": [
    "# Кратковременная ошибка\n",
    "Wifi"
   ]
  },
  {
   "cell_type": "markdown",
   "metadata": {},
   "source": [
    "# Серьезная ошибка\n",
    "Недоступен сервис 99.9%\n",
    "\n",
    "365 - 8 часов"
   ]
  },
  {
   "cell_type": "code",
   "execution_count": 30,
   "metadata": {},
   "outputs": [],
   "source": [
    "import time"
   ]
  },
  {
   "cell_type": "code",
   "execution_count": 31,
   "metadata": {},
   "outputs": [],
   "source": [
    "time.sleep(5)"
   ]
  },
  {
   "cell_type": "code",
   "execution_count": 36,
   "metadata": {},
   "outputs": [
    {
     "data": {
      "text/plain": [
       "1024"
      ]
     },
     "execution_count": 36,
     "metadata": {},
     "output_type": "execute_result"
    }
   ],
   "source": [
    "2**10"
   ]
  },
  {
   "cell_type": "code",
   "execution_count": 39,
   "metadata": {},
   "outputs": [
    {
     "name": "stdout",
     "output_type": "stream",
     "text": [
      "{'Date': '2021-03-20T11:30:00+03:00', 'PreviousDate': '2021-03-19T11:30:00+03:00', 'PreviousURL': '//www.cbr-xml-daily.ru/archive/2021/03/19/daily_json.js', 'Timestamp': '2021-03-19T20:00:00+03:00', 'Valute': {'AUD': {'ID': 'R01010', 'NumCode': '036', 'CharCode': 'AUD', 'Nominal': 1, 'Name': 'Австралийский доллар', 'Value': 57.5541, 'Previous': 57.6007}, 'AZN': {'ID': 'R01020A', 'NumCode': '944', 'CharCode': 'AZN', 'Nominal': 1, 'Name': 'Азербайджанский манат', 'Value': 43.6368, 'Previous': 43.3539}, 'GBP': {'ID': 'R01035', 'NumCode': '826', 'CharCode': 'GBP', 'Nominal': 1, 'Name': 'Фунт стерлингов Соединенного королевства', 'Value': 103.3424, 'Previous': 102.8858}, 'AMD': {'ID': 'R01060', 'NumCode': '051', 'CharCode': 'AMD', 'Nominal': 100, 'Name': 'Армянских драмов', 'Value': 14.0481, 'Previous': 13.957}, 'BYN': {'ID': 'R01090B', 'NumCode': '933', 'CharCode': 'BYN', 'Nominal': 1, 'Name': 'Белорусский рубль', 'Value': 28.5611, 'Previous': 28.3246}, 'BGN': {'ID': 'R01100', 'NumCode': '975', 'CharCode': 'BGN', 'Nominal': 1, 'Name': 'Болгарский лев', 'Value': 45.2067, 'Previous': 45.0123}, 'BRL': {'ID': 'R01115', 'NumCode': '986', 'CharCode': 'BRL', 'Nominal': 1, 'Name': 'Бразильский реал', 'Value': 13.3332, 'Previous': 13.1893}, 'HUF': {'ID': 'R01135', 'NumCode': '348', 'CharCode': 'HUF', 'Nominal': 100, 'Name': 'Венгерских форинтов', 'Value': 24.0294, 'Previous': 23.9956}, 'HKD': {'ID': 'R01200', 'NumCode': '344', 'CharCode': 'HKD', 'Nominal': 10, 'Name': 'Гонконгских долларов', 'Value': 95.4575, 'Previous': 94.858}, 'DKK': {'ID': 'R01215', 'NumCode': '208', 'CharCode': 'DKK', 'Nominal': 1, 'Name': 'Датская крона', 'Value': 11.8908, 'Previous': 11.8403}, 'USD': {'ID': 'R01235', 'NumCode': '840', 'CharCode': 'USD', 'Nominal': 1, 'Name': 'Доллар США', 'Value': 74.139, 'Previous': 73.6582}, 'EUR': {'ID': 'R01239', 'NumCode': '978', 'CharCode': 'EUR', 'Nominal': 1, 'Name': 'Евро', 'Value': 88.433, 'Previous': 88.1173}, 'INR': {'ID': 'R01270', 'NumCode': '356', 'CharCode': 'INR', 'Nominal': 10, 'Name': 'Индийских рупий', 'Value': 10.228, 'Previous': 10.1531}, 'KZT': {'ID': 'R01335', 'NumCode': '398', 'CharCode': 'KZT', 'Nominal': 100, 'Name': 'Казахстанских тенге', 'Value': 17.5998, 'Previous': 17.5753}, 'CAD': {'ID': 'R01350', 'NumCode': '124', 'CharCode': 'CAD', 'Nominal': 1, 'Name': 'Канадский доллар', 'Value': 59.4348, 'Previous': 59.4305}, 'KGS': {'ID': 'R01370', 'NumCode': '417', 'CharCode': 'KGS', 'Nominal': 100, 'Name': 'Киргизских сомов', 'Value': 87.4, 'Previous': 86.8353}, 'CNY': {'ID': 'R01375', 'NumCode': '156', 'CharCode': 'CNY', 'Nominal': 1, 'Name': 'Китайский юань', 'Value': 11.3988, 'Previous': 11.3282}, 'MDL': {'ID': 'R01500', 'NumCode': '498', 'CharCode': 'MDL', 'Nominal': 10, 'Name': 'Молдавских леев', 'Value': 41.6161, 'Previous': 41.4276}, 'NOK': {'ID': 'R01535', 'NumCode': '578', 'CharCode': 'NOK', 'Nominal': 10, 'Name': 'Норвежских крон', 'Value': 87.3333, 'Previous': 87.3359}, 'PLN': {'ID': 'R01565', 'NumCode': '985', 'CharCode': 'PLN', 'Nominal': 1, 'Name': 'Польский злотый', 'Value': 19.145, 'Previous': 19.1112}, 'RON': {'ID': 'R01585F', 'NumCode': '946', 'CharCode': 'RON', 'Nominal': 1, 'Name': 'Румынский лей', 'Value': 18.0955, 'Previous': 18.0177}, 'XDR': {'ID': 'R01589', 'NumCode': '960', 'CharCode': 'XDR', 'Nominal': 1, 'Name': 'СДР (специальные права заимствования)', 'Value': 105.9995, 'Previous': 105.1228}, 'SGD': {'ID': 'R01625', 'NumCode': '702', 'CharCode': 'SGD', 'Nominal': 1, 'Name': 'Сингапурский доллар', 'Value': 55.2369, 'Previous': 54.8746}, 'TJS': {'ID': 'R01670', 'NumCode': '972', 'CharCode': 'TJS', 'Nominal': 10, 'Name': 'Таджикских сомони', 'Value': 65.0342, 'Previous': 64.6408}, 'TRY': {'ID': 'R01700J', 'NumCode': '949', 'CharCode': 'TRY', 'Nominal': 1, 'Name': 'Турецкая лира', 'Value': 10.213, 'Previous': 98.2463}, 'TMT': {'ID': 'R01710A', 'NumCode': '934', 'CharCode': 'TMT', 'Nominal': 1, 'Name': 'Новый туркменский манат', 'Value': 21.2129, 'Previous': 21.0753}, 'UZS': {'ID': 'R01717', 'NumCode': '860', 'CharCode': 'UZS', 'Nominal': 10000, 'Name': 'Узбекских сумов', 'Value': 70.5148, 'Previous': 69.9931}, 'UAH': {'ID': 'R01720', 'NumCode': '980', 'CharCode': 'UAH', 'Nominal': 10, 'Name': 'Украинских гривен', 'Value': 26.7543, 'Previous': 26.6058}, 'CZK': {'ID': 'R01760', 'NumCode': '203', 'CharCode': 'CZK', 'Nominal': 10, 'Name': 'Чешских крон', 'Value': 33.838, 'Previous': 33.6654}, 'SEK': {'ID': 'R01770', 'NumCode': '752', 'CharCode': 'SEK', 'Nominal': 10, 'Name': 'Шведских крон', 'Value': 87.1844, 'Previous': 86.8959}, 'CHF': {'ID': 'R01775', 'NumCode': '756', 'CharCode': 'CHF', 'Nominal': 1, 'Name': 'Швейцарский франк', 'Value': 80.0205, 'Previous': 79.6219}, 'ZAR': {'ID': 'R01810', 'NumCode': '710', 'CharCode': 'ZAR', 'Nominal': 10, 'Name': 'Южноафриканских рэндов', 'Value': 50.5464, 'Previous': 50.2039}, 'KRW': {'ID': 'R01815', 'NumCode': '410', 'CharCode': 'KRW', 'Nominal': 1000, 'Name': 'Вон Республики Корея', 'Value': 65.6553, 'Previous': 65.4987}, 'JPY': {'ID': 'R01820', 'NumCode': '392', 'CharCode': 'JPY', 'Nominal': 100, 'Name': 'Японских иен', 'Value': 68.2208, 'Previous': 67.4835}}}\n"
     ]
    }
   ],
   "source": [
    "for i in range(5):\n",
    "    try:\n",
    "        data = exchange_rates('https://www.cbr-xml-daily.ru', 300)\n",
    "    except:\n",
    "        print('Неудачная попытка, жду секунд', 2**i)\n",
    "        time.sleep(2**i)\n",
    "        \n",
    "print(data)"
   ]
  },
  {
   "cell_type": "code",
   "execution_count": null,
   "metadata": {},
   "outputs": [],
   "source": []
  },
  {
   "cell_type": "code",
   "execution_count": 23,
   "metadata": {},
   "outputs": [
    {
     "data": {
      "text/plain": [
       "{'Date': '2021-03-20T11:30:00+03:00',\n",
       " 'PreviousDate': '2021-03-19T11:30:00+03:00',\n",
       " 'PreviousURL': '//www.cbr-xml-daily.ru/archive/2021/03/19/daily_json.js',\n",
       " 'Timestamp': '2021-03-19T20:00:00+03:00',\n",
       " 'Valute': {'AUD': {'ID': 'R01010',\n",
       "   'NumCode': '036',\n",
       "   'CharCode': 'AUD',\n",
       "   'Nominal': 1,\n",
       "   'Name': 'Австралийский доллар',\n",
       "   'Value': 57.5541,\n",
       "   'Previous': 57.6007},\n",
       "  'AZN': {'ID': 'R01020A',\n",
       "   'NumCode': '944',\n",
       "   'CharCode': 'AZN',\n",
       "   'Nominal': 1,\n",
       "   'Name': 'Азербайджанский манат',\n",
       "   'Value': 43.6368,\n",
       "   'Previous': 43.3539},\n",
       "  'GBP': {'ID': 'R01035',\n",
       "   'NumCode': '826',\n",
       "   'CharCode': 'GBP',\n",
       "   'Nominal': 1,\n",
       "   'Name': 'Фунт стерлингов Соединенного королевства',\n",
       "   'Value': 103.3424,\n",
       "   'Previous': 102.8858},\n",
       "  'AMD': {'ID': 'R01060',\n",
       "   'NumCode': '051',\n",
       "   'CharCode': 'AMD',\n",
       "   'Nominal': 100,\n",
       "   'Name': 'Армянских драмов',\n",
       "   'Value': 14.0481,\n",
       "   'Previous': 13.957},\n",
       "  'BYN': {'ID': 'R01090B',\n",
       "   'NumCode': '933',\n",
       "   'CharCode': 'BYN',\n",
       "   'Nominal': 1,\n",
       "   'Name': 'Белорусский рубль',\n",
       "   'Value': 28.5611,\n",
       "   'Previous': 28.3246},\n",
       "  'BGN': {'ID': 'R01100',\n",
       "   'NumCode': '975',\n",
       "   'CharCode': 'BGN',\n",
       "   'Nominal': 1,\n",
       "   'Name': 'Болгарский лев',\n",
       "   'Value': 45.2067,\n",
       "   'Previous': 45.0123},\n",
       "  'BRL': {'ID': 'R01115',\n",
       "   'NumCode': '986',\n",
       "   'CharCode': 'BRL',\n",
       "   'Nominal': 1,\n",
       "   'Name': 'Бразильский реал',\n",
       "   'Value': 13.3332,\n",
       "   'Previous': 13.1893},\n",
       "  'HUF': {'ID': 'R01135',\n",
       "   'NumCode': '348',\n",
       "   'CharCode': 'HUF',\n",
       "   'Nominal': 100,\n",
       "   'Name': 'Венгерских форинтов',\n",
       "   'Value': 24.0294,\n",
       "   'Previous': 23.9956},\n",
       "  'HKD': {'ID': 'R01200',\n",
       "   'NumCode': '344',\n",
       "   'CharCode': 'HKD',\n",
       "   'Nominal': 10,\n",
       "   'Name': 'Гонконгских долларов',\n",
       "   'Value': 95.4575,\n",
       "   'Previous': 94.858},\n",
       "  'DKK': {'ID': 'R01215',\n",
       "   'NumCode': '208',\n",
       "   'CharCode': 'DKK',\n",
       "   'Nominal': 1,\n",
       "   'Name': 'Датская крона',\n",
       "   'Value': 11.8908,\n",
       "   'Previous': 11.8403},\n",
       "  'USD': {'ID': 'R01235',\n",
       "   'NumCode': '840',\n",
       "   'CharCode': 'USD',\n",
       "   'Nominal': 1,\n",
       "   'Name': 'Доллар США',\n",
       "   'Value': 74.139,\n",
       "   'Previous': 73.6582},\n",
       "  'EUR': {'ID': 'R01239',\n",
       "   'NumCode': '978',\n",
       "   'CharCode': 'EUR',\n",
       "   'Nominal': 1,\n",
       "   'Name': 'Евро',\n",
       "   'Value': 88.433,\n",
       "   'Previous': 88.1173},\n",
       "  'INR': {'ID': 'R01270',\n",
       "   'NumCode': '356',\n",
       "   'CharCode': 'INR',\n",
       "   'Nominal': 10,\n",
       "   'Name': 'Индийских рупий',\n",
       "   'Value': 10.228,\n",
       "   'Previous': 10.1531},\n",
       "  'KZT': {'ID': 'R01335',\n",
       "   'NumCode': '398',\n",
       "   'CharCode': 'KZT',\n",
       "   'Nominal': 100,\n",
       "   'Name': 'Казахстанских тенге',\n",
       "   'Value': 17.5998,\n",
       "   'Previous': 17.5753},\n",
       "  'CAD': {'ID': 'R01350',\n",
       "   'NumCode': '124',\n",
       "   'CharCode': 'CAD',\n",
       "   'Nominal': 1,\n",
       "   'Name': 'Канадский доллар',\n",
       "   'Value': 59.4348,\n",
       "   'Previous': 59.4305},\n",
       "  'KGS': {'ID': 'R01370',\n",
       "   'NumCode': '417',\n",
       "   'CharCode': 'KGS',\n",
       "   'Nominal': 100,\n",
       "   'Name': 'Киргизских сомов',\n",
       "   'Value': 87.4,\n",
       "   'Previous': 86.8353},\n",
       "  'CNY': {'ID': 'R01375',\n",
       "   'NumCode': '156',\n",
       "   'CharCode': 'CNY',\n",
       "   'Nominal': 1,\n",
       "   'Name': 'Китайский юань',\n",
       "   'Value': 11.3988,\n",
       "   'Previous': 11.3282},\n",
       "  'MDL': {'ID': 'R01500',\n",
       "   'NumCode': '498',\n",
       "   'CharCode': 'MDL',\n",
       "   'Nominal': 10,\n",
       "   'Name': 'Молдавских леев',\n",
       "   'Value': 41.6161,\n",
       "   'Previous': 41.4276},\n",
       "  'NOK': {'ID': 'R01535',\n",
       "   'NumCode': '578',\n",
       "   'CharCode': 'NOK',\n",
       "   'Nominal': 10,\n",
       "   'Name': 'Норвежских крон',\n",
       "   'Value': 87.3333,\n",
       "   'Previous': 87.3359},\n",
       "  'PLN': {'ID': 'R01565',\n",
       "   'NumCode': '985',\n",
       "   'CharCode': 'PLN',\n",
       "   'Nominal': 1,\n",
       "   'Name': 'Польский злотый',\n",
       "   'Value': 19.145,\n",
       "   'Previous': 19.1112},\n",
       "  'RON': {'ID': 'R01585F',\n",
       "   'NumCode': '946',\n",
       "   'CharCode': 'RON',\n",
       "   'Nominal': 1,\n",
       "   'Name': 'Румынский лей',\n",
       "   'Value': 18.0955,\n",
       "   'Previous': 18.0177},\n",
       "  'XDR': {'ID': 'R01589',\n",
       "   'NumCode': '960',\n",
       "   'CharCode': 'XDR',\n",
       "   'Nominal': 1,\n",
       "   'Name': 'СДР (специальные права заимствования)',\n",
       "   'Value': 105.9995,\n",
       "   'Previous': 105.1228},\n",
       "  'SGD': {'ID': 'R01625',\n",
       "   'NumCode': '702',\n",
       "   'CharCode': 'SGD',\n",
       "   'Nominal': 1,\n",
       "   'Name': 'Сингапурский доллар',\n",
       "   'Value': 55.2369,\n",
       "   'Previous': 54.8746},\n",
       "  'TJS': {'ID': 'R01670',\n",
       "   'NumCode': '972',\n",
       "   'CharCode': 'TJS',\n",
       "   'Nominal': 10,\n",
       "   'Name': 'Таджикских сомони',\n",
       "   'Value': 65.0342,\n",
       "   'Previous': 64.6408},\n",
       "  'TRY': {'ID': 'R01700J',\n",
       "   'NumCode': '949',\n",
       "   'CharCode': 'TRY',\n",
       "   'Nominal': 1,\n",
       "   'Name': 'Турецкая лира',\n",
       "   'Value': 10.213,\n",
       "   'Previous': 98.2463},\n",
       "  'TMT': {'ID': 'R01710A',\n",
       "   'NumCode': '934',\n",
       "   'CharCode': 'TMT',\n",
       "   'Nominal': 1,\n",
       "   'Name': 'Новый туркменский манат',\n",
       "   'Value': 21.2129,\n",
       "   'Previous': 21.0753},\n",
       "  'UZS': {'ID': 'R01717',\n",
       "   'NumCode': '860',\n",
       "   'CharCode': 'UZS',\n",
       "   'Nominal': 10000,\n",
       "   'Name': 'Узбекских сумов',\n",
       "   'Value': 70.5148,\n",
       "   'Previous': 69.9931},\n",
       "  'UAH': {'ID': 'R01720',\n",
       "   'NumCode': '980',\n",
       "   'CharCode': 'UAH',\n",
       "   'Nominal': 10,\n",
       "   'Name': 'Украинских гривен',\n",
       "   'Value': 26.7543,\n",
       "   'Previous': 26.6058},\n",
       "  'CZK': {'ID': 'R01760',\n",
       "   'NumCode': '203',\n",
       "   'CharCode': 'CZK',\n",
       "   'Nominal': 10,\n",
       "   'Name': 'Чешских крон',\n",
       "   'Value': 33.838,\n",
       "   'Previous': 33.6654},\n",
       "  'SEK': {'ID': 'R01770',\n",
       "   'NumCode': '752',\n",
       "   'CharCode': 'SEK',\n",
       "   'Nominal': 10,\n",
       "   'Name': 'Шведских крон',\n",
       "   'Value': 87.1844,\n",
       "   'Previous': 86.8959},\n",
       "  'CHF': {'ID': 'R01775',\n",
       "   'NumCode': '756',\n",
       "   'CharCode': 'CHF',\n",
       "   'Nominal': 1,\n",
       "   'Name': 'Швейцарский франк',\n",
       "   'Value': 80.0205,\n",
       "   'Previous': 79.6219},\n",
       "  'ZAR': {'ID': 'R01810',\n",
       "   'NumCode': '710',\n",
       "   'CharCode': 'ZAR',\n",
       "   'Nominal': 10,\n",
       "   'Name': 'Южноафриканских рэндов',\n",
       "   'Value': 50.5464,\n",
       "   'Previous': 50.2039},\n",
       "  'KRW': {'ID': 'R01815',\n",
       "   'NumCode': '410',\n",
       "   'CharCode': 'KRW',\n",
       "   'Nominal': 1000,\n",
       "   'Name': 'Вон Республики Корея',\n",
       "   'Value': 65.6553,\n",
       "   'Previous': 65.4987},\n",
       "  'JPY': {'ID': 'R01820',\n",
       "   'NumCode': '392',\n",
       "   'CharCode': 'JPY',\n",
       "   'Nominal': 100,\n",
       "   'Name': 'Японских иен',\n",
       "   'Value': 68.2208,\n",
       "   'Previous': 67.4835}}}"
      ]
     },
     "execution_count": 23,
     "metadata": {},
     "output_type": "execute_result"
    }
   ],
   "source": [
    "for i in range(1000):\n",
    "    try:\n",
    "        requests.get('https://www.cbr-xml-daily.ru/daily_json.js').json()\n",
    "    except:\n",
    "        pass"
   ]
  },
  {
   "cell_type": "code",
   "execution_count": null,
   "metadata": {},
   "outputs": [],
   "source": []
  },
  {
   "cell_type": "code",
   "execution_count": null,
   "metadata": {},
   "outputs": [],
   "source": []
  },
  {
   "cell_type": "markdown",
   "metadata": {},
   "source": [
    "# Даты"
   ]
  },
  {
   "cell_type": "code",
   "execution_count": null,
   "metadata": {},
   "outputs": [],
   "source": [
    "# иногда импортируют так\n",
    "import datetime"
   ]
  },
  {
   "cell_type": "code",
   "execution_count": null,
   "metadata": {},
   "outputs": [],
   "source": [
    "# можно и так\n",
    "import datetime as dt"
   ]
  },
  {
   "cell_type": "code",
   "execution_count": null,
   "metadata": {},
   "outputs": [],
   "source": [
    "# у нас будет вариант покороче (но это не одно и то же)\n",
    "from datetime import datetime"
   ]
  },
  {
   "cell_type": "code",
   "execution_count": null,
   "metadata": {},
   "outputs": [],
   "source": [
    "date_string = '09.05.2018  09:00'"
   ]
  },
  {
   "cell_type": "code",
   "execution_count": null,
   "metadata": {},
   "outputs": [],
   "source": [
    "# сейчас date_string это просто строка\n",
    "type(date_string)"
   ]
  },
  {
   "cell_type": "code",
   "execution_count": null,
   "metadata": {},
   "outputs": [],
   "source": [
    "datetime.strptime('09.05.2018 09:00', '%d.%m.%Y %H:%M')"
   ]
  },
  {
   "cell_type": "code",
   "execution_count": null,
   "metadata": {},
   "outputs": [],
   "source": [
    "# https://docs.python.org/3/library/datetime.html\n",
    "\n",
    "date_datetime = datetime.strptime( date_string, '%d.%m.%Y %H:%M' )\n",
    "date_datetime"
   ]
  },
  {
   "cell_type": "code",
   "execution_count": null,
   "metadata": {},
   "outputs": [],
   "source": [
    "# теперь можем работать с датами\n",
    "type(date_datetime)"
   ]
  },
  {
   "cell_type": "code",
   "execution_count": null,
   "metadata": {},
   "outputs": [],
   "source": [
    "# получить номер года и часа\n",
    "date_datetime.year, date_datetime.hour"
   ]
  },
  {
   "cell_type": "code",
   "execution_count": null,
   "metadata": {},
   "outputs": [],
   "source": [
    "# день недели\n",
    "date_datetime.weekday()"
   ]
  },
  {
   "cell_type": "code",
   "execution_count": null,
   "metadata": {},
   "outputs": [],
   "source": [
    "# сегодня\n",
    "datetime.now()"
   ]
  },
  {
   "cell_type": "markdown",
   "metadata": {},
   "source": [
    "### Упражнение\n",
    "С помощью метода datetime.strptime переведите строку 'May 25 2017 5:00AM' в формат datetime."
   ]
  },
  {
   "cell_type": "code",
   "execution_count": null,
   "metadata": {},
   "outputs": [],
   "source": []
  },
  {
   "cell_type": "code",
   "execution_count": null,
   "metadata": {},
   "outputs": [],
   "source": []
  },
  {
   "cell_type": "code",
   "execution_count": null,
   "metadata": {},
   "outputs": [],
   "source": []
  },
  {
   "cell_type": "markdown",
   "metadata": {},
   "source": [
    "### Прибавление интервала к датам"
   ]
  },
  {
   "cell_type": "code",
   "execution_count": null,
   "metadata": {},
   "outputs": [],
   "source": [
    "from datetime import timedelta"
   ]
  },
  {
   "cell_type": "code",
   "execution_count": null,
   "metadata": {},
   "outputs": [],
   "source": [
    "start_date = '2018-01-01'\n",
    "end_date = '2018-01-07'"
   ]
  },
  {
   "cell_type": "code",
   "execution_count": null,
   "metadata": {},
   "outputs": [],
   "source": [
    "type(start_date)"
   ]
  },
  {
   "cell_type": "code",
   "execution_count": null,
   "metadata": {},
   "outputs": [],
   "source": [
    "start_date_datetime = datetime.strptime(start_date, '%Y-%m-%d')\n",
    "start_date_datetime"
   ]
  },
  {
   "cell_type": "code",
   "execution_count": null,
   "metadata": {},
   "outputs": [],
   "source": [
    "start_date_datetime + timedelta(days=1)"
   ]
  },
  {
   "cell_type": "code",
   "execution_count": null,
   "metadata": {},
   "outputs": [],
   "source": [
    "start_date_datetime + timedelta(days=-7, minutes=-1)"
   ]
  },
  {
   "cell_type": "markdown",
   "metadata": {},
   "source": [
    "### Перевод обратно в строку"
   ]
  },
  {
   "cell_type": "code",
   "execution_count": null,
   "metadata": {},
   "outputs": [],
   "source": [
    "date = datetime(2018, 9, 1)\n",
    "date"
   ]
  },
  {
   "cell_type": "code",
   "execution_count": null,
   "metadata": {},
   "outputs": [],
   "source": [
    "date.strftime('%Y-%m-%d')"
   ]
  },
  {
   "cell_type": "code",
   "execution_count": null,
   "metadata": {
    "scrolled": false
   },
   "outputs": [],
   "source": [
    "date.strftime('%B %d %Y %I:%M%p')"
   ]
  },
  {
   "cell_type": "code",
   "execution_count": null,
   "metadata": {},
   "outputs": [],
   "source": [
    "datetime.now().strftime('%Y-%m-01')"
   ]
  },
  {
   "cell_type": "code",
   "execution_count": null,
   "metadata": {},
   "outputs": [],
   "source": [
    "# как получить первый день месяца\n",
    "\n",
    "date.strftime('%Y-%m-01')"
   ]
  },
  {
   "cell_type": "code",
   "execution_count": null,
   "metadata": {},
   "outputs": [],
   "source": [
    "start_date = '2018-01-01'\n",
    "end_date = '2018-01-07'"
   ]
  },
  {
   "cell_type": "code",
   "execution_count": null,
   "metadata": {},
   "outputs": [],
   "source": [
    "start_date, end_date"
   ]
  },
  {
   "cell_type": "code",
   "execution_count": null,
   "metadata": {},
   "outputs": [],
   "source": [
    "start_date_dt = datetime.strptime(start_date, '%Y-%m-%d')\n",
    "end_date_dt = datetime.strptime(end_date, '%Y-%m-%d')\n",
    "\n",
    "print(start_date_dt, end_date_dt)"
   ]
  },
  {
   "cell_type": "code",
   "execution_count": null,
   "metadata": {},
   "outputs": [],
   "source": [
    "i = 0\n",
    "\n",
    "while i < 10:\n",
    "    # ...\n",
    "    i += 1\n",
    "    print(i)"
   ]
  },
  {
   "cell_type": "code",
   "execution_count": null,
   "metadata": {
    "scrolled": true
   },
   "outputs": [],
   "source": [
    "current_dt = start_date_dt\n",
    "\n",
    "while current_dt <= end_date_dt:\n",
    "    print(current_dt.strftime('%Y-%m-%d'))\n",
    "    \n",
    "    current_dt += timedelta(days=1)"
   ]
  },
  {
   "cell_type": "code",
   "execution_count": null,
   "metadata": {},
   "outputs": [],
   "source": [
    "current_dt = start_date_dt\n",
    "\n",
    "while current_dt.strftime('%Y-%m-%d') <= end_date:\n",
    "    print(current_dt.strftime('%Y-%m-%d'))\n",
    "    \n",
    "    current_dt += timedelta(days=1)"
   ]
  },
  {
   "cell_type": "code",
   "execution_count": null,
   "metadata": {},
   "outputs": [],
   "source": [
    "# можно и с помощью list comprehension\n",
    "[(start_date_dt + timedelta(days=x)).strftime('%Y-%m-%d') for x in range(10)]"
   ]
  },
  {
   "cell_type": "markdown",
   "metadata": {},
   "source": [
    "### Нагрузка на систему по часам"
   ]
  },
  {
   "cell_type": "code",
   "execution_count": null,
   "metadata": {},
   "outputs": [],
   "source": [
    "stats = {}\n",
    "\n",
    "with open('logs.csv', 'r') as f:\n",
    "    for line in f:\n",
    "        line = line.strip()\n",
    "        print(line)\n",
    "        \n",
    "        break\n",
    "        \n",
    "        # вычисления нагрузки на систему...\n",
    "        \n",
    "# результат\n",
    "stats"
   ]
  },
  {
   "cell_type": "code",
   "execution_count": null,
   "metadata": {},
   "outputs": [],
   "source": [
    "# а в процентном соотношении?\n"
   ]
  },
  {
   "cell_type": "code",
   "execution_count": null,
   "metadata": {},
   "outputs": [],
   "source": []
  },
  {
   "cell_type": "code",
   "execution_count": null,
   "metadata": {},
   "outputs": [],
   "source": []
  },
  {
   "cell_type": "code",
   "execution_count": null,
   "metadata": {},
   "outputs": [],
   "source": []
  },
  {
   "cell_type": "markdown",
   "metadata": {},
   "source": [
    "###  Unixtime\n",
    "Количество секунд, прошедших с 1 января 1970 года по UTC"
   ]
  },
  {
   "cell_type": "code",
   "execution_count": null,
   "metadata": {},
   "outputs": [],
   "source": [
    "import time\n",
    "from datetime import date\n",
    "from datetime import datetime"
   ]
  },
  {
   "cell_type": "code",
   "execution_count": null,
   "metadata": {},
   "outputs": [],
   "source": [
    "d = date(2019, 3, 11)\n",
    "\n",
    "unixtime = time.mktime(d.timetuple())\n",
    "unixtime"
   ]
  },
  {
   "cell_type": "code",
   "execution_count": null,
   "metadata": {},
   "outputs": [],
   "source": [
    "from datetime import datetime"
   ]
  },
  {
   "cell_type": "code",
   "execution_count": null,
   "metadata": {},
   "outputs": [],
   "source": [
    "datetime.fromtimestamp(1552251600)"
   ]
  },
  {
   "cell_type": "markdown",
   "metadata": {},
   "source": [
    "На практике все сложнее https://habr.com/ru/post/452584/"
   ]
  },
  {
   "cell_type": "markdown",
   "metadata": {},
   "source": [
    "# Задача про интервалы\n",
    "Имеется список отсортированных по возрастанию целых чисел data. А также целое число n, которое лежит между минимальным и максимальным значениями из списка data. Вам необходимо определить минимальное ближайшее число к n из списка data.\n",
    "\n",
    "Пример:\n",
    "```python\n",
    "data = [1, 7, 17, 23, 27, 35, 65]\n",
    "n = 20\n",
    "```\n",
    "\n",
    "Ответ: 17\n",
    "\n",
    "Подобные алгоритмы используются для классификации объекта по значению одной метрики. Например, это может пригодиться для классификации учащегося по его возрасту:\n",
    "```python\n",
    "ages = {\n",
    "    1: 'дети',\n",
    "    7: 'школьники',\n",
    "    17: 'студенты',\n",
    "    23: 'аспиранты',\n",
    "    27: 'молодые ученые',\n",
    "    35: 'преподаватели',\n",
    "    65: 'пенсионеры',\n",
    "}\n",
    "```\n",
    "\n",
    "Итого напишите функцию, которая по списку data и числу n возвращает минимальное ближайшее к n число. Список может быть любым, поэтому не рассчитывайте на написание цепочки условий через if.\n",
    "\n",
    "Бонусные варианты:\n",
    "1. Рассмотрите ситуацию, в которой при фиксированном списке data вам необходимо классифицировать большое количество пользователей с разными значениями n. Например, вам необходимо классифицировать базу из 100 миллионов человек по возрастам по словарю ages из примера выше. Можно ли в таком случае ускорить проход по такому числу пользователей?\n",
    "\n",
    "2. Если вы решали основное задание перебором элементов списка data и сравнением с n, то сложность такого алгоритма O(N). Т. е. при увеличении числа элементов списка data в N раз время работы алгоритма тоже вырастет в N раз. Попробуйте ускорить этот алгоритм. Например, с помощью аналога бинарного поиска."
   ]
  }
 ],
 "metadata": {
  "kernelspec": {
   "display_name": "Python 3",
   "language": "python",
   "name": "python3"
  },
  "language_info": {
   "codemirror_mode": {
    "name": "ipython",
    "version": 3
   },
   "file_extension": ".py",
   "mimetype": "text/x-python",
   "name": "python",
   "nbconvert_exporter": "python",
   "pygments_lexer": "ipython3",
   "version": "3.8.5"
  }
 },
 "nbformat": 4,
 "nbformat_minor": 2
}
