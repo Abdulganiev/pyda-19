{
 "cells": [
  {
   "cell_type": "markdown",
   "metadata": {},
   "source": [
    "# Домашнее задание к лекции \"Основы веб-скрапинга и работы с API\""
   ]
  },
  {
   "cell_type": "markdown",
   "metadata": {},
   "source": [
    "## Задание 1. \n",
    "\n",
    "### Обязательная часть"
   ]
  },
  {
   "cell_type": "markdown",
   "metadata": {},
   "source": [
    "Будем парсить страницу со свежеми новостям на [habr.com/ru/all/](https://habr.com/ru/all/).\n",
    "\n",
    "Вам необходимо собирать только те статьи, в которых встречается хотя бы одно требуемое ключевое слово. Эти слова определяем в начале кода в переменной, например:\n",
    "\n",
    "`KEYWORDS = ['python', 'парсинг']`\n",
    "\n",
    " Поиск вести по всей доступной preview-информации (это информация, доступная непосредственно с текущей страницы). \n",
    " \n",
    "В итоге должен формироваться датафрейм вида: `<дата> - <заголовок> - <ссылка>`"
   ]
  },
  {
   "cell_type": "code",
   "execution_count": 612,
   "metadata": {},
   "outputs": [],
   "source": [
    "import requests\n",
    "from bs4 import BeautifulSoup\n",
    "import pandas as pd\n",
    "import time\n",
    "time.sleep(0.2)\n",
    "import json\n",
    "from datetime import datetime"
   ]
  },
  {
   "cell_type": "code",
   "execution_count": 136,
   "metadata": {},
   "outputs": [],
   "source": [
    "KEYWORDS = ['python', 'парсинг', 'Wi-Fi']"
   ]
  },
  {
   "cell_type": "code",
   "execution_count": 139,
   "metadata": {},
   "outputs": [],
   "source": [
    "# получаем страницу с самыми свежими постами\n",
    "req = requests.get('https://habr.com/ru/all/')\n",
    "soup = BeautifulSoup(req.text, 'html.parser')"
   ]
  },
  {
   "cell_type": "code",
   "execution_count": 151,
   "metadata": {},
   "outputs": [],
   "source": [
    "# извлекаем посты\n",
    "posts = soup.find_all('article', class_='post')\n",
    "#posts"
   ]
  },
  {
   "cell_type": "code",
   "execution_count": 215,
   "metadata": {},
   "outputs": [
    {
     "data": {
      "text/html": [
       "<div>\n",
       "<style scoped>\n",
       "    .dataframe tbody tr th:only-of-type {\n",
       "        vertical-align: middle;\n",
       "    }\n",
       "\n",
       "    .dataframe tbody tr th {\n",
       "        vertical-align: top;\n",
       "    }\n",
       "\n",
       "    .dataframe thead th {\n",
       "        text-align: right;\n",
       "    }\n",
       "</style>\n",
       "<table border=\"1\" class=\"dataframe\">\n",
       "  <thead>\n",
       "    <tr style=\"text-align: right;\">\n",
       "      <th></th>\n",
       "      <th>дата</th>\n",
       "      <th>заголовок</th>\n",
       "      <th>ссылка</th>\n",
       "    </tr>\n",
       "  </thead>\n",
       "  <tbody>\n",
       "    <tr>\n",
       "      <th>0</th>\n",
       "      <td>сегодня в 20:09</td>\n",
       "      <td>Умные лампы Hiper</td>\n",
       "      <td>https://habr.com/ru/company/lamptest/blog/554466/</td>\n",
       "    </tr>\n",
       "  </tbody>\n",
       "</table>\n",
       "</div>"
      ],
      "text/plain": [
       "              дата          заголовок  \\\n",
       "0  сегодня в 20:09  Умные лампы Hiper   \n",
       "\n",
       "                                              ссылка  \n",
       "0  https://habr.com/ru/company/lamptest/blog/554466/  "
      ]
     },
     "execution_count": 215,
     "metadata": {},
     "output_type": "execute_result"
    }
   ],
   "source": [
    "habr_news = pd.DataFrame()\n",
    "# добавляем извлечение хабов из постов, чтобы отбирать только нужные\n",
    "for post in posts:\n",
    "    post_id = post.parent.attrs.get('id')\n",
    "   # если идентификатор не найден, то пропускаем\n",
    "    if not post_id:\n",
    "        continue\n",
    "    post_id = int(post_id.split('_')[-1])\n",
    "    hubs = post.find_all('div', class_='post__text')\n",
    "    for hub in hubs:\n",
    "        hub_lower = hub.text.lower()\n",
    "        # ищем вхождение хотя бы одного желаемого хаба\n",
    "        if any([desired.lower() in hub_lower for desired in KEYWORDS]):\n",
    "            title = post.find('a', class_='post__title_link').text\n",
    "            date = post.find('span', class_=\"post__time\").text\n",
    "            link = post.find('a', class_='post__title_link').get('href')\n",
    "            row = {'дата': date, 'заголовок': title, 'ссылка': link}\n",
    "            habr_news = pd.concat([habr_news, pd.DataFrame([row])])  \n",
    "habr_news"
   ]
  },
  {
   "cell_type": "markdown",
   "metadata": {},
   "source": [
    "### Дополнительная часть (необязательная)"
   ]
  },
  {
   "cell_type": "markdown",
   "metadata": {},
   "source": [
    "Улучшить скрипт так, чтобы он анализировал не только preview-информацию статьи, но и весь текст статьи целиком.\n",
    "\n",
    "Для этого потребуется получать страницы статей и искать по тексту внутри этой страницы.  \n",
    "\n",
    "Итоговый датафрейм формировать со столбцами: `<дата> - <заголовок> - <ссылка> - <текст_статьи>`\n"
   ]
  },
  {
   "cell_type": "code",
   "execution_count": 214,
   "metadata": {},
   "outputs": [],
   "source": [
    "def post_text(url_f):\n",
    "    soup_f = BeautifulSoup(requests.get(url_f).text, 'html.parser')\n",
    "    return soup_f.find('div', class_=\"post__text\").text"
   ]
  },
  {
   "cell_type": "code",
   "execution_count": 217,
   "metadata": {},
   "outputs": [
    {
     "data": {
      "text/html": [
       "<div>\n",
       "<style scoped>\n",
       "    .dataframe tbody tr th:only-of-type {\n",
       "        vertical-align: middle;\n",
       "    }\n",
       "\n",
       "    .dataframe tbody tr th {\n",
       "        vertical-align: top;\n",
       "    }\n",
       "\n",
       "    .dataframe thead th {\n",
       "        text-align: right;\n",
       "    }\n",
       "</style>\n",
       "<table border=\"1\" class=\"dataframe\">\n",
       "  <thead>\n",
       "    <tr style=\"text-align: right;\">\n",
       "      <th></th>\n",
       "      <th>дата</th>\n",
       "      <th>заголовок</th>\n",
       "      <th>ссылка</th>\n",
       "      <th>текст</th>\n",
       "    </tr>\n",
       "  </thead>\n",
       "  <tbody>\n",
       "    <tr>\n",
       "      <th>0</th>\n",
       "      <td>сегодня в 20:09</td>\n",
       "      <td>Умные лампы Hiper</td>\n",
       "      <td>https://habr.com/ru/company/lamptest/blog/554466/</td>\n",
       "      <td>Продолжаю тестировать и изучать «умные» лампы,...</td>\n",
       "    </tr>\n",
       "    <tr>\n",
       "      <th>0</th>\n",
       "      <td>сегодня в 19:21</td>\n",
       "      <td>Операционализация: наука создания показателей ...</td>\n",
       "      <td>https://habr.com/ru/company/skillfactory/blog/...</td>\n",
       "      <td>Пришло время затронуть психологическую тему, к...</td>\n",
       "    </tr>\n",
       "    <tr>\n",
       "      <th>0</th>\n",
       "      <td>сегодня в 19:19</td>\n",
       "      <td>Facebook отвлекает от работы? Блокируем его пр...</td>\n",
       "      <td>https://habr.com/ru/company/selectel/blog/554256/</td>\n",
       "      <td>\\r\\nПрокрастинация хорошо знакома каждому из н...</td>\n",
       "    </tr>\n",
       "    <tr>\n",
       "      <th>0</th>\n",
       "      <td>сегодня в 17:05</td>\n",
       "      <td>От инвалида до киборга при помощи руки с ИИ</td>\n",
       "      <td>https://habr.com/ru/company/skillfactory/blog/...</td>\n",
       "      <td>Будущее здесь — безо всяких преувеличений. В н...</td>\n",
       "    </tr>\n",
       "  </tbody>\n",
       "</table>\n",
       "</div>"
      ],
      "text/plain": [
       "              дата                                          заголовок  \\\n",
       "0  сегодня в 20:09                                  Умные лампы Hiper   \n",
       "0  сегодня в 19:21  Операционализация: наука создания показателей ...   \n",
       "0  сегодня в 19:19  Facebook отвлекает от работы? Блокируем его пр...   \n",
       "0  сегодня в 17:05        От инвалида до киборга при помощи руки с ИИ   \n",
       "\n",
       "                                              ссылка  \\\n",
       "0  https://habr.com/ru/company/lamptest/blog/554466/   \n",
       "0  https://habr.com/ru/company/skillfactory/blog/...   \n",
       "0  https://habr.com/ru/company/selectel/blog/554256/   \n",
       "0  https://habr.com/ru/company/skillfactory/blog/...   \n",
       "\n",
       "                                               текст  \n",
       "0  Продолжаю тестировать и изучать «умные» лампы,...  \n",
       "0  Пришло время затронуть психологическую тему, к...  \n",
       "0  \\r\\nПрокрастинация хорошо знакома каждому из н...  \n",
       "0  Будущее здесь — безо всяких преувеличений. В н...  "
      ]
     },
     "execution_count": 217,
     "metadata": {},
     "output_type": "execute_result"
    }
   ],
   "source": [
    "habr_news = pd.DataFrame()\n",
    "# добавляем извлечение хабов из постов, чтобы отбирать только нужные\n",
    "for post in posts:\n",
    "    post_id = post.parent.attrs.get('id')\n",
    "   # если идентификатор не найден, то пропускаем\n",
    "    if not post_id:\n",
    "        continue\n",
    "    post_id = int(post_id.split('_')[-1])\n",
    "    hubs = post.find_all('div', class_='post__text')\n",
    "    for hub in hubs:\n",
    "        time\n",
    "        #hub_lower = hub.text.lower()\n",
    "        # ищем вхождение хотя бы одного желаемого хаба\n",
    "        title = post.find('a', class_='post__title_link').text\n",
    "        date = post.find('span', class_=\"post__time\").text\n",
    "        link = post.find('a', class_='post__title_link').get('href')\n",
    "        text = post_text(link) \n",
    "        row = {'дата': date, 'заголовок': title, 'ссылка': link, 'текст': text}\n",
    "        if any([desired.lower() in text.lower() for desired in KEYWORDS]):        \n",
    "            habr_news = pd.concat([habr_news, pd.DataFrame([row])])  \n",
    "habr_news"
   ]
  },
  {
   "cell_type": "markdown",
   "metadata": {},
   "source": [
    "## Задание 2."
   ]
  },
  {
   "cell_type": "markdown",
   "metadata": {},
   "source": [
    "### Обязательная часть"
   ]
  },
  {
   "cell_type": "markdown",
   "metadata": {},
   "source": [
    "Написать скрипт, который будет проверять список e-mail адресов на утечку при помощи сервиса [Avast Hack Ckeck](https://www.avast.com/hackcheck/).\n",
    "Список email-ов задаем переменной в начале кода:  \n",
    "`EMAIL = [xxx@x.ru, yyy@y.com]`\n",
    "\n",
    "В итоге должен формироваться датафрейм со столбцами: `<почта> - <дата утечки> - <источник утечки> - <описание утечки>`  \n",
    "\n",
    "**Подсказка**: сервис работает при помощи \"скрытого\" API. Внимательно изучите post-запросы."
   ]
  },
  {
   "cell_type": "code",
   "execution_count": 350,
   "metadata": {},
   "outputs": [],
   "source": [
    "EMAIL = ['xxx@x.ru', 'yyy@y.com', '300195@mail.ru']"
   ]
  },
  {
   "cell_type": "code",
   "execution_count": 260,
   "metadata": {},
   "outputs": [],
   "source": [
    "#EMAIL = [\"300195@mail.ru\"]"
   ]
  },
  {
   "cell_type": "code",
   "execution_count": 351,
   "metadata": {},
   "outputs": [],
   "source": [
    "payload = {'emailAddresses': EMAIL}"
   ]
  },
  {
   "cell_type": "code",
   "execution_count": 248,
   "metadata": {},
   "outputs": [],
   "source": [
    "url = 'https://identityprotection.avast.com/v1/web/query/site-breaches/unauthorized-data'"
   ]
  },
  {
   "cell_type": "code",
   "execution_count": 258,
   "metadata": {},
   "outputs": [],
   "source": [
    "headers = {\n",
    "'POST': '/v1/web/query/site-breaches/unauthorized-data HTTP/1.1',\n",
    "'Host': 'identityprotection.avast.com',\n",
    "'Connection': 'keep-alive',\n",
    "'Content-Length': '37',\n",
    "'Accept': 'application/json, text/plain, */*',\n",
    "'Vaar-Header-App-Build-Version': '1.0.0',\n",
    "'Vaar-Version': '0',\n",
    "'User-Agent': 'Mozilla/5.0 (Windows NT 10.0; Win64; x64) AppleWebKit/537.36 (KHTML, like Gecko) Chrome/89.0.4389.105 YaBrowser/21.3.2.175 Yowser/2.5 Safari/537.36',\n",
    "'Vaar-Header-App-Product': 'hackcheck-web-avast',\n",
    "'Vaar-Header-App-Product-Name': 'hackcheck-web-avast',\n",
    "'Content-Type': 'application/json;charset=UTF-8',\n",
    "'Origin': 'https://www.avast.com',\n",
    "'Sec-Fetch-Site': 'same-site',\n",
    "'Sec-Fetch-Mode': 'cors',\n",
    "'Sec-Fetch-Dest': 'empty',\n",
    "'Referer': 'https://www.avast.com/',\n",
    "'Accept-Encoding': 'gzip, deflate, br',\n",
    "'Accept-Language': 'ru,en;q=0.9',\n",
    "}"
   ]
  },
  {
   "cell_type": "code",
   "execution_count": 381,
   "metadata": {},
   "outputs": [],
   "source": [
    "response = requests.post(url, headers=headers, json=payload)"
   ]
  },
  {
   "cell_type": "code",
   "execution_count": 593,
   "metadata": {},
   "outputs": [],
   "source": [
    "results = response.text\n",
    "results = json.loads(results)\n",
    "results = pd.DataFrame(results)"
   ]
  },
  {
   "cell_type": "code",
   "execution_count": 600,
   "metadata": {},
   "outputs": [],
   "source": [
    "def mail_f(breachId_f):\n",
    "    results_mail = results[results['data'].notnull()].drop(['breaches', 'summary'], axis = 1)\n",
    "    for st in results_mail['data']:\n",
    "        for mail, value in st.items():\n",
    "            for el in value:\n",
    "                if breachId_f == el['breachId']:\n",
    "                    return mail"
   ]
  },
  {
   "cell_type": "code",
   "execution_count": 620,
   "metadata": {},
   "outputs": [
    {
     "data": {
      "text/html": [
       "<div>\n",
       "<style scoped>\n",
       "    .dataframe tbody tr th:only-of-type {\n",
       "        vertical-align: middle;\n",
       "    }\n",
       "\n",
       "    .dataframe tbody tr th {\n",
       "        vertical-align: top;\n",
       "    }\n",
       "\n",
       "    .dataframe thead th {\n",
       "        text-align: right;\n",
       "    }\n",
       "</style>\n",
       "<table border=\"1\" class=\"dataframe\">\n",
       "  <thead>\n",
       "    <tr style=\"text-align: right;\">\n",
       "      <th></th>\n",
       "      <th>почта</th>\n",
       "      <th>дата утечки</th>\n",
       "      <th>источник утечки</th>\n",
       "      <th>описание утечки</th>\n",
       "    </tr>\n",
       "  </thead>\n",
       "  <tbody>\n",
       "    <tr>\n",
       "      <th>0</th>\n",
       "      <td>xxx@x.ru</td>\n",
       "      <td>2019-03-28</td>\n",
       "      <td>verifications.io</td>\n",
       "      <td>Big data e-mail verification platform verifica...</td>\n",
       "    </tr>\n",
       "    <tr>\n",
       "      <th>0</th>\n",
       "      <td>xxx@x.ru</td>\n",
       "      <td>2020-05-21</td>\n",
       "      <td>vk.com</td>\n",
       "      <td>At some time in 2020, the Russian social netwo...</td>\n",
       "    </tr>\n",
       "    <tr>\n",
       "      <th>0</th>\n",
       "      <td>300195@mail.ru</td>\n",
       "      <td>2016-11-01</td>\n",
       "      <td>qip.ru</td>\n",
       "      <td>In 2011, Russian instant messaging service pro...</td>\n",
       "    </tr>\n",
       "    <tr>\n",
       "      <th>0</th>\n",
       "      <td>yyy@y.com</td>\n",
       "      <td>2020-01-03</td>\n",
       "      <td>azcentral.com</td>\n",
       "      <td>At an unconfirmed date, online Arizona newspap...</td>\n",
       "    </tr>\n",
       "    <tr>\n",
       "      <th>0</th>\n",
       "      <td>yyy@y.com</td>\n",
       "      <td>2020-05-28</td>\n",
       "      <td>wishbone.io</td>\n",
       "      <td>In January 2020, the online poll website Wishb...</td>\n",
       "    </tr>\n",
       "    <tr>\n",
       "      <th>0</th>\n",
       "      <td>yyy@y.com</td>\n",
       "      <td>2017-11-04</td>\n",
       "      <td>myheritage.com</td>\n",
       "      <td>In October 2017, a customer database belonging...</td>\n",
       "    </tr>\n",
       "    <tr>\n",
       "      <th>0</th>\n",
       "      <td>yyy@y.com</td>\n",
       "      <td>2021-02-11</td>\n",
       "      <td>forums.vkmonline.com</td>\n",
       "      <td>At an unconfirmed date, the Russian-language m...</td>\n",
       "    </tr>\n",
       "    <tr>\n",
       "      <th>0</th>\n",
       "      <td>yyy@y.com</td>\n",
       "      <td>2019-06-13</td>\n",
       "      <td>canva.com</td>\n",
       "      <td>In May 2019, graphic-design site Canva's datab...</td>\n",
       "    </tr>\n",
       "    <tr>\n",
       "      <th>0</th>\n",
       "      <td>xxx@x.ru</td>\n",
       "      <td>2017-02-14</td>\n",
       "      <td>parapa.mail.ru</td>\n",
       "      <td>In July and August 2016, two criminals execute...</td>\n",
       "    </tr>\n",
       "    <tr>\n",
       "      <th>0</th>\n",
       "      <td>yyy@y.com</td>\n",
       "      <td>2016-10-24</td>\n",
       "      <td>dropbox.com</td>\n",
       "      <td>Cloud storage company Dropbox suffered a major...</td>\n",
       "    </tr>\n",
       "    <tr>\n",
       "      <th>0</th>\n",
       "      <td>yyy@y.com</td>\n",
       "      <td>2016-10-21</td>\n",
       "      <td>linkedin.com</td>\n",
       "      <td>In 2012, online professional networking platfo...</td>\n",
       "    </tr>\n",
       "    <tr>\n",
       "      <th>0</th>\n",
       "      <td>yyy@y.com</td>\n",
       "      <td>2017-03-01</td>\n",
       "      <td>rayli.com.cn</td>\n",
       "      <td>On an unconfirmed date, Chinese gossip site Ra...</td>\n",
       "    </tr>\n",
       "    <tr>\n",
       "      <th>0</th>\n",
       "      <td>300195@mail.ru</td>\n",
       "      <td>2017-06-14</td>\n",
       "      <td>nnm-club.me</td>\n",
       "      <td>In September 2013, Russian torrent tracker NNM...</td>\n",
       "    </tr>\n",
       "    <tr>\n",
       "      <th>0</th>\n",
       "      <td>yyy@y.com</td>\n",
       "      <td>2019-10-17</td>\n",
       "      <td>zynga.com</td>\n",
       "      <td>In September 2019, the game developer Zynga wa...</td>\n",
       "    </tr>\n",
       "    <tr>\n",
       "      <th>0</th>\n",
       "      <td>xxx@x.ru</td>\n",
       "      <td>2016-10-29</td>\n",
       "      <td>vk.com</td>\n",
       "      <td>Popular Russian social networking platform VKo...</td>\n",
       "    </tr>\n",
       "    <tr>\n",
       "      <th>0</th>\n",
       "      <td>xxx@x.ru</td>\n",
       "      <td>2016-10-21</td>\n",
       "      <td>adobe.com</td>\n",
       "      <td>In October of 2013, criminals penetrated Adobe...</td>\n",
       "    </tr>\n",
       "    <tr>\n",
       "      <th>0</th>\n",
       "      <td>yyy@y.com</td>\n",
       "      <td>2018-02-18</td>\n",
       "      <td>netlog.com</td>\n",
       "      <td>Netlog (formerly known as Facebox and Bingbox)...</td>\n",
       "    </tr>\n",
       "    <tr>\n",
       "      <th>0</th>\n",
       "      <td>yyy@y.com</td>\n",
       "      <td>2017-03-15</td>\n",
       "      <td>globalreach.eu</td>\n",
       "      <td>In 2016, Global Reach Technology's database wa...</td>\n",
       "    </tr>\n",
       "    <tr>\n",
       "      <th>0</th>\n",
       "      <td>xxx@x.ru</td>\n",
       "      <td>2017-02-14</td>\n",
       "      <td>cfire.mail.ru</td>\n",
       "      <td>In July and August of 2016, two criminals carr...</td>\n",
       "    </tr>\n",
       "    <tr>\n",
       "      <th>0</th>\n",
       "      <td>xxx@x.ru</td>\n",
       "      <td>2017-01-31</td>\n",
       "      <td>cdprojektred.com</td>\n",
       "      <td>In March 2016, CDProjektRed.com.com's forum da...</td>\n",
       "    </tr>\n",
       "    <tr>\n",
       "      <th>0</th>\n",
       "      <td>xxx@x.ru</td>\n",
       "      <td>2016-10-23</td>\n",
       "      <td>imesh.com</td>\n",
       "      <td>In June 2016, a cache of over 51 million user ...</td>\n",
       "    </tr>\n",
       "    <tr>\n",
       "      <th>0</th>\n",
       "      <td>yyy@y.com</td>\n",
       "      <td>2017-03-24</td>\n",
       "      <td>youku.com</td>\n",
       "      <td>Youku is a large Chinese video content company...</td>\n",
       "    </tr>\n",
       "  </tbody>\n",
       "</table>\n",
       "</div>"
      ],
      "text/plain": [
       "            почта дата утечки       источник утечки  \\\n",
       "0        xxx@x.ru  2019-03-28      verifications.io   \n",
       "0        xxx@x.ru  2020-05-21                vk.com   \n",
       "0  300195@mail.ru  2016-11-01                qip.ru   \n",
       "0       yyy@y.com  2020-01-03         azcentral.com   \n",
       "0       yyy@y.com  2020-05-28           wishbone.io   \n",
       "0       yyy@y.com  2017-11-04        myheritage.com   \n",
       "0       yyy@y.com  2021-02-11  forums.vkmonline.com   \n",
       "0       yyy@y.com  2019-06-13             canva.com   \n",
       "0        xxx@x.ru  2017-02-14        parapa.mail.ru   \n",
       "0       yyy@y.com  2016-10-24           dropbox.com   \n",
       "0       yyy@y.com  2016-10-21          linkedin.com   \n",
       "0       yyy@y.com  2017-03-01          rayli.com.cn   \n",
       "0  300195@mail.ru  2017-06-14           nnm-club.me   \n",
       "0       yyy@y.com  2019-10-17             zynga.com   \n",
       "0        xxx@x.ru  2016-10-29                vk.com   \n",
       "0        xxx@x.ru  2016-10-21             adobe.com   \n",
       "0       yyy@y.com  2018-02-18            netlog.com   \n",
       "0       yyy@y.com  2017-03-15        globalreach.eu   \n",
       "0        xxx@x.ru  2017-02-14         cfire.mail.ru   \n",
       "0        xxx@x.ru  2017-01-31      cdprojektred.com   \n",
       "0        xxx@x.ru  2016-10-23             imesh.com   \n",
       "0       yyy@y.com  2017-03-24             youku.com   \n",
       "\n",
       "                                     описание утечки  \n",
       "0  Big data e-mail verification platform verifica...  \n",
       "0  At some time in 2020, the Russian social netwo...  \n",
       "0  In 2011, Russian instant messaging service pro...  \n",
       "0  At an unconfirmed date, online Arizona newspap...  \n",
       "0  In January 2020, the online poll website Wishb...  \n",
       "0  In October 2017, a customer database belonging...  \n",
       "0  At an unconfirmed date, the Russian-language m...  \n",
       "0  In May 2019, graphic-design site Canva's datab...  \n",
       "0  In July and August 2016, two criminals execute...  \n",
       "0  Cloud storage company Dropbox suffered a major...  \n",
       "0  In 2012, online professional networking platfo...  \n",
       "0  On an unconfirmed date, Chinese gossip site Ra...  \n",
       "0  In September 2013, Russian torrent tracker NNM...  \n",
       "0  In September 2019, the game developer Zynga wa...  \n",
       "0  Popular Russian social networking platform VKo...  \n",
       "0  In October of 2013, criminals penetrated Adobe...  \n",
       "0  Netlog (formerly known as Facebox and Bingbox)...  \n",
       "0  In 2016, Global Reach Technology's database wa...  \n",
       "0  In July and August of 2016, two criminals carr...  \n",
       "0  In March 2016, CDProjektRed.com.com's forum da...  \n",
       "0  In June 2016, a cache of over 51 million user ...  \n",
       "0  Youku is a large Chinese video content company...  "
      ]
     },
     "execution_count": 620,
     "metadata": {},
     "output_type": "execute_result"
    }
   ],
   "source": [
    "results_data = results[results['breaches'].notnull()].drop(['data', 'summary'], axis = 1)\n",
    "breaches = pd.DataFrame()\n",
    "for breach in results_data['breaches']:\n",
    "    row = {'почта': mail_f(breach['breachId']), \n",
    "           'дата утечки': datetime.strptime(breach['publishDate'], '%Y-%m-%dT00:00:00Z'), \n",
    "           'источник утечки': breach['site'], \n",
    "           'описание утечки': breach['description']}\n",
    "    breaches = pd.concat([breaches, pd.DataFrame([row])])\n",
    "breaches"
   ]
  },
  {
   "cell_type": "markdown",
   "metadata": {},
   "source": [
    "### Дополнительная часть (необязательная)"
   ]
  },
  {
   "cell_type": "markdown",
   "metadata": {},
   "source": [
    "Написать скрипт, который будет получать 50 последних постов указанной группы во Вконтакте.  \n",
    "Документация к API VK: https://vk.com/dev/methods\n",
    ", вам поможет метод [wall.get](https://vk.com/dev/wall.get)  \n",
    "```\n",
    "GROUP = 'netology'  \n",
    "TOKEN = УДАЛЯЙТЕ В ВЕРСИИ ДЛЯ ПРОВЕРКИ, НА GITHUB НЕ ВЫКЛАДЫВАТЬ  \n",
    "```\n",
    "\n",
    "В итоге должен формироваться датафрейм со столбцами: `<дата поста> - <текст поста>`"
   ]
  }
 ],
 "metadata": {
  "kernelspec": {
   "display_name": "Python 3",
   "language": "python",
   "name": "python3"
  },
  "language_info": {
   "codemirror_mode": {
    "name": "ipython",
    "version": 3
   },
   "file_extension": ".py",
   "mimetype": "text/x-python",
   "name": "python",
   "nbconvert_exporter": "python",
   "pygments_lexer": "ipython3",
   "version": "3.8.5"
  }
 },
 "nbformat": 4,
 "nbformat_minor": 2
}
