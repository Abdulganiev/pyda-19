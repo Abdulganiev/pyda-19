{
 "cells": [
  {
   "cell_type": "markdown",
   "metadata": {},
   "source": [
    "### Функция, определяющая, является ли слово палиндромом"
   ]
  },
  {
   "cell_type": "code",
   "execution_count": 3,
   "metadata": {},
   "outputs": [
    {
     "name": "stdout",
     "output_type": "stream",
     "text": [
      "word:Радар\n",
      "False\n"
     ]
    }
   ],
   "source": [
    "a = input(\"word:\")\n",
    "\n",
    "def palindrom(word):\n",
    "    if len(word) <= 1:\n",
    "        return True\n",
    "    else:\n",
    "        return word[0] == word[-1] and palindrom(word[1:-1])\n",
    "\n",
    "print(palindrom(a))"
   ]
  },
  {
   "cell_type": "code",
   "execution_count": 6,
   "metadata": {},
   "outputs": [
    {
     "data": {
      "text/plain": [
       "False"
      ]
     },
     "execution_count": 6,
     "metadata": {},
     "output_type": "execute_result"
    }
   ],
   "source": [
    "word = 'вара'\n",
    "def is_palindrome(word):\n",
    "    if list(word) == list(reversed(word)):\n",
    "        return True\n",
    "    return False\n",
    "is_palindrome(word)"
   ]
  },
  {
   "cell_type": "code",
   "execution_count": 10,
   "metadata": {},
   "outputs": [
    {
     "name": "stdout",
     "output_type": "stream",
     "text": [
      "нет\n"
     ]
    }
   ],
   "source": [
    "# будет работать только на строках с четным количеством символов\n",
    "def polin(s):\n",
    "    k = list(s)\n",
    "    polindr = True\n",
    "    for i in range(round(len(k)/2)):\n",
    "        if k[i] != k[-i]:\n",
    "            polindr = False   \n",
    "    if polindr == True:\n",
    "        print('да')\n",
    "    else:\n",
    "        print('нет')\n",
    "\n",
    "polin('zzzвz')"
   ]
  },
  {
   "cell_type": "code",
   "execution_count": 16,
   "metadata": {},
   "outputs": [
    {
     "data": {
      "text/plain": [
       "True"
      ]
     },
     "execution_count": 16,
     "metadata": {},
     "output_type": "execute_result"
    }
   ],
   "source": [
    "def is_palindrom(word):\n",
    "    return word.lower() == word[::-1].lower()\n",
    "\n",
    "is_palindrom('Радар')"
   ]
  },
  {
   "cell_type": "code",
   "execution_count": 18,
   "metadata": {},
   "outputs": [
    {
     "data": {
      "text/plain": [
       "False"
      ]
     },
     "execution_count": 18,
     "metadata": {},
     "output_type": "execute_result"
    }
   ],
   "source": [
    "is_palindrome = lambda word: True if list(word) == list(reversed(word)) else False\n",
    "is_palindrome(word)"
   ]
  },
  {
   "cell_type": "markdown",
   "metadata": {},
   "source": [
    "### Функция, которая будет находить среднюю цену за объекты по произвольному набору данных"
   ]
  },
  {
   "cell_type": "code",
   "execution_count": 17,
   "metadata": {},
   "outputs": [],
   "source": [
    "dict_1 = {'flat_1': 10500, 'flat_2': 11000}\n",
    "dict_2 = {'flat_3': 15000}\n",
    "dict_3 = {'flat_4': 6500, 'flat_5': 7000, 'flat_6': 6000}   "
   ]
  },
  {
   "cell_type": "code",
   "execution_count": 24,
   "metadata": {},
   "outputs": [
    {
     "data": {
      "text/plain": [
       "15000.0"
      ]
     },
     "execution_count": 24,
     "metadata": {},
     "output_type": "execute_result"
    }
   ],
   "source": [
    "def average_flat_price(*districts):\n",
    "#     print(districts)\n",
    "    prices = sum([list(district.values()) for district in districts], [])\n",
    "    return round(sum(prices) / len(prices), 2)\n",
    "\n",
    "\n",
    "average_flat_price(dict_2)\n",
    "\n"
   ]
  },
  {
   "cell_type": "code",
   "execution_count": 26,
   "metadata": {},
   "outputs": [
    {
     "data": {
      "text/plain": [
       "9333.333333333334"
      ]
     },
     "execution_count": 26,
     "metadata": {},
     "output_type": "execute_result"
    }
   ],
   "source": [
    "def adder(*nums):\n",
    "    slov = {}\n",
    "    for i in nums:\n",
    "        slov = {**slov, **i}\n",
    "   \n",
    "    summa = 0\n",
    "    for name, values in slov.items():\n",
    "        summa += values\n",
    "    return summa / len(slov)\n",
    "\n",
    "adder(dict_1, dict_2, dict_3)"
   ]
  },
  {
   "cell_type": "code",
   "execution_count": 30,
   "metadata": {},
   "outputs": [
    {
     "data": {
      "text/plain": [
       "10750.0"
      ]
     },
     "execution_count": 30,
     "metadata": {},
     "output_type": "execute_result"
    }
   ],
   "source": [
    "def mean_flat_price(*districts):\n",
    "    prices = 0\n",
    "    count = 0\n",
    "    for district in districts:\n",
    "#         print(district)\n",
    "        prices += sum(district.values())\n",
    "        count += len(district.values())\n",
    "    return prices / count\n",
    "\n",
    "mean_flat_price(dict_1)"
   ]
  },
  {
   "cell_type": "markdown",
   "metadata": {},
   "source": [
    "### Функция, которая посчитает среднюю цену за каждую категорию товаров"
   ]
  },
  {
   "cell_type": "code",
   "execution_count": 31,
   "metadata": {},
   "outputs": [],
   "source": [
    "prices = [[100, 200, 400, 600], [200, 500], [100, 200, 100, 100], [800, 900]]"
   ]
  },
  {
   "cell_type": "code",
   "execution_count": 32,
   "metadata": {},
   "outputs": [
    {
     "data": {
      "text/plain": [
       "325.0"
      ]
     },
     "execution_count": 32,
     "metadata": {},
     "output_type": "execute_result"
    }
   ],
   "source": [
    "def sred(prices):\n",
    "    for i in prices:\n",
    "        return sum(i) / len(i)\n",
    "\n",
    "prices = [[100, 200, 400, 600], [200, 500], [100, 200, 100, 100], [800, 900]]\n",
    "sred(prices)"
   ]
  },
  {
   "cell_type": "code",
   "execution_count": 33,
   "metadata": {},
   "outputs": [
    {
     "data": {
      "text/plain": [
       "[325.0, 350.0, 125.0, 850.0]"
      ]
     },
     "execution_count": 33,
     "metadata": {},
     "output_type": "execute_result"
    }
   ],
   "source": [
    "[sum(category) / len(category) for category in prices]"
   ]
  },
  {
   "cell_type": "code",
   "execution_count": 36,
   "metadata": {},
   "outputs": [
    {
     "data": {
      "text/plain": [
       "[325.0, 350.0, 125.0, 850.0]"
      ]
     },
     "execution_count": 36,
     "metadata": {},
     "output_type": "execute_result"
    }
   ],
   "source": [
    "prices = [[100, 200, 400, 600], [200, 500], [100, 200, 100, 100], [800, 900]]\n",
    "def mean_price(categories):\n",
    "    result = []\n",
    "    for category in categories:\n",
    "        result.append(sum(category)/len(category))\n",
    "    return result\n",
    "mean_price(prices)"
   ]
  },
  {
   "cell_type": "code",
   "execution_count": 38,
   "metadata": {},
   "outputs": [
    {
     "data": {
      "text/plain": [
       "[325.0, 350.0, 125.0, 850.0]"
      ]
     },
     "execution_count": 38,
     "metadata": {},
     "output_type": "execute_result"
    }
   ],
   "source": [
    "list(map(lambda category: sum(category)/len(category), prices))"
   ]
  },
  {
   "cell_type": "code",
   "execution_count": null,
   "metadata": {},
   "outputs": [],
   "source": []
  },
  {
   "cell_type": "code",
   "execution_count": 39,
   "metadata": {},
   "outputs": [],
   "source": [
    "students_list = [\n",
    "    {\"name\": \"Василий\", \"surname\": \"Теркин\", \"gender\": \"м\", \"program_exp\": True, \"grade\": [8, 8, 9, 10, 9], \"exam\": 8},\n",
    "    {\"name\": \"Мария\", \"surname\": \"Павлова\", \"gender\": \"ж\", \"program_exp\": True, \"grade\": [7, 8, 9, 7, 9], \"exam\": 9},\n",
    "    {\"name\": \"Ирина\", \"surname\": \"Андреева\", \"gender\": \"ж\", \"program_exp\": False, \"grade\": [10, 9, 8, 10, 10], \"exam\": 7},\n",
    "    {\"name\": \"Татьяна\", \"surname\": \"Сидорова\", \"gender\": \"ж\", \"program_exp\": False, \"grade\": [7, 8, 8, 9, 8],\"exam\": 10},\n",
    "    {\"name\": \"Иван\", \"surname\": \"Васильев\", \"gender\": \"м\", \"program_exp\": True, \"grade\": [9, 8, 9, 6, 9], \"exam\": 5},\n",
    "    {\"name\": \"Роман\", \"surname\": \"Золотарев\", \"gender\": \"м\", \"program_exp\": False, \"grade\": [8, 9, 9, 6, 9], \"exam\": 6}\n",
    "]"
   ]
  },
  {
   "cell_type": "code",
   "execution_count": 52,
   "metadata": {},
   "outputs": [
    {
     "name": "stdout",
     "output_type": "stream",
     "text": [
      "7.5\n",
      "7.67\n",
      "7.33\n",
      "6.0\n",
      "9.0\n",
      "8.5\n",
      "6.5\n",
      "8.67\n",
      "6.33\n",
      "8.67\n",
      "6.33\n"
     ]
    }
   ],
   "source": [
    "def get_avg_exam_grade(students, exp=None, gender=None):\n",
    "    sum_ex = 0\n",
    "    count = 0\n",
    "    for student in students:\n",
    "        if (student['program_exp'] == exp or exp is None) and (student['gender'] == gender or gender is None):\n",
    "            sum_ex += student['exam']\n",
    "            count += 1\n",
    "    return round(sum_ex / count, 2)\n"
   ]
  },
  {
   "cell_type": "code",
   "execution_count": 49,
   "metadata": {},
   "outputs": [
    {
     "name": "stdout",
     "output_type": "stream",
     "text": [
      "8.43\n",
      "8.53\n",
      "8.33\n"
     ]
    }
   ],
   "source": [
    "def get_avg_hw_grade(students, exp=None):\n",
    "    sum_hw = 0\n",
    "    count = 0\n",
    "    for student in students:\n",
    "        if student['program_exp'] == exp or exp is None:\n",
    "            sum_hw += sum(student['grade']) / len(student['grade'])\n",
    "            count += 1\n",
    "    return round(sum_hw / count, 2)"
   ]
  },
  {
   "cell_type": "code",
   "execution_count": 54,
   "metadata": {},
   "outputs": [
    {
     "name": "stdout",
     "output_type": "stream",
     "text": [
      "Введите команду1\n",
      "7.5\n",
      "Введите команду2\n",
      "7.67\n",
      "Введите команду3\n",
      "7.33\n",
      "Введите командуq\n"
     ]
    }
   ],
   "source": [
    "def main(students):\n",
    "    while True:\n",
    "        user_input = input('Введите команду')\n",
    "        if user_input == '1':\n",
    "            print(get_avg_exam_grade(students))\n",
    "        elif user_input == '2':\n",
    "            print(get_avg_exam_grade(students, False))\n",
    "        elif user_input == '3':\n",
    "            print(get_avg_exam_grade(students, True))\n",
    "        elif user_input == 'q':\n",
    "            break\n",
    "            \n",
    "            \n",
    "main(students_list)"
   ]
  },
  {
   "cell_type": "code",
   "execution_count": null,
   "metadata": {},
   "outputs": [],
   "source": []
  }
 ],
 "metadata": {
  "kernelspec": {
   "display_name": "Python 3",
   "language": "python",
   "name": "python3"
  },
  "language_info": {
   "codemirror_mode": {
    "name": "ipython",
    "version": 3
   },
   "file_extension": ".py",
   "mimetype": "text/x-python",
   "name": "python",
   "nbconvert_exporter": "python",
   "pygments_lexer": "ipython3",
   "version": "3.8.5"
  }
 },
 "nbformat": 4,
 "nbformat_minor": 4
}
Collapse

