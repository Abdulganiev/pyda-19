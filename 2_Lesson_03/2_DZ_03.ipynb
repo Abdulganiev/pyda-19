{
 "cells": [
  {
   "cell_type": "markdown",
   "metadata": {},
   "source": [
    "### Задание 1\n",
    "Скачайте с сайта https://grouplens.org/datasets/movielens/ датасет любого размера. Определите какому фильму было выставлено больше всего оценок 5.0.\n"
   ]
  },
  {
   "cell_type": "code",
   "execution_count": 1,
   "metadata": {},
   "outputs": [],
   "source": [
    "import pandas as pd"
   ]
  },
  {
   "cell_type": "code",
   "execution_count": 74,
   "metadata": {},
   "outputs": [],
   "source": [
    "data_movies = pd.read_csv(r'.\\ml-20m\\movies.csv')\n",
    "data_ratings = pd.read_csv(r'.\\ml-20m\\ratings.csv')"
   ]
  },
  {
   "cell_type": "code",
   "execution_count": 91,
   "metadata": {},
   "outputs": [],
   "source": [
    "data_joined = data_ratings.merge(data_movies, on='movieId', how='left')"
   ]
  },
  {
   "cell_type": "code",
   "execution_count": 96,
   "metadata": {},
   "outputs": [],
   "source": [
    "data_ratings_5 = data_joined[data_joined['rating']==5]"
   ]
  },
  {
   "cell_type": "code",
   "execution_count": 109,
   "metadata": {},
   "outputs": [
    {
     "data": {
      "text/html": [
       "<div>\n",
       "<style scoped>\n",
       "    .dataframe tbody tr th:only-of-type {\n",
       "        vertical-align: middle;\n",
       "    }\n",
       "\n",
       "    .dataframe tbody tr th {\n",
       "        vertical-align: top;\n",
       "    }\n",
       "\n",
       "    .dataframe thead th {\n",
       "        text-align: right;\n",
       "    }\n",
       "</style>\n",
       "<table border=\"1\" class=\"dataframe\">\n",
       "  <thead>\n",
       "    <tr style=\"text-align: right;\">\n",
       "      <th></th>\n",
       "      <th>userId</th>\n",
       "      <th>movieId</th>\n",
       "      <th>rating</th>\n",
       "      <th>timestamp</th>\n",
       "      <th>genres</th>\n",
       "    </tr>\n",
       "    <tr>\n",
       "      <th>title</th>\n",
       "      <th></th>\n",
       "      <th></th>\n",
       "      <th></th>\n",
       "      <th></th>\n",
       "      <th></th>\n",
       "    </tr>\n",
       "  </thead>\n",
       "  <tbody>\n",
       "    <tr>\n",
       "      <th>Pulp Fiction (1994)</th>\n",
       "      <td>67310</td>\n",
       "      <td>67310</td>\n",
       "      <td>67310</td>\n",
       "      <td>67310</td>\n",
       "      <td>67310</td>\n",
       "    </tr>\n",
       "  </tbody>\n",
       "</table>\n",
       "</div>"
      ],
      "text/plain": [
       "                     userId  movieId  rating  timestamp  genres\n",
       "title                                                          \n",
       "Pulp Fiction (1994)   67310    67310   67310      67310   67310"
      ]
     },
     "execution_count": 109,
     "metadata": {},
     "output_type": "execute_result"
    }
   ],
   "source": [
    "data_ratings_5.groupby('title').count().sort_values('rating', ascending=False).head(1)"
   ]
  },
  {
   "cell_type": "markdown",
   "metadata": {},
   "source": [
    "### Задание 2\n",
    "По данным файла power.csv посчитайте суммарное потребление стран Прибалтики (Латвия, Литва и Эстония) категорий 4, 12 и 21 за период с 2005 по 2010 года. Не учитывайте в расчетах отрицательные значения quantity."
   ]
  },
  {
   "cell_type": "code",
   "execution_count": 8,
   "metadata": {},
   "outputs": [],
   "source": [
    "data_energy_consumption = pd.read_csv('power.csv')"
   ]
  },
  {
   "cell_type": "code",
   "execution_count": 64,
   "metadata": {},
   "outputs": [],
   "source": [
    "filtered_countries_quantity = data_energy_consumption[data_energy_consumption['quantity']>0]\n",
    "\n",
    "filtered_countries_country = filtered_countries_quantity[(filtered_countries_quantity['country']=='Latvia')|\n",
    "                                                         (filtered_countries_quantity['country']=='Lithuania')|\n",
    "                                                         (filtered_countries_quantity['country']=='Estonia')]\n",
    "\n",
    "filtered_countries_category = filtered_countries_country[(filtered_countries_country['category']==4)|\n",
    "                                                         (filtered_countries_country['category']==12)|\n",
    "                                                         (filtered_countries_country['category']==21)]\n",
    "\n",
    "filtered_countries_yyyy = filtered_countries_category[(filtered_countries_category['year']>2004)&\n",
    "                                                      (filtered_countries_category['year']<2011)]"
   ]
  },
  {
   "cell_type": "code",
   "execution_count": 63,
   "metadata": {},
   "outputs": [
    {
     "data": {
      "text/plain": [
       "240580.0"
      ]
     },
     "execution_count": 63,
     "metadata": {},
     "output_type": "execute_result"
    }
   ],
   "source": [
    "filtered_countries_yyyy['quantity'].sum()"
   ]
  },
  {
   "cell_type": "code",
   "execution_count": 72,
   "metadata": {},
   "outputs": [],
   "source": [
    "filtered_countries_Pribaltika = data_energy_consumption[(data_energy_consumption['quantity']>0)\n",
    "                                                        &\n",
    "                                                        ((data_energy_consumption['year']>2004)&\n",
    "                                                        (data_energy_consumption['year']<2011))\n",
    "                                                        &\n",
    "                                                        ((data_energy_consumption['country']=='Latvia')|\n",
    "                                                        (data_energy_consumption['country']=='Lithuania')|\n",
    "                                                        (data_energy_consumption['country']=='Estonia'))\n",
    "                                                        &\n",
    "                                                        ((data_energy_consumption['category']==4)|\n",
    "                                                        (data_energy_consumption['category']==12)|\n",
    "                                                        (data_energy_consumption['category']==21))]"
   ]
  },
  {
   "cell_type": "code",
   "execution_count": 73,
   "metadata": {},
   "outputs": [
    {
     "data": {
      "text/plain": [
       "240580.0"
      ]
     },
     "execution_count": 73,
     "metadata": {},
     "output_type": "execute_result"
    }
   ],
   "source": [
    "filtered_countries_Pribaltika['quantity'].sum()"
   ]
  },
  {
   "cell_type": "code",
   "execution_count": 118,
   "metadata": {},
   "outputs": [
    {
     "data": {
      "text/plain": [
       "240580.0"
      ]
     },
     "execution_count": 118,
     "metadata": {},
     "output_type": "execute_result"
    }
   ],
   "source": [
    "data_energy_consumption[\n",
    "                        (data_energy_consumption['quantity']>0)\n",
    "                        &\n",
    "                       ((data_energy_consumption['year']>2004)&\n",
    "                        (data_energy_consumption['year']<2011))\n",
    "                        &\n",
    "                       ((data_energy_consumption['country']=='Latvia')|\n",
    "                        (data_energy_consumption['country']=='Lithuania')|\n",
    "                        (data_energy_consumption['country']=='Estonia'))\n",
    "                        &\n",
    "                       ((data_energy_consumption['category']==4)|\n",
    "                        (data_energy_consumption['category']==12)|\n",
    "                        (data_energy_consumption['category']==21))\n",
    "                       ]['quantity'].sum()"
   ]
  },
  {
   "cell_type": "markdown",
   "metadata": {},
   "source": [
    "### Задание 3\n",
    "Выберите страницу любого сайта с табличными данными. Импортируйте таблицы в pandas dataframe.\n",
    "Примеры страниц (необязательно брать именно эти):\n",
    "\n",
    "https://fortrader.org/quotes\n",
    "\n",
    "https://www.finanz.ru/valyuty/v-realnom-vremeni\n",
    "\n",
    "https://gks.ru/bgd/free/B04_03/IssWWW.exe/Stg/d02/37.htm\n"
   ]
  },
  {
   "cell_type": "code",
   "execution_count": 128,
   "metadata": {},
   "outputs": [
    {
     "data": {
      "text/html": [
       "<div>\n",
       "<style scoped>\n",
       "    .dataframe tbody tr th:only-of-type {\n",
       "        vertical-align: middle;\n",
       "    }\n",
       "\n",
       "    .dataframe tbody tr th {\n",
       "        vertical-align: top;\n",
       "    }\n",
       "\n",
       "    .dataframe thead th {\n",
       "        text-align: right;\n",
       "    }\n",
       "</style>\n",
       "<table border=\"1\" class=\"dataframe\">\n",
       "  <thead>\n",
       "    <tr style=\"text-align: right;\">\n",
       "      <th></th>\n",
       "      <th>Название</th>\n",
       "      <th>Цена</th>\n",
       "      <th>Изменение</th>\n",
       "      <th>Изменение(%)</th>\n",
       "      <th>Обновлено</th>\n",
       "    </tr>\n",
       "  </thead>\n",
       "  <tbody>\n",
       "    <tr>\n",
       "      <th>0</th>\n",
       "      <td>ВТБ Акции ВТБ</td>\n",
       "      <td>0.044015</td>\n",
       "      <td>-0.000005</td>\n",
       "      <td>-0.011358</td>\n",
       "      <td>NaN</td>\n",
       "    </tr>\n",
       "    <tr>\n",
       "      <th>1</th>\n",
       "      <td>Газпром Акции газпрома</td>\n",
       "      <td>222.60</td>\n",
       "      <td>-0.270000</td>\n",
       "      <td>-0.120000</td>\n",
       "      <td>NaN</td>\n",
       "    </tr>\n",
       "    <tr>\n",
       "      <th>2</th>\n",
       "      <td>Лукойл Акции Лукойл</td>\n",
       "      <td>6 015.0</td>\n",
       "      <td>-5.000000</td>\n",
       "      <td>-0.100000</td>\n",
       "      <td>NaN</td>\n",
       "    </tr>\n",
       "    <tr>\n",
       "      <th>3</th>\n",
       "      <td>Роснефть Акции Роснефти</td>\n",
       "      <td>540.15</td>\n",
       "      <td>0.000000</td>\n",
       "      <td>0.000000</td>\n",
       "      <td>NaN</td>\n",
       "    </tr>\n",
       "    <tr>\n",
       "      <th>4</th>\n",
       "      <td>Сбербанк Акции Сбербанка</td>\n",
       "      <td>281.75</td>\n",
       "      <td>0.000000</td>\n",
       "      <td>0.000000</td>\n",
       "      <td>NaN</td>\n",
       "    </tr>\n",
       "  </tbody>\n",
       "</table>\n",
       "</div>"
      ],
      "text/plain": [
       "                   Название      Цена  Изменение  Изменение(%)  Обновлено\n",
       "0             ВТБ Акции ВТБ  0.044015  -0.000005     -0.011358        NaN\n",
       "1    Газпром Акции газпрома    222.60  -0.270000     -0.120000        NaN\n",
       "2       Лукойл Акции Лукойл   6 015.0  -5.000000     -0.100000        NaN\n",
       "3   Роснефть Акции Роснефти    540.15   0.000000      0.000000        NaN\n",
       "4  Сбербанк Акции Сбербанка    281.75   0.000000      0.000000        NaN"
      ]
     },
     "execution_count": 128,
     "metadata": {},
     "output_type": "execute_result"
    }
   ],
   "source": [
    "data_stocks_rus = pd.read_html('https://fortrader.org/quotes')[3]\n",
    "data_stocks_rus.head()"
   ]
  },
  {
   "cell_type": "code",
   "execution_count": 129,
   "metadata": {},
   "outputs": [
    {
     "data": {
      "text/html": [
       "<div>\n",
       "<style scoped>\n",
       "    .dataframe tbody tr th:only-of-type {\n",
       "        vertical-align: middle;\n",
       "    }\n",
       "\n",
       "    .dataframe tbody tr th {\n",
       "        vertical-align: top;\n",
       "    }\n",
       "\n",
       "    .dataframe thead th {\n",
       "        text-align: right;\n",
       "    }\n",
       "</style>\n",
       "<table border=\"1\" class=\"dataframe\">\n",
       "  <thead>\n",
       "    <tr style=\"text-align: right;\">\n",
       "      <th></th>\n",
       "      <th>Название</th>\n",
       "      <th>Цена</th>\n",
       "      <th>Изменение</th>\n",
       "      <th>Изменение(%)</th>\n",
       "      <th>Обновлено</th>\n",
       "    </tr>\n",
       "  </thead>\n",
       "  <tbody>\n",
       "    <tr>\n",
       "      <th>0</th>\n",
       "      <td>Google Акции Google (GOOGL)</td>\n",
       "      <td>2 235.01</td>\n",
       "      <td>-9.61</td>\n",
       "      <td>-0.43</td>\n",
       "      <td>NaN</td>\n",
       "    </tr>\n",
       "    <tr>\n",
       "      <th>1</th>\n",
       "      <td>IBM Акции IBM (IBM)</td>\n",
       "      <td>134.48</td>\n",
       "      <td>-0.11</td>\n",
       "      <td>-0.08</td>\n",
       "      <td>NaN</td>\n",
       "    </tr>\n",
       "    <tr>\n",
       "      <th>2</th>\n",
       "      <td>Microsoft Акции Майкрософт (MSFT)</td>\n",
       "      <td>256.05</td>\n",
       "      <td>0.14</td>\n",
       "      <td>0.05</td>\n",
       "      <td>NaN</td>\n",
       "    </tr>\n",
       "    <tr>\n",
       "      <th>3</th>\n",
       "      <td>Apple Акции Apple (AAPL)</td>\n",
       "      <td>131.32</td>\n",
       "      <td>0.08</td>\n",
       "      <td>0.06</td>\n",
       "      <td>NaN</td>\n",
       "    </tr>\n",
       "    <tr>\n",
       "      <th>4</th>\n",
       "      <td>Yandex Акции яндекса</td>\n",
       "      <td>62.42</td>\n",
       "      <td>-0.43</td>\n",
       "      <td>-0.68</td>\n",
       "      <td>NaN</td>\n",
       "    </tr>\n",
       "  </tbody>\n",
       "</table>\n",
       "</div>"
      ],
      "text/plain": [
       "                            Название      Цена  Изменение  Изменение(%)  \\\n",
       "0        Google Акции Google (GOOGL)  2 235.01      -9.61         -0.43   \n",
       "1                IBM Акции IBM (IBM)    134.48      -0.11         -0.08   \n",
       "2  Microsoft Акции Майкрософт (MSFT)    256.05       0.14          0.05   \n",
       "3           Apple Акции Apple (AAPL)    131.32       0.08          0.06   \n",
       "4               Yandex Акции яндекса     62.42      -0.43         -0.68   \n",
       "\n",
       "   Обновлено  \n",
       "0        NaN  \n",
       "1        NaN  \n",
       "2        NaN  \n",
       "3        NaN  \n",
       "4        NaN  "
      ]
     },
     "execution_count": 129,
     "metadata": {},
     "output_type": "execute_result"
    }
   ],
   "source": [
    "data_stocks_america = pd.read_html('https://fortrader.org/quotes')[4]\n",
    "data_stocks_america.head()"
   ]
  }
 ],
 "metadata": {
  "kernelspec": {
   "display_name": "Python 3",
   "language": "python",
   "name": "python3"
  },
  "language_info": {
   "codemirror_mode": {
    "name": "ipython",
    "version": 3
   },
   "file_extension": ".py",
   "mimetype": "text/x-python",
   "name": "python",
   "nbconvert_exporter": "python",
   "pygments_lexer": "ipython3",
   "version": "3.8.5"
  }
 },
 "nbformat": 4,
 "nbformat_minor": 4
}
